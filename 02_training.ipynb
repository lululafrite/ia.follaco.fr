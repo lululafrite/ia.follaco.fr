{
 "cells": [
  {
   "cell_type": "markdown",
   "id": "b23d9d70",
   "metadata": {},
   "source": [
    "# ✨ Préparation des features pour modèles ML\n",
    "Ce notebook reproduit étape par étape le script `prepare_features.py`, avec une explication détaillée de chaque transformation.\n",
    "\n",
    "## Objectifs\n",
    "- Nettoyage, vectorisation, et encodage des variables\n",
    "- Création des matrices d'entrée `X` et des cibles `y`\n",
    "- Sauvegarde des features pour l'entraînement de modèles"
   ]
  },
  {
   "cell_type": "markdown",
   "id": "63fcf74b",
   "metadata": {},
   "source": [
    "## 📦 Import des bibliothèques nécessaires\n",
    "On importe ici les librairies indispensables pour manipuler les données (Pandas, NumPy), vectoriser du texte (TfidfVectorizer), encoder les variables catégorielles (OneHotEncoder), et sauvegarder les objets pour les réutiliser dans l'entraînement.\n",
    "\n",
    "**Choix des bibliothèques et raisons ?**\n",
    "\n",
    "- **`pandas`** : pour la manipulation tabulaire efficace des données structurées (chargement CSV, nettoyage, sélection).\n",
    "- **`numpy`** : pour la manipulation de vecteurs et matrices numériques, conversion de types, calculs rapides.\n",
    "- **`os`** : permet de construire des chemins de fichiers dynamiques et compatibles tous systèmes (`os.path.join()`).\n",
    "- **`sklearn.feature_extraction.text.TfidfVectorizer`** : convertit le texte brut en vecteurs numériques pondérés, très adapté pour des modèles ML supervisés sur des données textuelles.\n",
    "- **`sklearn.preprocessing.OneHotEncoder`** : encode les variables catégorielles (comme le niveau vendeur) en vecteurs binaires, indispensable pour les algorithmes ML traditionnels.\n",
    "- **`scipy.sparse`** : stocke efficacement en mémoire les matrices creuses générées par le TF-IDF ou le OneHot (économie mémoire et rapidité).\n",
    "- **`joblib`** : bibliothèque optimisée pour sérialiser (sauvegarder/recharger) les objets Python lourds, comme les modèles entraînés ou les preprocessors."
   ]
  },
  {
   "cell_type": "code",
   "execution_count": 1,
   "id": "bdf1fd00",
   "metadata": {},
   "outputs": [],
   "source": [
    "import pandas as pd\n",
    "import numpy as np\n",
    "import joblib\n",
    "from sklearn.feature_extraction.text import TfidfVectorizer\n",
    "from sklearn.preprocessing import OneHotEncoder\n",
    "from scipy import sparse\n",
    "import os"
   ]
  },
  {
   "cell_type": "markdown",
   "id": "e78a5cb8",
   "metadata": {},
   "source": [
    "## 📂 Chargement du dataset Fiverr nettoyé\n",
    "Nous utilisons le fichier CSV issu de l'ingestion précédente. \n",
    "**Encodage 'latin-1'** choisi pour éviter les erreurs liées aux caractères spéciaux.  \n",
    "Cette étape consiste à **importer les données nettoyées** depuis un fichier `.csv`, afin de pouvoir les manipuler avec `pandas`. Elle intervient **en tout début de pipeline**, juste après l'ingestion et le nettoyage initial, car toutes les étapes suivantes (vectorisation, encodage, prédiction) nécessitent un DataFrame propre et chargé en mémoire.\n",
    "\n",
    "### Pourquoi cette étape maintenant ?\n",
    "- Elle constitue le point d’entrée du pipeline de **prétraitement et d’inférence**.\n",
    "- C’est à partir de ce dataset que nous allons appliquer les traitements (vectorisation, encodage), entraîner ou utiliser les modèles, et produire les prédictions.\n",
    "- Il est important que cette étape soit réalisée **avant tout calcul ou transformation**, pour garantir que les données soient bien disponibles dans leur état attendu.\n",
    "\n",
    "### Résultat attendu\n",
    "- Le DataFrame `df` est chargé avec l’ensemble des lignes et colonnes du fichier CSV.\n",
    "- C’est **la base de travail unique** utilisée pour le prétraitement, la vectorisation et les prédictions futures.\n",
    "- On peut ensuite visualiser les premières lignes pour **vérifier visuellement la structure et le contenu**, détecter d’éventuelles erreurs, ou simplement comprendre les données disponibles."
   ]
  },
  {
   "cell_type": "code",
   "execution_count": 5,
   "id": "9f1abdaa",
   "metadata": {},
   "outputs": [
    {
     "data": {
      "text/html": [
       "<div>\n",
       "<style scoped>\n",
       "    .dataframe tbody tr th:only-of-type {\n",
       "        vertical-align: middle;\n",
       "    }\n",
       "\n",
       "    .dataframe tbody tr th {\n",
       "        vertical-align: top;\n",
       "    }\n",
       "\n",
       "    .dataframe thead th {\n",
       "        text-align: right;\n",
       "    }\n",
       "</style>\n",
       "<table border=\"1\" class=\"dataframe\">\n",
       "  <thead>\n",
       "    <tr style=\"text-align: right;\">\n",
       "      <th></th>\n",
       "      <th>Title</th>\n",
       "      <th>Seller Level</th>\n",
       "      <th>Average Rating</th>\n",
       "      <th>Number of Reviewers</th>\n",
       "      <th>Price (USD)</th>\n",
       "    </tr>\n",
       "  </thead>\n",
       "  <tbody>\n",
       "    <tr>\n",
       "      <th>0</th>\n",
       "      <td>I will do excel formulas, vba macros, charts, ...</td>\n",
       "      <td>Level 2 Seller</td>\n",
       "      <td>5.0</td>\n",
       "      <td>56</td>\n",
       "      <td>41.433333</td>\n",
       "    </tr>\n",
       "    <tr>\n",
       "      <th>1</th>\n",
       "      <td>I will do data mining, web scraping, data extr...</td>\n",
       "      <td>Top Rated Seller</td>\n",
       "      <td>5.0</td>\n",
       "      <td>1k+</td>\n",
       "      <td>15.538095</td>\n",
       "    </tr>\n",
       "    <tr>\n",
       "      <th>2</th>\n",
       "      <td>I will do web scraping , data scraping, scrapi...</td>\n",
       "      <td>Level 2 Seller</td>\n",
       "      <td>5.0</td>\n",
       "      <td>63</td>\n",
       "      <td>10.361905</td>\n",
       "    </tr>\n",
       "    <tr>\n",
       "      <th>3</th>\n",
       "      <td>I will do python web scraping , data entry , a...</td>\n",
       "      <td>Level 2 Seller</td>\n",
       "      <td>5.0</td>\n",
       "      <td>266</td>\n",
       "      <td>5.180952</td>\n",
       "    </tr>\n",
       "    <tr>\n",
       "      <th>4</th>\n",
       "      <td>I will data scraping web site scraping and dat...</td>\n",
       "      <td>Level 2 Seller</td>\n",
       "      <td>4.9</td>\n",
       "      <td>275</td>\n",
       "      <td>20.719048</td>\n",
       "    </tr>\n",
       "    <tr>\n",
       "      <th>5</th>\n",
       "      <td>I will do perfect web scraping, data mining fo...</td>\n",
       "      <td>Level 2 Seller</td>\n",
       "      <td>5.0</td>\n",
       "      <td>181</td>\n",
       "      <td>10.361905</td>\n",
       "    </tr>\n",
       "    <tr>\n",
       "      <th>6</th>\n",
       "      <td>I will write web scraper using python for you</td>\n",
       "      <td>Top Rated Seller</td>\n",
       "      <td>5.0</td>\n",
       "      <td>211</td>\n",
       "      <td>51.790476</td>\n",
       "    </tr>\n",
       "    <tr>\n",
       "      <th>7</th>\n",
       "      <td>I will do web scraping, crawling and data mini...</td>\n",
       "      <td>Top Rated Seller</td>\n",
       "      <td>5.0</td>\n",
       "      <td>398</td>\n",
       "      <td>82.861905</td>\n",
       "    </tr>\n",
       "    <tr>\n",
       "      <th>8</th>\n",
       "      <td>I will do website scraping, python scripts aut...</td>\n",
       "      <td>Level 2 Seller</td>\n",
       "      <td>5.0</td>\n",
       "      <td>61</td>\n",
       "      <td>20.719048</td>\n",
       "    </tr>\n",
       "    <tr>\n",
       "      <th>9</th>\n",
       "      <td>I will automate your documents with python scr...</td>\n",
       "      <td>Clients</td>\n",
       "      <td>5.0</td>\n",
       "      <td>16</td>\n",
       "      <td>103.580952</td>\n",
       "    </tr>\n",
       "  </tbody>\n",
       "</table>\n",
       "</div>"
      ],
      "text/plain": [
       "                                               Title      Seller Level  \\\n",
       "0  I will do excel formulas, vba macros, charts, ...    Level 2 Seller   \n",
       "1  I will do data mining, web scraping, data extr...  Top Rated Seller   \n",
       "2  I will do web scraping , data scraping, scrapi...    Level 2 Seller   \n",
       "3  I will do python web scraping , data entry , a...    Level 2 Seller   \n",
       "4  I will data scraping web site scraping and dat...    Level 2 Seller   \n",
       "5  I will do perfect web scraping, data mining fo...    Level 2 Seller   \n",
       "6      I will write web scraper using python for you  Top Rated Seller   \n",
       "7  I will do web scraping, crawling and data mini...  Top Rated Seller   \n",
       "8  I will do website scraping, python scripts aut...    Level 2 Seller   \n",
       "9  I will automate your documents with python scr...           Clients   \n",
       "\n",
       "   Average Rating Number of Reviewers  Price (USD)  \n",
       "0             5.0                  56    41.433333  \n",
       "1             5.0                 1k+    15.538095  \n",
       "2             5.0                  63    10.361905  \n",
       "3             5.0                 266     5.180952  \n",
       "4             4.9                 275    20.719048  \n",
       "5             5.0                 181    10.361905  \n",
       "6             5.0                 211    51.790476  \n",
       "7             5.0                 398    82.861905  \n",
       "8             5.0                  61    20.719048  \n",
       "9             5.0                  16   103.580952  "
      ]
     },
     "execution_count": 5,
     "metadata": {},
     "output_type": "execute_result"
    }
   ],
   "source": [
    "# Chargement du fichier CSV dans un DataFrame pandas\n",
    "\n",
    "df = pd.read_csv(\n",
    "    'data/fiverr_gigs/fiverr-data-gigs-cleaned.csv', # Chemin relatif vers le fichier de données\n",
    "    encoding='latin-1', # Utilisé pour décoder les caractères spéciaux (utile si UTF-8 génère des erreurs, fréquent avec des accents)\n",
    "    low_memory=False # Force pandas à lire tout le fichier avant de deviner les types de colonnes (évite les avertissements ou erreurs)\n",
    ")\n",
    "\n",
    "# Affiche les 10 premières lignes du DataFrame pour en examiner un aperçu\n",
    "df.head(10)"
   ]
  },
  {
   "cell_type": "markdown",
   "id": "d1cf5ca2",
   "metadata": {},
   "source": [
    "## 🧠 Vectorisation du texte (TF-IDF)\n",
    "On transforme la colonne `Title` (texte libre) en vecteurs numériques.\n",
    "\n",
    "**Pourquoi TF-IDF ?**\n",
    "- Représente l'importance des mots dans le corpus\n",
    "- Plus performant qu’un simple comptage (CountVectorizer)\n",
    "- Adapté à des modèles linéaires et arbres de décision"
   ]
  },
  {
   "cell_type": "code",
   "execution_count": null,
   "id": "dcb97bb4",
   "metadata": {},
   "outputs": [],
   "source": [
    "tfidf = TfidfVectorizer(max_features=2000, stop_words='english')\n",
    "tfidf.fit(df['Title'].fillna(''))\n",
    "X_title = tfidf.transform(df['Title'].fillna(''))"
   ]
  },
  {
   "cell_type": "markdown",
   "id": "8d63bf79",
   "metadata": {},
   "source": [
    "## 🔢 Encodage du niveau du vendeur\n",
    "On encode la colonne `Seller Level` (catégorielle) avec un OneHotEncoder.\n",
    "\n",
    "**Pourquoi OneHotEncoder ?**\n",
    "- Convertit chaque niveau en une colonne binaire distincte\n",
    "- Compatible avec la plupart des modèles supervisés\n",
    "\n",
    "On gère également les valeurs inconnues (`handle_unknown='ignore'`)."
   ]
  },
  {
   "cell_type": "code",
   "execution_count": null,
   "id": "a5c058c6",
   "metadata": {},
   "outputs": [],
   "source": [
    "ohe = OneHotEncoder(sparse=True, handle_unknown='ignore')\n",
    "X_level = ohe.fit_transform(df['Seller Level'].fillna('Unknown').values.reshape(-1, 1))"
   ]
  },
  {
   "cell_type": "markdown",
   "id": "58092667",
   "metadata": {},
   "source": [
    "## 🔢 Nombre d’avis (Feature numérique)\n",
    "On utilise la colonne `Number of Reviews` telle quelle, convertie en tableau sparse pour l’empilement final."
   ]
  },
  {
   "cell_type": "code",
   "execution_count": null,
   "id": "0931f45d",
   "metadata": {},
   "outputs": [],
   "source": [
    "X_reviews = sparse.csr_matrix(df['Number of Reviews'].fillna(0).values.reshape(-1, 1))"
   ]
  },
  {
   "cell_type": "markdown",
   "id": "a895345d",
   "metadata": {},
   "source": [
    "## 🧩 Construction de la matrice finale X\n",
    "On combine les trois types de features :\n",
    "- TF-IDF du titre\n",
    "- One-hot du niveau\n",
    "- Nombre d’avis"
   ]
  },
  {
   "cell_type": "code",
   "execution_count": null,
   "id": "afc371ae",
   "metadata": {},
   "outputs": [],
   "source": [
    "X = sparse.hstack([X_title, X_level, X_reviews], format='csr')\n",
    "print(f\"Matrice finale X : {X.shape}\")"
   ]
  },
  {
   "cell_type": "markdown",
   "id": "ca0805e0",
   "metadata": {},
   "source": [
    "## 🎯 Extraction des variables cibles (multi-sortie)\n",
    "Nous voulons prédire :\n",
    "- `Price` (régression)\n",
    "- `Rating` (régression)\n",
    "- `Seller Level` (classification)\n",
    "\n",
    "Les deux premières sont regroupées dans une matrice Y pour un modèle `MultiOutputRegressor`."
   ]
  },
  {
   "cell_type": "code",
   "execution_count": null,
   "id": "ec90e9e0",
   "metadata": {},
   "outputs": [],
   "source": [
    "y_reg = df[['Price', 'Rating']].fillna(0)\n",
    "y_class = df['Seller Level'].fillna('Unknown')"
   ]
  },
  {
   "cell_type": "markdown",
   "id": "1aa6b98b",
   "metadata": {},
   "source": [
    "## 💾 Sauvegarde des objets (modèles et features)\n",
    "**Pourquoi sauvegarder ici ?**\n",
    "- Pour séparer les étapes (prétraitement, entraînement, déploiement)\n",
    "- Pour réutiliser les objets dans `train_multioutput.py` ou `app_gradio.py`"
   ]
  },
  {
   "cell_type": "code",
   "execution_count": null,
   "id": "5f6048a4",
   "metadata": {},
   "outputs": [],
   "source": [
    "joblib.dump(tfidf, 'models/tfidf_vectorizer.pkl')\n",
    "joblib.dump(ohe, 'models/ohe_encoder.pkl')\n",
    "sparse.save_npz('data/X_features.npz', X)\n",
    "y_reg.to_csv('data/y_reg.csv', index=False)\n",
    "y_class.to_csv('data/y_class.csv', index=False)"
   ]
  }
 ],
 "metadata": {
  "kernelspec": {
   "display_name": ".venv",
   "language": "python",
   "name": "python3"
  },
  "language_info": {
   "codemirror_mode": {
    "name": "ipython",
    "version": 3
   },
   "file_extension": ".py",
   "mimetype": "text/x-python",
   "name": "python",
   "nbconvert_exporter": "python",
   "pygments_lexer": "ipython3",
   "version": "3.11.9"
  }
 },
 "nbformat": 4,
 "nbformat_minor": 5
}
