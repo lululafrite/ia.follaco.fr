{
 "cells": [
  {
   "cell_type": "code",
   "execution_count": 1,
   "id": "5a5b01d0",
   "metadata": {},
   "outputs": [
    {
     "name": "stderr",
     "output_type": "stream",
     "text": [
      "c:\\wamp64\\www\\ia.follaco.fr\\.venv\\lib\\site-packages\\gradio_client\\documentation.py:106: UserWarning: Could not get documentation group for <class 'gradio.mix.Parallel'>: No known documentation group for module 'gradio.mix'\n",
      "  warnings.warn(f\"Could not get documentation group for {cls}: {exc}\")\n",
      "c:\\wamp64\\www\\ia.follaco.fr\\.venv\\lib\\site-packages\\gradio_client\\documentation.py:106: UserWarning: Could not get documentation group for <class 'gradio.mix.Series'>: No known documentation group for module 'gradio.mix'\n",
      "  warnings.warn(f\"Could not get documentation group for {cls}: {exc}\")\n"
     ]
    },
    {
     "name": "stdout",
     "output_type": "stream",
     "text": [
      "Running on local URL:  http://127.0.0.1:7860\n",
      "\n",
      "To create a public link, set `share=True` in `launch()`.\n"
     ]
    },
    {
     "data": {
      "text/html": [
       "<div><iframe src=\"http://127.0.0.1:7860/\" width=\"100%\" height=\"500\" allow=\"autoplay; camera; microphone; clipboard-read; clipboard-write;\" frameborder=\"0\" allowfullscreen></iframe></div>"
      ],
      "text/plain": [
       "<IPython.core.display.HTML object>"
      ]
     },
     "metadata": {},
     "output_type": "display_data"
    },
    {
     "data": {
      "text/plain": []
     },
     "execution_count": 1,
     "metadata": {},
     "output_type": "execute_result"
    },
    {
     "name": "stdout",
     "output_type": "stream",
     "text": [
      "IMPORTANT: You are using gradio version 3.39.0, however version 4.44.1 is available, please upgrade.\n",
      "--------\n"
     ]
    }
   ],
   "source": [
    "# 📘 07_app.ipynb — Application Gradio finale\n",
    "\n",
    "import gradio as gr\n",
    "import pandas as pd\n",
    "import os\n",
    "from predict import predict_price, predict_tranche  # doit être dans le même dossier ou accessible dans PYTHONPATH\n",
    "\n",
    "# 📂 Emplacement du fichier de log\n",
    "LOG_PATH = \"flagged/log.csv\"\n",
    "\n",
    "# 🔸 Niveaux prédéfinis de fiabilité (%)\n",
    "choices = {\n",
    "    \"Acceptable\": 80,\n",
    "    \"Moyenne\": 85,\n",
    "    \"Bonne\": 90,\n",
    "    \"Très Bonne\": 96,\n",
    "    \"Excellente\": 99\n",
    "}\n",
    "\n",
    "# 🔍 Fonction principale de prédiction\n",
    "def faire_une_prediction(description, niveau, use_predefined, fiabilite_percent, fiabilite_choix):\n",
    "    fiabilite = (choices[fiabilite_choix] if use_predefined else fiabilite_percent) / 100\n",
    "    try:\n",
    "        prix = predict_price(description, fiabilite)\n",
    "        tranche = predict_tranche(description, fiabilite)\n",
    "        return round(prix, 2), tranche\n",
    "    except Exception as e:\n",
    "        return f\"Erreur : {str(e)}\", \"\"\n",
    "\n",
    "# 📝 Fonction d'enregistrement dans le fichier log\n",
    "def enregistrer_log(description, niveau, use_predefined, fiabilite_percent, fiabilite_choix, prix, tranche):\n",
    "    fiabilite = choices[fiabilite_choix] if use_predefined else fiabilite_percent\n",
    "    log_data = {\n",
    "        \"Description\": description,\n",
    "        \"Niveau\": niveau,\n",
    "        \"Fiabilité (%)\": fiabilite,\n",
    "        \"Prix prédit (€)\": prix,\n",
    "        \"Tranche prédite\": tranche\n",
    "    }\n",
    "\n",
    "    df_log = pd.DataFrame([log_data])\n",
    "    os.makedirs(os.path.dirname(LOG_PATH), exist_ok=True)\n",
    "    if os.path.exists(LOG_PATH):\n",
    "        df_log.to_csv(LOG_PATH, mode=\"a\", index=False, header=False)\n",
    "    else:\n",
    "        df_log.to_csv(LOG_PATH, index=False)\n",
    "\n",
    "    return \"✅ Signalement enregistré avec succès.\"\n",
    "\n",
    "# 🖥️ Interface utilisateur Gradio\n",
    "with gr.Blocks() as iface:\n",
    "    gr.Markdown(\"\"\"\n",
    "    ## 🎯 Application de prédiction de prix Fiverr\n",
    "    Cette application permet d’estimer automatiquement :\n",
    "    - 💰 Le **prix probable** d’un service publié sur Fiverr,\n",
    "    - 📊 Sa **tranche de prix** parmi trois catégories (Basse / Moyenne / Haute).\n",
    "    Elle s’appuie sur un pipeline hybride combinant des embeddings de description et des variables numériques.\n",
    "    \"\"\")\n",
    "\n",
    "    with gr.Row():\n",
    "        with gr.Column(scale=1):\n",
    "            description = gr.Textbox(\n",
    "                label=\"✏️ Titre du service\",\n",
    "                placeholder=\"Ex : Je fais le ménage\",\n",
    "                value=\"Je fais le ménage\"  # Valeur par défaut\n",
    "            )\n",
    "            niveau =  gr.Dropdown(label=\"🔰 Niveau du vendeur\", choices=[\"Beginner\", \"Intermediate\", \"Expert\"], value=\"Beginner\", visible=False)\n",
    "            use_predefined = gr.Checkbox(label=\"🎛️ Utiliser les niveaux prédéfinis de fiabilité\", value=True)\n",
    "\n",
    "            fiabilite_percent = gr.Slider(label=\"Fiabilité (%)\", minimum=0, maximum=100, value=80, step=5, visible=False)\n",
    "            fiabilite_choix = gr.Radio(\n",
    "                label=\"🎚️ Choisissez un niveau de fiabilité\",\n",
    "                choices=list(choices.keys()),\n",
    "                value=\"Bonne\",\n",
    "                visible=True\n",
    "            )\n",
    "\n",
    "            def sync_slider_with_radio(choix):\n",
    "                return gr.update(value=choices[choix])\n",
    "\n",
    "            fiabilite_choix.change(sync_slider_with_radio, inputs=fiabilite_choix, outputs=fiabilite_percent)\n",
    "\n",
    "            def toggle_inputs(use_predef):\n",
    "                return {\n",
    "                    fiabilite_percent: gr.update(visible=not use_predef),\n",
    "                    fiabilite_choix: gr.update(visible=use_predef)\n",
    "                }\n",
    "\n",
    "            use_predefined.change(toggle_inputs, inputs=use_predefined, outputs=[fiabilite_percent, fiabilite_choix])\n",
    "\n",
    "            bouton_predire = gr.Button(\"📈 Estimer le prix\")\n",
    "\n",
    "        with gr.Column(scale=1):\n",
    "            sortie_prix = gr.Textbox(label=\"💰 Prix estimé\")\n",
    "            sortie_tranche = gr.Textbox(label=\"📊 Tranche estimée\")\n",
    "            bouton_signaler = gr.Button(\"🚨 Ajouter au fichier log.csv\")\n",
    "            confirmation = gr.Textbox(label=\"✅ Confirmation\", visible=False)\n",
    "\n",
    "            bouton_predire.click(\n",
    "                fn=faire_une_prediction,\n",
    "                inputs=[description, niveau, use_predefined, fiabilite_percent, fiabilite_choix],\n",
    "                outputs=[sortie_prix, sortie_tranche]\n",
    "            )\n",
    "\n",
    "            bouton_signaler.click(\n",
    "                fn=enregistrer_log,\n",
    "                inputs=[description, niveau, use_predefined, fiabilite_percent, fiabilite_choix, sortie_prix, sortie_tranche],\n",
    "                outputs=confirmation\n",
    "            )\n",
    "\n",
    "# 🚀 Lancement\n",
    "iface.launch()"
   ]
  },
  {
   "cell_type": "code",
   "execution_count": 2,
   "id": "999ba4ac",
   "metadata": {},
   "outputs": [
    {
     "name": "stdout",
     "output_type": "stream",
     "text": [
      "Fiabilité = 0% → Prix prédit = 14.2 €\n",
      "Fiabilité = 10% → Prix prédit = 14.2 €\n",
      "Fiabilité = 20% → Prix prédit = 14.2 €\n",
      "Fiabilité = 30% → Prix prédit = 14.2 €\n",
      "Fiabilité = 40% → Prix prédit = 14.2 €\n",
      "Fiabilité = 50% → Prix prédit = 14.2 €\n",
      "Fiabilité = 60% → Prix prédit = 14.2 €\n",
      "Fiabilité = 70% → Prix prédit = 14.2 €\n",
      "Fiabilité = 80% → Prix prédit = 14.2 €\n",
      "Fiabilité = 81% → Prix prédit = 14.2 €\n",
      "Fiabilité = 82% → Prix prédit = 14.2 €\n",
      "Fiabilité = 83% → Prix prédit = 14.2 €\n",
      "Fiabilité = 84% → Prix prédit = 14.6 €\n",
      "Fiabilité = 85% → Prix prédit = 14.6 €\n",
      "Fiabilité = 90% → Prix prédit = 15.28 €\n",
      "Fiabilité = 91% → Prix prédit = 15.28 €\n",
      "Fiabilité = 92% → Prix prédit = 15.28 €\n",
      "Fiabilité = 93% → Prix prédit = 15.28 €\n",
      "Fiabilité = 94% → Prix prédit = 15.28 €\n",
      "Fiabilité = 95% → Prix prédit = 15.28 €\n",
      "Fiabilité = 96% → Prix prédit = 15.54 €\n",
      "Fiabilité = 97% → Prix prédit = 15.54 €\n",
      "Fiabilité = 98% → Prix prédit = 16.1 €\n",
      "Fiabilité = 99% → Prix prédit = 16.1 €\n",
      "Fiabilité = 100% → Prix prédit = 15.98 €\n"
     ]
    }
   ],
   "source": [
    "# Exemple de description et niveau à tester\n",
    "desc = \"I will design a professional logo for your business\"\n",
    "# niveau = \"Beginner\" # \"Beginner\", \"Intermediate\", \"Expert\"\n",
    "\n",
    "# Test de l’impact de la fiabilité sur la prédiction du prix\n",
    "for f in [0, 0.1, 0.2, 0.3, 0.4, 0.5, 0.6, 0.7, 0.8, 0.81, 0.82, 0.83, 0.84, 0.85, 0.9, 0.91, 0.92, 0.93, 0.94, 0.95, 0.96, 0.97, 0.98, 0.99, 1.0]:\n",
    "    prix = predict_price(desc, f)\n",
    "    print(f\"Fiabilité = {f*100:.0f}% → Prix prédit = {prix} €\")"
   ]
  },
  {
   "cell_type": "code",
   "execution_count": 3,
   "id": "08684dff",
   "metadata": {},
   "outputs": [
    {
     "name": "stdout",
     "output_type": "stream",
     "text": [
      "count    1252.000000\n",
      "mean        0.739307\n",
      "std         0.125703\n",
      "min         0.081877\n",
      "25%         0.698787\n",
      "50%         0.789447\n",
      "75%         0.826738\n",
      "max         0.873558\n",
      "Name: Fiabilite, dtype: float64\n",
      "           Fiabilite      Prix\n",
      "Fiabilite   1.000000 -0.018182\n",
      "Prix       -0.018182  1.000000\n"
     ]
    }
   ],
   "source": [
    "df = pd.read_csv(\"data/fiverr_cleaned.csv\")\n",
    "print(df[\"Fiabilite\"].describe())\n",
    "print(df[[\"Fiabilite\", \"Prix\"]].corr())"
   ]
  }
 ],
 "metadata": {
  "kernelspec": {
   "display_name": ".venv",
   "language": "python",
   "name": "python3"
  },
  "language_info": {
   "codemirror_mode": {
    "name": "ipython",
    "version": 3
   },
   "file_extension": ".py",
   "mimetype": "text/x-python",
   "name": "python",
   "nbconvert_exporter": "python",
   "pygments_lexer": "ipython3",
   "version": "3.10.11"
  }
 },
 "nbformat": 4,
 "nbformat_minor": 5
}
