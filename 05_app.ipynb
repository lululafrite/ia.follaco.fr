{
 "cells": [
  {
   "cell_type": "markdown",
   "id": "ce9e6073",
   "metadata": {},
   "source": [
    "# Notebook `05_app.ipynb`"
   ]
  },
  {
   "cell_type": "markdown",
   "id": "fbb95268",
   "metadata": {},
   "source": [
    "---"
   ]
  },
  {
   "cell_type": "markdown",
   "id": "84d7de2c",
   "metadata": {},
   "source": [
    "# 🖥️ Déploiement de l'application interactive\n",
    "\n",
    "Ce notebook final permet de **mettre en application les modèles de prédiction développés** dans les notebooks précédents.  \n",
    "Il propose une **interface interactive Gradio** qui permet d'estimer :\n",
    "- le **prix probable** d’un service Fiverr,\n",
    "- ainsi que sa **tranche de prix** (Basse, Moyenne ou Haute).\n",
    "\n",
    "Cette application s’appuie sur un **pipeline hybride** combinant embeddings de texte et variables numériques pour fournir des prédictions accessibles et rapides.\n",
    "\n",
    "## 🎯 Objectifs\n",
    "\n",
    "- 🧠 Intégrer les **fonctions de prédiction** basées sur les modèles enregistrés (`predict_price`, `predict_tranche`)\n",
    "- 🧰 Concevoir une **interface utilisateur intuitive** avec `gradio.Blocks`\n",
    "- 📝 Ajouter une fonction de **log** permettant d’enregistrer les prédictions pour analyse\n",
    "- ⚙️ Proposer une interface flexible :\n",
    "  - Sélection de la fiabilité par niveau prédéfini (`Acceptable`, `Bonne`, etc.)\n",
    "  - Ou réglage manuel via un `slider` numérique\n",
    "- 🚀 Déployer l'application en local ou sur un serveur\n",
    "\n",
    "## 🧠 Fonctionnalités clés\n",
    "\n",
    "- ✏️ **Entrée utilisateur** :\n",
    "  - Titre du service (texte libre)\n",
    "  - Niveau du vendeur (option désactivée ici)\n",
    "  - Fiabilité (par choix prédéfini ou valeur personnalisée)\n",
    "\n",
    "- 🔄 **Prétraitement transparent** :\n",
    "  - Embedding de la description via `sentence-transformers`\n",
    "  - Normalisation de la fiabilité\n",
    "  - Alignement des colonnes avec les modèles entraînés\n",
    "\n",
    "- 📈 **Sorties affichées** :\n",
    "  - Prédiction du **prix** (`predict_price`)\n",
    "  - Prédiction de la **tranche de prix** (`predict_tranche`)\n",
    "\n",
    "- 📁 **Fonction de signalement** :\n",
    "  - Ajout des prédictions dans un fichier `log.csv` pour audit ou analyse ultérieure\n",
    "\n",
    "## ✅ Compétences mobilisées\n",
    "\n",
    "- **Bloc 3 — C2** : Appliquer un pipeline de transformation cohérent entre entraînement et usage réel.\n",
    "- **Bloc 5 — C4** : Déployer une application d’IA accessible et interactive (Gradio).\n",
    "\n",
    "👨‍🏫 *Ce notebook constitue la version déployable de l’outil de prédiction, à présenter au jury ou à tester par les utilisateurs finaux.*"
   ]
  },
  {
   "cell_type": "markdown",
   "id": "feb60009",
   "metadata": {},
   "source": [
    "---"
   ]
  },
  {
   "cell_type": "markdown",
   "id": "86f79a68",
   "metadata": {},
   "source": [
    "## 🧭 Sommaire\n",
    "\n",
    "1. [📘 Importation des bibliothèques](#📘-1-importation-des-bibliothèques)\n",
    "2. [📂 Préparation du fichier de log](#📂-2-préparation-du-fichier-de-log)\n",
    "3. [🎚️ Définition des niveaux de fiabilité prédéfinis](#🎚️-3-définition-des-niveaux-de-fiabilité-prédéfinis)\n",
    "4. [🔮 Fonction de prédiction principale](#🔮-4-fonction-de-prédiction-principale)\n",
    "5. [📝 Fonction d’enregistrement des prédictions dans le log](#📝-5-fonction-denregistrement-des-prédictions-dans-le-log)\n",
    "6. [🖥️ Interface utilisateur Gradio](#🖥️-6-interface-utilisateur-gradio)\n",
    "7. [🔍 Analyse de sensibilité à la fiabilité](#🔍-7-analyse-de-sensibilité-à-la-fiabilité)\n",
    "8. [📊 Analyse exploratoire : corrélation Fiabilité / Prix](#📊-8-analyse-exploratoire--corrélation-fiabilité--prix)"
   ]
  },
  {
   "cell_type": "markdown",
   "id": "7281f73a",
   "metadata": {},
   "source": [
    "---"
   ]
  },
  {
   "cell_type": "markdown",
   "id": "9c5e615d",
   "metadata": {},
   "source": [
    "## 📘 1. Importation des bibliothèques\n",
    "\n",
    "### 🧰 1.1. Pourquoi cette étape ?\n",
    "\n",
    "Avant de lancer l’interface applicative, il est essentiel de charger les **bibliothèques nécessaires** au fonctionnement de Gradio, à la gestion des fichiers et à l’exécution des fonctions de prédiction.\n",
    "\n",
    "Ces fonctions (`predict_price`, `predict_tranche`) ont été développées dans le fichier `predict.py` et reposent sur les modèles et outils enregistrés lors de la phase de modélisation.\n",
    "\n",
    "### 📚 1.2. Bibliothèques utilisées\n",
    "\n",
    "| Bibliothèque | Utilisation principale |\n",
    "|--------------|------------------------|\n",
    "| `gradio`     | Création de l’interface web interactive |\n",
    "| `pandas`     | Gestion du fichier log (`log.csv`) |\n",
    "| `os`         | Manipulation du système de fichiers |\n",
    "| `predict`    | Import des fonctions de prédiction utilisées dans l’interface |\n",
    "\n",
    "---\n",
    "\n",
    "### 🐍 1.3. Script d’importation"
   ]
  },
  {
   "cell_type": "code",
   "execution_count": 17,
   "id": "5a5b01d0",
   "metadata": {},
   "outputs": [],
   "source": [
    "import gradio as gr\n",
    "import pandas as pd\n",
    "import os\n",
    "from predict import predict_price, predict_tranche  # doit être dans le même dossier ou accessible dans PYTHONPATH"
   ]
  },
  {
   "cell_type": "markdown",
   "id": "a6f49f2b",
   "metadata": {},
   "source": [
    "---"
   ]
  },
  {
   "cell_type": "markdown",
   "id": "3d90f390",
   "metadata": {},
   "source": [
    "## 📂 2. Préparation du fichier de log\n",
    "\n",
    "### 🧾 2.1. Pourquoi cette étape ?\n",
    "\n",
    "L’application permet aux utilisateurs de **signaler les prédictions** effectuées (prix et tranche) dans un fichier CSV de log.  \n",
    "Ce fichier pourra être exploité ultérieurement pour :\n",
    "- analyser les cas utilisateurs,\n",
    "- affiner les modèles,\n",
    "- ou justifier certaines prédictions en situation réelle.\n",
    "\n",
    "Il est donc nécessaire de :\n",
    "- définir un **chemin d’enregistrement** (`flagged/log.csv`),\n",
    "- s’assurer que le répertoire `flagged/` existe pour éviter toute erreur d’écriture.\n",
    "\n",
    "### 📁 2.2. Résultat attendu\n",
    "\n",
    "- Le chemin `flagged/log.csv` est prêt à recevoir les enregistrements.\n",
    "- Le dossier `flagged/` est créé s’il n’existait pas déjà.\n",
    "\n",
    "---\n",
    "\n",
    "### 🐍 2.3. Script de préparation du fichier log"
   ]
  },
  {
   "cell_type": "code",
   "execution_count": 18,
   "id": "a57b44f6",
   "metadata": {},
   "outputs": [],
   "source": [
    "LOG_PATH = \"flagged/log.csv\"\n",
    "#os.makedirs(os.path.dirname(LOG_PATH), exist_ok=True)"
   ]
  },
  {
   "cell_type": "markdown",
   "id": "2392d3be",
   "metadata": {},
   "source": [
    "---"
   ]
  },
  {
   "cell_type": "markdown",
   "id": "f77ae269",
   "metadata": {},
   "source": [
    "## 🎚️ 3. Définition des niveaux de fiabilité prédéfinis\n",
    "\n",
    "### 🧮 3.1. Pourquoi proposer des niveaux ?\n",
    "\n",
    "L'utilisateur peut indiquer la **fiabilité du vendeur** soit :\n",
    "- en **valeur libre** via un curseur (`Slider`),\n",
    "- soit en sélectionnant un **niveau prédéfini**, plus intuitif et guidé.\n",
    "\n",
    "Ces niveaux permettent :\n",
    "- une **expérience utilisateur simplifiée**,\n",
    "- une **standardisation** des entrées dans le cadre de tests ou d’évaluations.\n",
    "\n",
    "### 📊 3.2. Correspondance des niveaux\n",
    "\n",
    "| Niveau choisi    | Valeur numérique (%) |\n",
    "|------------------|----------------------|\n",
    "| Acceptable       | 80                   |\n",
    "| Moyenne          | 85                   |\n",
    "| Bonne            | 90                   |\n",
    "| Très Bonne       | 96                   |\n",
    "| Excellente       | 99                   |\n",
    "\n",
    "---\n",
    "\n",
    "### 🐍 3.3. Script de définition des niveaux de fiabilité"
   ]
  },
  {
   "cell_type": "code",
   "execution_count": 19,
   "id": "77155afb",
   "metadata": {},
   "outputs": [],
   "source": [
    "# 🔸 Niveaux prédéfinis de fiabilité (%)\n",
    "choices = {\n",
    "    \"Acceptable\": 80,\n",
    "    \"Moyenne\": 85,\n",
    "    \"Bonne\": 90,\n",
    "    \"Très Bonne\": 96,\n",
    "    \"Excellente\": 99\n",
    "}"
   ]
  },
  {
   "cell_type": "markdown",
   "id": "049159ce",
   "metadata": {},
   "source": [
    "---"
   ]
  },
  {
   "cell_type": "markdown",
   "id": "2e1a1375",
   "metadata": {},
   "source": [
    "## 🔮 4. Fonction de prédiction principale\n",
    "\n",
    "### 🧠 4.1. Objectif\n",
    "\n",
    "Cette fonction est le **cœur du système de prédiction**.  \n",
    "Elle combine :\n",
    "- le choix de la **source de fiabilité** (niveau prédéfini ou valeur libre),\n",
    "- la **prédiction du prix exact** (modèle de régression),\n",
    "- la **prédiction de la tranche de prix** (modèle de classification).\n",
    "\n",
    "Elle assure également la **gestion des erreurs** en cas de mauvaise saisie ou de problème technique.\n",
    "\n",
    "### ⚙️ 4.2. Paramètres\n",
    "\n",
    "| Paramètre           | Type     | Description                                                                 |\n",
    "|---------------------|----------|-----------------------------------------------------------------------------|\n",
    "| `description`        | `str`    | Texte décrivant le service Fiverr                                          |\n",
    "| `niveau`             | `str`    | Niveau du vendeur (actuellement non utilisé dans le modèle)                |\n",
    "| `use_predefined`     | `bool`   | Indique si on utilise un niveau de fiabilité prédéfini                     |\n",
    "| `fiabilite_percent`  | `float`  | Valeur manuelle de fiabilité (%) si `use_predefined` est `False`          |\n",
    "| `fiabilite_choix`    | `str`    | Nom du niveau de fiabilité choisi si `use_predefined` est `True`           |\n",
    "\n",
    "### 🎯 4.3. Résultat\n",
    "\n",
    "Retourne deux prédictions :\n",
    "- le **prix estimé** (float, arrondi à 2 décimales),\n",
    "- la **tranche de prix** (`Basse`, `Moyenne`, `Haute`).\n",
    "\n",
    "En cas d'erreur, un message d'alerte est retourné à la place du prix.\n",
    "\n",
    "---\n",
    "\n",
    "### 🐍 4.4. Script de prédiction principale"
   ]
  },
  {
   "cell_type": "code",
   "execution_count": 20,
   "id": "727ec132",
   "metadata": {},
   "outputs": [],
   "source": [
    "# 🔍 Fonction principale de prédiction\n",
    "def faire_une_prediction(description, niveau, use_predefined, fiabilite_percent, fiabilite_choix):\n",
    "    fiabilite = (choices[fiabilite_choix] if use_predefined else fiabilite_percent) / 100\n",
    "    try:\n",
    "        prix = predict_price(description, fiabilite)\n",
    "        tranche = predict_tranche(description, fiabilite)\n",
    "        return round(prix, 2), tranche\n",
    "    except Exception as e:\n",
    "        return f\"Erreur : {str(e)}\", \"\""
   ]
  },
  {
   "cell_type": "markdown",
   "id": "dc1193c9",
   "metadata": {},
   "source": [
    "---"
   ]
  },
  {
   "cell_type": "markdown",
   "id": "0a7d4336",
   "metadata": {},
   "source": [
    "## 📝 5. Fonction d’enregistrement des prédictions dans le log\n",
    "\n",
    "### 🧠 5.1. Objectif\n",
    "\n",
    "Cette fonction permet de **conserver un historique des prédictions** réalisées via l’application Gradio.  \n",
    "Elle enregistre chaque estimation dans un fichier `log.csv`, avec les données d’entrée et les résultats associés.\n",
    "\n",
    "### 🗃️ 5.2. Données enregistrées\n",
    "\n",
    "| Colonne            | Description                                             |\n",
    "|--------------------|---------------------------------------------------------|\n",
    "| `Description`       | Texte fourni par l’utilisateur                          |\n",
    "| `Niveau`            | Niveau du vendeur sélectionné (actuellement non utilisé) |\n",
    "| `Fiabilité (%)`     | Valeur de fiabilité (selon sélection manuelle ou prédéfinie) |\n",
    "| `Prix prédit (€)`   | Résultat de la prédiction de prix (régression)         |\n",
    "| `Tranche prédite`   | Résultat de la classification (`Basse`, `Moyenne`, `Haute`) |\n",
    "\n",
    "### 🧾 5.3. Comportement\n",
    "\n",
    "- Le fichier `log.csv` est **créé s’il n’existe pas**, ou mis à jour en **mode ajout** (`append`).\n",
    "- Chaque prédiction est **enregistrée sur une ligne distincte**.\n",
    "\n",
    "> ℹ️ Ce fichier log peut servir de **trace d’utilisation**, ou de base pour des analyses a posteriori.\n",
    "\n",
    "---\n",
    "\n",
    "### 🐍 5.4. Script d’enregistrement dans le fichier log"
   ]
  },
  {
   "cell_type": "code",
   "execution_count": 21,
   "id": "7230ce63",
   "metadata": {},
   "outputs": [],
   "source": [
    "# 📝 Fonction d'enregistrement dans le fichier log\n",
    "def enregistrer_log(description, niveau, use_predefined, fiabilite_percent, fiabilite_choix, prix, tranche):\n",
    "    fiabilite = choices[fiabilite_choix] if use_predefined else fiabilite_percent\n",
    "    log_data = {\n",
    "        \"Description\": description,\n",
    "        \"Niveau\": niveau,\n",
    "        \"Fiabilité (%)\": fiabilite,\n",
    "        \"Prix prédit (€)\": prix,\n",
    "        \"Tranche prédite\": tranche\n",
    "    }\n",
    "\n",
    "    df_log = pd.DataFrame([log_data])\n",
    "    if os.path.exists(LOG_PATH):\n",
    "        df_log.to_csv(LOG_PATH, mode=\"a\", index=False, header=False)\n",
    "    else:\n",
    "        df_log.to_csv(LOG_PATH, index=False)\n",
    "\n",
    "    return \"✅ Signalement enregistré avec succès.\""
   ]
  },
  {
   "cell_type": "markdown",
   "id": "27013e5b",
   "metadata": {},
   "source": [
    "---"
   ]
  },
  {
   "cell_type": "markdown",
   "id": "a985a1ab",
   "metadata": {},
   "source": [
    "## 🖥️ 6. Interface utilisateur Gradio\n",
    "\n",
    "### 🎯 6.1. Objectif\n",
    "\n",
    "Proposer une **interface interactive et intuitive** pour permettre à l’utilisateur :\n",
    "- de saisir les informations d’un service Fiverr,\n",
    "- d’obtenir immédiatement une **estimation du prix** (`Régression`),\n",
    "- et sa **tranche de prix** (`Classification`),\n",
    "- puis de **signaler** le cas au fichier `log.csv` si besoin.\n",
    "\n",
    "### 🧰 6.2. Composants principaux\n",
    "\n",
    "| Élément                    | Fonction                                                                 |\n",
    "|----------------------------|--------------------------------------------------------------------------|\n",
    "| `Textbox` (description)    | Entrée textuelle décrivant le service                                   |\n",
    "| `Dropdown` (niveau)        | Choix du niveau du vendeur (actuellement masqué, future évolution)      |\n",
    "| `Checkbox` / `Radio`       | Sélection du niveau de fiabilité (manuelle ou prédéfinie)               |\n",
    "| `Button`                   | Lance la prédiction (`📈 Estimer le prix`)                              |\n",
    "| `Textbox` (sorties)        | Affichage des résultats (`Prix estimé`, `Tranche estimée`)              |\n",
    "| `Button`                   | Enregistrement de la prédiction dans le fichier log (`🚨`)              |\n",
    "| `Textbox` (confirmation)   | Message de confirmation en cas de signalement réussi                    |\n",
    "\n",
    "### 🔁 6.3. Logique d’interaction\n",
    "\n",
    "- **Fiabilité personnalisée ou prédéfinie** :  \n",
    "  L’utilisateur peut choisir d’utiliser un curseur libre (pourcentage) ou un niveau de fiabilité prédéfini.\n",
    "\n",
    "- **Synchronisation dynamique** :  \n",
    "  Le radio bouton met à jour la valeur du slider et inversement si on décoche la case.\n",
    "\n",
    "- **Traitement centralisé** :  \n",
    "  Les fonctions `faire_une_prediction` et `enregistrer_log` pilotent la logique métier.\n",
    "\n",
    "---\n",
    "\n",
    "### 🐍 6.4. Script Gradio (création de l’interface)"
   ]
  },
  {
   "cell_type": "code",
   "execution_count": 22,
   "id": "b78c963c",
   "metadata": {},
   "outputs": [
    {
     "name": "stdout",
     "output_type": "stream",
     "text": [
      "Running on local URL:  http://127.0.0.1:7862\n",
      "\n",
      "To create a public link, set `share=True` in `launch()`.\n"
     ]
    },
    {
     "data": {
      "text/html": [
       "<div><iframe src=\"http://127.0.0.1:7862/\" width=\"100%\" height=\"500\" allow=\"autoplay; camera; microphone; clipboard-read; clipboard-write;\" frameborder=\"0\" allowfullscreen></iframe></div>"
      ],
      "text/plain": [
       "<IPython.core.display.HTML object>"
      ]
     },
     "metadata": {},
     "output_type": "display_data"
    },
    {
     "data": {
      "text/plain": []
     },
     "execution_count": 22,
     "metadata": {},
     "output_type": "execute_result"
    },
    {
     "name": "stdout",
     "output_type": "stream",
     "text": [
      "IMPORTANT: You are using gradio version 3.39.0, however version 4.44.1 is available, please upgrade.\n",
      "--------\n"
     ]
    }
   ],
   "source": [
    "\n",
    "# 🖥️ Interface utilisateur Gradio\n",
    "with gr.Blocks() as iface:\n",
    "    gr.Markdown(\"\"\"\n",
    "        ## 🎯 Application de prédiction de prix Fiverr\n",
    "        Cette application permet d’estimer automatiquement :\n",
    "        - 💰 Le **prix probable** d’un service publié sur Fiverr,\n",
    "        - 📊 Sa **tranche de prix** parmi trois catégories (Basse / Moyenne / Haute).\n",
    "        Elle s’appuie sur un pipeline hybride combinant des embeddings de description et des variables numériques.\n",
    "    \"\"\")\n",
    "\n",
    "    with gr.Row():\n",
    "        with gr.Column(scale=1):\n",
    "            description = gr.Textbox(\n",
    "                label=\"✏️ Titre du service\",\n",
    "                placeholder=\"Ex : Je fais le ménage\",\n",
    "                value=\"Je fais le ménage\"  # Valeur par défaut\n",
    "            )\n",
    "            niveau =  gr.Dropdown(label=\"🔰 Niveau du vendeur\", choices=[\"Beginner\", \"Intermediate\", \"Expert\"], value=\"Beginner\", visible=False)\n",
    "            use_predefined = gr.Checkbox(label=\"🎛️ Utiliser les niveaux prédéfinis de fiabilité\", value=True)\n",
    "\n",
    "            fiabilite_percent = gr.Slider(label=\"Fiabilité (%)\", minimum=0, maximum=100, value=80, step=5, visible=False)\n",
    "            fiabilite_choix = gr.Radio(\n",
    "                label=\"🎚️ Choisissez un niveau de fiabilité\",\n",
    "                choices=list(choices.keys()),\n",
    "                value=\"Acceptable\",\n",
    "                visible=True\n",
    "            )\n",
    "\n",
    "            def sync_slider_with_radio(choix):\n",
    "                return gr.update(value=choices[choix])\n",
    "\n",
    "            fiabilite_choix.change(sync_slider_with_radio, inputs=fiabilite_choix, outputs=fiabilite_percent)\n",
    "\n",
    "            def toggle_inputs(use_predef):\n",
    "                return {\n",
    "                    fiabilite_percent: gr.update(visible=not use_predef),\n",
    "                    fiabilite_choix: gr.update(visible=use_predef)\n",
    "                }\n",
    "\n",
    "            use_predefined.change(toggle_inputs, inputs=use_predefined, outputs=[fiabilite_percent, fiabilite_choix])\n",
    "\n",
    "            bouton_predire = gr.Button(\"📈 Estimer le prix\")\n",
    "\n",
    "        with gr.Column(scale=1):\n",
    "            sortie_prix = gr.Textbox(label=\"💰 Prix estimé\")\n",
    "            sortie_tranche = gr.Textbox(label=\"📊 Tranche estimée\")\n",
    "            bouton_signaler = gr.Button(\"🚨 Ajouter au fichier log.csv\")\n",
    "            confirmation = gr.Textbox(label=\"✅ Confirmation\", visible=False)\n",
    "\n",
    "            bouton_predire.click(\n",
    "                fn=faire_une_prediction,\n",
    "                inputs=[description, niveau, use_predefined, fiabilite_percent, fiabilite_choix],\n",
    "                outputs=[sortie_prix, sortie_tranche]\n",
    "            )\n",
    "\n",
    "            bouton_signaler.click(\n",
    "                fn=enregistrer_log,\n",
    "                inputs=[description, niveau, use_predefined, fiabilite_percent, fiabilite_choix, sortie_prix, sortie_tranche],\n",
    "                outputs=confirmation\n",
    "            )\n",
    "\n",
    "# 🚀 Lancement\n",
    "iface.launch()"
   ]
  },
  {
   "cell_type": "markdown",
   "id": "445dc0f1",
   "metadata": {},
   "source": [
    "---"
   ]
  },
  {
   "cell_type": "markdown",
   "id": "cec01d53",
   "metadata": {},
   "source": [
    "## 🔍 7. Analyse de sensibilité à la fiabilité\n",
    "\n",
    "### 🧪 7.1. Objectif de cette cellule\n",
    "\n",
    "Vérifier que la **variable `Fiabilité` a bien un impact** significatif sur le prix prédit.  \n",
    "On fait varier la valeur de fiabilité de 0 % à 100 %, tout en gardant constante la description du service.\n",
    "\n",
    "### 📊 7.2. Méthodologie\n",
    "\n",
    "- Le service testé est simplement : `\"Je fais le ménage\"`\n",
    "- On fait évoluer la fiabilité de 0.00 à 1.00 (i.e. de 0 % à 100 %)\n",
    "- Pour chaque niveau de fiabilité, on **prévoit le prix** avec le modèle de régression finalisé\n",
    "- On affiche ensuite les résultats dans la console\n",
    "\n",
    "### 🔍 7.3. Ce que l'on cherche à observer\n",
    "\n",
    "- Une **augmentation globale du prix** avec la fiabilité croissante (logique métier)\n",
    "- Une **zone d'inflexion ou palier éventuel** aux alentours de 0.8 (80 %) — critère de haute fiabilité\n",
    "- Des **résultats cohérents** avec ceux observés dans l’application Gradio\n",
    "\n",
    "> 💡 *Cette étape permet de valider qualitativement la sensibilité du modèle aux variations d’un indicateur clé métier.*\n",
    "\n",
    "---\n",
    "\n",
    "### 🐍 7.4. Script de test d’impact de la fiabilité"
   ]
  },
  {
   "cell_type": "code",
   "execution_count": 23,
   "id": "999ba4ac",
   "metadata": {},
   "outputs": [
    {
     "name": "stdout",
     "output_type": "stream",
     "text": [
      "Fiabilité = 0% → Prix prédit = 13.8 €\n",
      "Fiabilité = 10% → Prix prédit = 13.8 €\n",
      "Fiabilité = 20% → Prix prédit = 13.8 €\n",
      "Fiabilité = 30% → Prix prédit = 13.8 €\n",
      "Fiabilité = 40% → Prix prédit = 13.8 €\n",
      "Fiabilité = 50% → Prix prédit = 13.8 €\n",
      "Fiabilité = 60% → Prix prédit = 13.8 €\n",
      "Fiabilité = 70% → Prix prédit = 13.8 €\n",
      "Fiabilité = 80% → Prix prédit = 13.8 €\n",
      "Fiabilité = 81% → Prix prédit = 13.8 €\n",
      "Fiabilité = 82% → Prix prédit = 13.8 €\n",
      "Fiabilité = 83% → Prix prédit = 13.8 €\n",
      "Fiabilité = 84% → Prix prédit = 14.2 €\n",
      "Fiabilité = 85% → Prix prédit = 14.2 €\n",
      "Fiabilité = 90% → Prix prédit = 14.89 €\n",
      "Fiabilité = 91% → Prix prédit = 14.89 €\n",
      "Fiabilité = 92% → Prix prédit = 14.89 €\n",
      "Fiabilité = 93% → Prix prédit = 14.89 €\n",
      "Fiabilité = 94% → Prix prédit = 15.36 €\n",
      "Fiabilité = 95% → Prix prédit = 15.89 €\n",
      "Fiabilité = 96% → Prix prédit = 16.15 €\n",
      "Fiabilité = 97% → Prix prédit = 16.76 €\n",
      "Fiabilité = 98% → Prix prédit = 17.32 €\n",
      "Fiabilité = 99% → Prix prédit = 17.32 €\n",
      "Fiabilité = 100% → Prix prédit = 17.2 €\n"
     ]
    }
   ],
   "source": [
    "# Exemple de description et niveau à tester\n",
    "desc = \"Je fais le ménage\"\n",
    "\n",
    "# Test de l’impact de la fiabilité sur la prédiction du prix\n",
    "for f in [0, 0.1, 0.2, 0.3, 0.4, 0.5, 0.6, 0.7, 0.8, 0.81, 0.82, 0.83, 0.84, 0.85, 0.9, 0.91, 0.92, 0.93, 0.94, 0.95, 0.96, 0.97, 0.98, 0.99, 1.0]:\n",
    "    prix = predict_price(desc, f)\n",
    "    print(f\"Fiabilité = {f*100:.0f}% → Prix prédit = {prix} €\")"
   ]
  },
  {
   "cell_type": "markdown",
   "id": "56f08e49",
   "metadata": {},
   "source": [
    "---"
   ]
  },
  {
   "cell_type": "markdown",
   "id": "8535888a",
   "metadata": {},
   "source": [
    "## 📊 8. Analyse exploratoire : corrélation Fiabilité / Prix\n",
    "\n",
    "### 🧪 8.1. Objectif de cette cellule\n",
    "\n",
    "Vérifier empiriquement si la **fiabilité du vendeur est corrélée au prix proposé**.  \n",
    "Cela permet de **valider la pertinence** de cette variable comme feature dans notre modèle.\n",
    "\n",
    "### 🧮 8.2. Statistiques de la variable `Fiabilite`\n",
    "\n",
    "- Affichage de la distribution statistique (`min`, `max`, `mean`, `std`, etc.)\n",
    "- Vérification que la variable **varie suffisamment** pour avoir un potentiel explicatif\n",
    "\n",
    "### 🔗 8.3. Corrélation entre `Fiabilite` et `Prix`\n",
    "\n",
    "- Calcul du **coefficient de corrélation de Pearson**\n",
    "- Permet de détecter une **relation linéaire potentielle** entre la variable explicative et la cible\n",
    "\n",
    "> 💡 Une corrélation significative (positive ou négative) soutient l'idée que cette variable a un **rôle déterminant** dans le modèle de prédiction.\n",
    "\n",
    "---\n",
    "\n",
    "### 🐍 8.4. Script d’analyse exploratoire"
   ]
  },
  {
   "cell_type": "code",
   "execution_count": 24,
   "id": "08684dff",
   "metadata": {},
   "outputs": [
    {
     "name": "stdout",
     "output_type": "stream",
     "text": [
      "count    1252.000000\n",
      "mean        0.739307\n",
      "std         0.125703\n",
      "min         0.081877\n",
      "25%         0.698787\n",
      "50%         0.789447\n",
      "75%         0.826738\n",
      "max         0.873558\n",
      "Name: Fiabilite, dtype: float64\n",
      "           Fiabilite      Prix\n",
      "Fiabilite   1.000000 -0.018182\n",
      "Prix       -0.018182  1.000000\n"
     ]
    }
   ],
   "source": [
    "df = pd.read_csv(\"data/fiverr_cleaned.csv\")\n",
    "print(df[\"Fiabilite\"].describe())\n",
    "print(df[[\"Fiabilite\", \"Prix\"]].corr())"
   ]
  }
 ],
 "metadata": {
  "kernelspec": {
   "display_name": ".venv",
   "language": "python",
   "name": "python3"
  },
  "language_info": {
   "codemirror_mode": {
    "name": "ipython",
    "version": 3
   },
   "file_extension": ".py",
   "mimetype": "text/x-python",
   "name": "python",
   "nbconvert_exporter": "python",
   "pygments_lexer": "ipython3",
   "version": "3.10.11"
  }
 },
 "nbformat": 4,
 "nbformat_minor": 5
}
