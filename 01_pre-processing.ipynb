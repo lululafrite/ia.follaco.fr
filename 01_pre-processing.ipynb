{
 "cells": [
  {
   "cell_type": "markdown",
   "id": "65182d15",
   "metadata": {},
   "source": [
    "# 🧼 Prétraitement des données brutes Fiverr\n",
    "\n",
    "Ce notebook correspond à la phase de **pré-processing** du dataset Fiverr téléchargé via Kaggle. Il prépare les données brutes à des fins d’analyse ou de modélisation, en appliquant un nettoyage et une structuration adaptés.\n",
    "\n",
    "## 🎯 Objectifs\n",
    "- Analyser la structure initiale du fichier\n",
    "- Supprimer les colonnes non pertinentes ou vides\n",
    "- Nettoyer les chaînes de caractères et corriger les valeurs incohérentes\n",
    "- Convertir les types de données (ex. : `Price`, `Rating`)\n",
    "- Exporter un fichier prêt à l’analyse : `fiverr-data-gigs-cleaned.csv`\n",
    "\n",
    "✅ **Compétences mobilisées :**  \n",
    "- Bloc 3 — C2 : Préparer les données pour l’analyse  \n",
    "- Bloc 5 — C1 : Préparer des données non structurées\n",
    "---"
   ]
  },
  {
   "cell_type": "markdown",
   "id": "b58f1593",
   "metadata": {},
   "source": [
    "## 📦 Import des bibliothèques nécessaires\n",
    "\n",
    "Ce notebook utilise les bibliothèques suivantes pour manipuler, nettoyer et explorer les données.\n",
    "\n",
    "### 📚 Choix des bibliothèques et justification\n",
    "\n",
    "- **`pandas`** : bibliothèque incontournable pour manipuler des données tabulaires (lecture/écriture de fichiers, nettoyage, filtrage, transformation des colonnes).\n",
    "- **`numpy`** : utile pour les conversions de types numériques, le traitement vectoriel et la gestion des valeurs manquantes.\n",
    "- **`matplotlib.pyplot`** : permet de tracer des graphiques de base (histogrammes, courbes, nuages de points).\n",
    "- **`seaborn`** : bibliothèque de visualisation basée sur `matplotlib`, adaptée pour créer rapidement des graphiques statistiques élégants (distribution, corrélations, regroupements).\n",
    "- **`re`** : module natif Python pour le traitement des chaînes de caractères avec des expressions régulières (extraction d’information, nettoyage).\n",
    "\n",
    "Ces outils couvrent l’ensemble des besoins pour le **prétraitement** et la **visualisation exploratoire** des données brutes.\n"
   ]
  },
  {
   "cell_type": "code",
   "execution_count": 87,
   "id": "6f8c4b81",
   "metadata": {},
   "outputs": [],
   "source": [
    "import pandas as pd\n",
    "import numpy as np\n",
    "import matplotlib.pyplot as plt\n",
    "import seaborn as sns\n",
    "import re\n",
    "import kagglehub\n",
    "import shutil\n",
    "import os\n",
    "from tqdm.auto import tqdm\n",
    "from sklearn.preprocessing import LabelEncoder\n",
    "from sklearn.impute import KNNImputer"
   ]
  },
  {
   "cell_type": "markdown",
   "id": "8b81aa32",
   "metadata": {},
   "source": [
    "## 🌐 Téléchargement automatique des données depuis Kaggle\n",
    "\n",
    "Avant de commencer le nettoyage ou toute autre transformation, nous allons **automatiser le téléchargement du dataset** directement depuis Kaggle via l’API `kagglehub`.  \n",
    "Cela garantit que nous utilisons toujours la version la plus récente du jeu de données, tout en facilitant la reproductibilité du pipeline.\n",
    "\n",
    "### Pourquoi automatiser cette étape ?\n",
    "- Évite d’avoir à télécharger manuellement le fichier CSV.\n",
    "- Assure une **traçabilité** et une **mise à jour régulière** des données.\n",
    "- S’intègre parfaitement dans un pipeline complet (local, cloud ou CI/CD).\n",
    "\n",
    "### Résultat attendu\n",
    "- Le dossier contenant les fichiers du dataset est automatiquement créé.\n",
    "- Le chemin absolu est stocké dans la variable `path`.\n",
    "- On peut ensuite s’en servir pour charger le fichier `.csv` dans un `DataFrame`."
   ]
  },
  {
   "cell_type": "code",
   "execution_count": 88,
   "id": "c0585dae",
   "metadata": {},
   "outputs": [
    {
     "name": "stdout",
     "output_type": "stream",
     "text": [
      "Path to dataset files: C:\\Users\\lfoll\\.cache\\kagglehub\\datasets\\muhammadadiltalay\\fiverr-data-gigs\\versions\\1\n",
      "✅ Dataset copié dans le dossier du projet : data\\fiverr_gigs\n"
     ]
    }
   ],
   "source": [
    "# Téléchargement de la dernière version du dataset Fiverr depuis Kaggle\n",
    "\n",
    "# 1. Télécharger le dataset depuis Kaggle (dans le cache local)\n",
    "cache_path = kagglehub.dataset_download(\"muhammadadiltalay/fiverr-data-gigs\")\n",
    "\n",
    "# 2. Spécifier le chemin cible dans ton projet\n",
    "target_path = os.path.join(\"data\", \"fiverr_gigs\")\n",
    "\n",
    "# 3. Créer le dossier s’il n’existe pas déjà\n",
    "os.makedirs(target_path, exist_ok=True)\n",
    "\n",
    "# 4. Copier tous les fichiers du dossier cache vers le dossier du projet\n",
    "for filename in os.listdir(cache_path):\n",
    "    source_file = os.path.join(cache_path, filename)\n",
    "    target_file = os.path.join(target_path, filename)\n",
    "    shutil.copy2(source_file, target_file)\n",
    "\n",
    "print(\"Path to dataset files:\", cache_path)\n",
    "print(f\"✅ Dataset copié dans le dossier du projet : {target_path}\")"
   ]
  },
  {
   "cell_type": "markdown",
   "id": "6f66d694",
   "metadata": {},
   "source": [
    "## 📂 Chargement des données brutes Fiverr\n",
    "\n",
    "Cette étape consiste à **importer les données brutes** directement depuis le fichier CSV d’origine téléchargé depuis Kaggle.  \n",
    "Ces données n’ont subi **aucun nettoyage** pour le moment : elles contiennent potentiellement des erreurs d’encodage, des caractères spéciaux, des doublons ou des types de colonnes incorrects.\n",
    "\n",
    "### Pourquoi cette étape maintenant ?\n",
    "- C’est le **point de départ** de tout pipeline de data science ou de machine learning : avant d’analyser ou modéliser, il faut charger les données brutes.\n",
    "- Cela permet de **détecter rapidement les anomalies structurelles** du fichier (encodage, noms de colonnes, valeurs manquantes).\n",
    "- Elle précède les étapes de nettoyage, transformation ou vectorisation, car celles-ci ne peuvent être appliquées que sur un DataFrame déjà chargé en mémoire.\n",
    "\n",
    "### Résultat attendu\n",
    "- Création d’un objet `df` de type `DataFrame`, représentant les données brutes.\n",
    "- Possibilité de visualiser les premières lignes pour **valider que le chargement a réussi** (pas de plantage d’encodage, pas de colonnes manquantes).\n",
    "- Étape indispensable pour enclencher un pipeline de **pré-processing propre et robuste**."
   ]
  },
  {
   "cell_type": "code",
   "execution_count": 89,
   "id": "7cca17f0",
   "metadata": {},
   "outputs": [
    {
     "data": {
      "text/html": [
       "<div>\n",
       "<style scoped>\n",
       "    .dataframe tbody tr th:only-of-type {\n",
       "        vertical-align: middle;\n",
       "    }\n",
       "\n",
       "    .dataframe tbody tr th {\n",
       "        vertical-align: top;\n",
       "    }\n",
       "\n",
       "    .dataframe thead th {\n",
       "        text-align: right;\n",
       "    }\n",
       "</style>\n",
       "<table border=\"1\" class=\"dataframe\">\n",
       "  <thead>\n",
       "    <tr style=\"text-align: right;\">\n",
       "      <th></th>\n",
       "      <th>Title</th>\n",
       "      <th>Title_URL</th>\n",
       "      <th>gigrating</th>\n",
       "      <th>_5fo9i5</th>\n",
       "      <th>Price</th>\n",
       "    </tr>\n",
       "  </thead>\n",
       "  <tbody>\n",
       "    <tr>\n",
       "      <th>0</th>\n",
       "      <td>I will do excel formulas, vba macros, charts, ...</td>\n",
       "      <td>https://www.fiverr.com/maltehar/do-excel-formu...</td>\n",
       "      <td>5.0(56)</td>\n",
       "      <td>Level 2 Seller</td>\n",
       "      <td>PKR 8,701</td>\n",
       "    </tr>\n",
       "    <tr>\n",
       "      <th>1</th>\n",
       "      <td>I will do data mining, web scraping, data extr...</td>\n",
       "      <td>https://www.fiverr.com/hotopilams/do-data-mini...</td>\n",
       "      <td>5.0(1k+)</td>\n",
       "      <td>Top Rated Seller</td>\n",
       "      <td>PKR 3,263</td>\n",
       "    </tr>\n",
       "  </tbody>\n",
       "</table>\n",
       "</div>"
      ],
      "text/plain": [
       "                                               Title  \\\n",
       "0  I will do excel formulas, vba macros, charts, ...   \n",
       "1  I will do data mining, web scraping, data extr...   \n",
       "\n",
       "                                           Title_URL gigrating  \\\n",
       "0  https://www.fiverr.com/maltehar/do-excel-formu...   5.0(56)   \n",
       "1  https://www.fiverr.com/hotopilams/do-data-mini...  5.0(1k+)   \n",
       "\n",
       "            _5fo9i5      Price  \n",
       "0    Level 2 Seller  PKR 8,701  \n",
       "1  Top Rated Seller  PKR 3,263  "
      ]
     },
     "execution_count": 89,
     "metadata": {},
     "output_type": "execute_result"
    }
   ],
   "source": [
    "# Chargement du fichier CSV dans un DataFrame pandas\n",
    "\n",
    "df = pd.read_csv(\n",
    "    'data/fiverr_gigs/fiverr-data-gigs.csv',    # Chemin relatif vers le fichier de données\n",
    "    encoding='UTF-8',                         # Utilisé pour décoder les caractères spéciaux (utile si UTF-8 génère des erreurs, fréquent avec des accents)\n",
    "    low_memory=False                            # Force pandas à lire tout le fichier avant de deviner les types de colonnes (évite les avertissements ou erreurs)\n",
    ")\n",
    "\n",
    "# Affiche les 10 premières lignes du DataFrame pour en examiner un aperçu\n",
    "df.head(2)"
   ]
  },
  {
   "cell_type": "markdown",
   "id": "4cc20ff9",
   "metadata": {},
   "source": [
    "## 🧪 Analyse exploratoire initiale du dataset\n",
    "\n",
    "Avant d'appliquer un quelconque prétraitement, il est essentiel de **comprendre la structure et la qualité** des données brutes. Cette étape permet de détecter :\n",
    "- les **valeurs manquantes** ou mal formatées,\n",
    "- les **types de données** incorrects,\n",
    "- les **données dupliquées**,\n",
    "- ou encore les **colonnes peu informatives**.\n",
    "\n",
    "### 🔍 Pourquoi cette étape maintenant ?\n",
    "- C’est une **étape préliminaire de diagnostic**, qui permet d’ajuster les étapes de nettoyage à suivre.\n",
    "- Elle donne un aperçu clair de **l’état réel** du fichier importé.\n",
    "- Elle évite d’effectuer un traitement inutile ou de rater des incohérences.\n",
    "\n",
    "### 🧰 Ce que nous analysons :\n",
    "- Dimensions du dataset (lignes, colonnes)\n",
    "- Un aperçu visuel des premières lignes\n",
    "- Types de données (object, float, int…)\n",
    "- Pourcentage de valeurs manquantes par colonne\n",
    "- Statistiques descriptives sur les variables numériques\n",
    "- Nombre de valeurs uniques par colonne\n",
    "- Nombre de doublons"
   ]
  },
  {
   "cell_type": "code",
   "execution_count": null,
   "id": "f4384d7e",
   "metadata": {},
   "outputs": [],
   "source": [
    "# Aperçu rapide du dataset\n",
    "print(\"Dimensions du dataset :\", df.shape)\n",
    "display(df.head())\n",
    "\n",
    "# Types de données\n",
    "print(\"\\nTypes de données :\")\n",
    "print(df.dtypes)\n",
    "\n",
    "# Pourcentage de valeurs manquantes par colonne\n",
    "print(\"\\n🔍 Pourcentage de valeurs manquantes :\")\n",
    "missing_percent = df.isnull().mean() * 100\n",
    "print(missing_percent.sort_values(ascending=False))\n",
    "\n",
    "# Statistiques descriptives des colonnes numériques\n",
    "print(\"\\n📊 Statistiques descriptives (numériques uniquement) :\")\n",
    "display(df.describe())\n",
    "\n",
    "# Valeurs uniques par colonne (utile pour détecter des colonnes constantes ou presque)\n",
    "print(\"\\n🔁 Nombre de valeurs uniques par colonne :\")\n",
    "print(df.nunique().sort_values())\n",
    "\n",
    "# Doublons éventuels\n",
    "print(f\"\\n🧬 Nombre de lignes dupliquées : {df.duplicated().sum()}\")\n"
   ]
  },
  {
   "cell_type": "markdown",
   "id": "1f491009",
   "metadata": {},
   "source": [
    "## 🌡️ Visualisation des valeurs manquantes\n",
    "\n",
    "Même si les pourcentages de valeurs manquantes sont utiles, une **visualisation graphique** permet souvent de mieux détecter :\n",
    "- la **distribution** des valeurs manquantes dans les colonnes,\n",
    "- l’éventuelle **concentration par ligne** (ex. : données mal extraites),\n",
    "- et les colonnes à traiter en priorité (ex. : valeurs manquantes massives).\n",
    "\n",
    "---\n",
    "\n",
    "### 🎯 Objectif :\n",
    "Mettre en évidence, via une **carte thermique**, les cellules contenant des `NaN` dans notre DataFrame."
   ]
  },
  {
   "cell_type": "code",
   "execution_count": null,
   "id": "65b2601e",
   "metadata": {},
   "outputs": [],
   "source": [
    "plt.figure(figsize=(12, 5))\n",
    "sns.heatmap(df.isnull(), cbar=False, cmap='viridis')\n",
    "plt.title('🌡️ Carte des valeurs manquantes dans le dataset')\n",
    "plt.xlabel(\"Colonnes\")\n",
    "plt.ylabel(\"Lignes\")\n",
    "plt.show()"
   ]
  },
  {
   "cell_type": "markdown",
   "id": "b808d8dd",
   "metadata": {},
   "source": []
  },
  {
   "cell_type": "code",
   "execution_count": null,
   "id": "0d9a67f4",
   "metadata": {},
   "outputs": [],
   "source": [
    "missing_percent = df.isnull().mean() * 100\n",
    "missing_percent = missing_percent[missing_percent > 0].sort_values(ascending=False)\n",
    "\n",
    "plt.figure(figsize=(10, 5))\n",
    "sns.barplot(x=missing_percent.values, y=missing_percent.index, palette=\"Reds_r\")\n",
    "plt.title(\"📉 Pourcentage de valeurs manquantes par colonne\")\n",
    "plt.xlabel(\"Pourcentage (%)\")\n",
    "plt.ylabel(\"Colonnes\")\n",
    "plt.show()\n"
   ]
  },
  {
   "cell_type": "code",
   "execution_count": null,
   "id": "80fc91e8",
   "metadata": {},
   "outputs": [],
   "source": [
    "numeric_cols = ['Price', 'Rating_Score', 'Rating_Count']\n",
    "\n",
    "plt.figure(figsize=(12, 5))\n",
    "for i, col in enumerate(numeric_cols, 1):\n",
    "    plt.subplot(1, 3, i)\n",
    "    sns.boxplot(data=df, y=col, color=\"skyblue\")\n",
    "    plt.title(f\"📦 Outliers dans {col}\")\n",
    "plt.tight_layout()\n",
    "plt.show()\n"
   ]
  },
  {
   "cell_type": "code",
   "execution_count": null,
   "id": "8d18f46c",
   "metadata": {},
   "outputs": [],
   "source": [
    "df[numeric_cols].hist(bins=30, figsize=(12, 6), color='steelblue', edgecolor='black')\n",
    "plt.suptitle(\"📈 Distribution des variables numériques\")\n",
    "plt.show()\n"
   ]
  },
  {
   "cell_type": "code",
   "execution_count": null,
   "id": "4f047f74",
   "metadata": {},
   "outputs": [],
   "source": [
    "plt.figure(figsize=(8, 4))\n",
    "sns.countplot(data=df, y='Level', order=df['Level'].value_counts().index, palette='Set2')\n",
    "plt.title(\"📋 Répartition des niveaux de vendeur (Level)\")\n",
    "plt.xlabel(\"Nombre de gigs\")\n",
    "plt.ylabel(\"Niveau\")\n",
    "plt.show()\n"
   ]
  },
  {
   "cell_type": "markdown",
   "id": "66836e23",
   "metadata": {},
   "source": [
    "## 🏷️ Renommage de la colonne \"Level\""
   ]
  },
  {
   "cell_type": "code",
   "execution_count": 90,
   "id": "11fa2eac",
   "metadata": {},
   "outputs": [
    {
     "name": "stdout",
     "output_type": "stream",
     "text": [
      "Colonnes : ['Title', 'Title_URL', 'gigrating', 'Level', 'Price']\n"
     ]
    }
   ],
   "source": [
    "df.rename(columns={'_5fo9i5': 'Level'}, inplace=True)\n",
    "print(\"Colonnes :\", df.columns.tolist())"
   ]
  },
  {
   "cell_type": "markdown",
   "id": "bc4d85ed",
   "metadata": {},
   "source": [
    "## 💰 Nettoyage de la colonne 'Price'\n",
    "### Étapes :\n",
    "1. Supprimer les caractères non numériques (lettres, devises, espaces, caractères spéciaux)\n",
    "2. Remplacer les virgules par des points les séparateurs de milliers ','\n",
    "3. Convertir en float"
   ]
  },
  {
   "cell_type": "code",
   "execution_count": 91,
   "id": "62dbe206",
   "metadata": {},
   "outputs": [
    {
     "name": "stdout",
     "output_type": "stream",
     "text": [
      "0    8.701\n",
      "1    3.263\n",
      "2    2.176\n",
      "3    1.088\n",
      "4    4.351\n",
      "Name: Price, dtype: float64\n"
     ]
    }
   ],
   "source": [
    "df['Price'] = (\n",
    "    df['Price']\n",
    "    .astype(str)\n",
    "    .str.replace(r'[^\\d,]', '', regex=True)      # Garde seulement chiffres et virgule\n",
    "    .str.replace(',', '.', regex=False)          # Transforme la virgule en point\n",
    "    .str.replace(r'\\.(?=.*\\.)', '', regex=True)   # Supprime tous les points sauf le dernier\n",
    "    .replace('', np.nan)                          # Gère les cellules vides\n",
    "    .astype(float)                                # Conversion en float\n",
    ")\n",
    "\n",
    "# Vérification\n",
    "print(df['Price'].head())\n"
   ]
  },
  {
   "cell_type": "markdown",
   "id": "6fbabd6b",
   "metadata": {},
   "source": [
    "## ⭐ Extraction des notes et du nombre d'évaluations"
   ]
  },
  {
   "cell_type": "code",
   "execution_count": 92,
   "id": "32db86f5",
   "metadata": {},
   "outputs": [],
   "source": [
    "df['Rating_Score'] = df['gigrating'].str.extract(r'^([\\d.]+)').astype(float)\n",
    "\n",
    "def parse_review_count(s):\n",
    "    if pd.isna(s): return np.nan\n",
    "    match = re.search(r'\\(([^)]+)\\)', s)\n",
    "    if not match: return np.nan\n",
    "    val = match.group(1).lower().replace('+', '')\n",
    "    if 'k' in val:\n",
    "        return float(val.replace('k', '')) * 1000\n",
    "    return float(val)\n",
    "\n",
    "df['Rating_Count'] = df['gigrating'].apply(parse_review_count)\n"
   ]
  },
  {
   "cell_type": "markdown",
   "id": "f631ba38",
   "metadata": {},
   "source": [
    "## 🧠 Imputation des valeurs manquantes dans la colonne `Price`\n",
    "\n",
    "Après avoir converti proprement la colonne `Price` en `float`, certaines cellules peuvent rester vides (`NaN`) si le nettoyage a supprimé des caractères incohérents ou si la donnée était absente dans le fichier d’origine.\n",
    "\n",
    "### Pourquoi cette étape est importante ?\n",
    "- Les **valeurs manquantes** empêchent certaines opérations (modélisation, statistiques).\n",
    "- Remplacer arbitrairement ces valeurs (par 0 ou une moyenne globale) peut fausser les résultats.\n",
    "- L’imputation par les **K plus proches voisins (KNN)** permet d’estimer une valeur réaliste à partir d’observations similaires dans les autres colonnes numériques (par exemple, la note et le nombre d’évaluations).\n",
    "\n",
    "### Méthode utilisée :\n",
    "- `KNNImputer` de `sklearn.impute` : calcule une estimation en se basant sur les 5 enregistrements les plus proches (paramètre `n_neighbors=5`).\n",
    "- On utilise les colonnes numériques pertinentes pour guider l’imputation : `Price`, `Rating_Score`, et `Rating_Count`.\n",
    "\n",
    "### Résultat attendu :\n",
    "- Toutes les cellules `NaN` de la colonne `Price` sont remplacées par une **valeur cohérente** avec les autres colonnes du gig.\n",
    "- Le DataFrame est prêt à être utilisé pour la suite du traitement ou l’entraînement d’un modèle."
   ]
  },
  {
   "cell_type": "code",
   "execution_count": 93,
   "id": "122dc24a",
   "metadata": {},
   "outputs": [],
   "source": [
    "# Sélection des colonnes numériques utiles pour l’imputation\n",
    "cols_for_impute = ['Price', 'Rating_Score', 'Rating_Count']\n",
    "\n",
    "# Copie temporaire du DataFrame pour imputation\n",
    "df_impute = df[cols_for_impute].copy()\n",
    "\n",
    "# Initialisation de l’imputer KNN (ici avec k=5 voisins)\n",
    "imputer = KNNImputer(n_neighbors=5)\n",
    "\n",
    "# Application de l’imputation\n",
    "df_imputed = imputer.fit_transform(df_impute)\n",
    "\n",
    "# Remplacement des anciennes valeurs dans df\n",
    "df[cols_for_impute] = df_imputed"
   ]
  },
  {
   "cell_type": "markdown",
   "id": "e6eb8524",
   "metadata": {},
   "source": [
    "## 🤖 Imputation des valeurs manquantes dans la colonne \"Level\" avec KNN\n",
    "\n",
    "La colonne **`Level`** contient de nombreuses valeurs manquantes (`NaN`). Plutôt que de les supprimer ou les remplacer par une valeur arbitraire, nous utilisons ici une méthode **d’imputation par les K plus proches voisins** (`KNNImputer`) pour estimer la valeur la plus probable selon les autres caractéristiques du vendeur (prix, note, nombre d’évaluations).\n",
    "\n",
    "### 🔎 Pourquoi ce choix ?\n",
    "- `Level` est une variable **catégorielle ordonnée** (ex. \"Level 1\", \"Top Rated Seller\", etc.).\n",
    "- `KNNImputer` fonctionne uniquement sur des données **numériques** → nous devons encoder `Level`.\n",
    "- Cette approche permet une **imputation contextuelle** : deux vendeurs proches sur les critères objectifs auront probablement un niveau similaire.\n",
    "\n",
    "### 🛠️ Étapes appliquées :\n",
    "1. **Encodage** de `Level` avec `LabelEncoder` (valeurs numériques temporaires).\n",
    "2. **Sélection des colonnes numériques pertinentes** : `Price`, `Rating_Score`, `Rating_Count`, `Level_encoded`.\n",
    "3. **Application du KNNImputer** avec `k = 5`.\n",
    "4. **Décodage inverse** pour retrouver les labels initiaux.\n",
    "5. **Nettoyage de la colonne temporaire.`\n"
   ]
  },
  {
   "cell_type": "code",
   "execution_count": 94,
   "id": "ef6695e0",
   "metadata": {},
   "outputs": [],
   "source": [
    "# Étape 1 : Encodage temporaire des valeurs de \"Level\"\n",
    "le = LabelEncoder()\n",
    "df['Level_encoded'] = pd.Series(dtype='float')  # Prépare la colonne\n",
    "\n",
    "# On encode uniquement les valeurs non nulles\n",
    "non_null_mask = df['Level'].notnull()\n",
    "df.loc[non_null_mask, 'Level_encoded'] = le.fit_transform(df.loc[non_null_mask, 'Level'])\n",
    "\n",
    "# Étape 2 : Préparer les colonnes pour KNN\n",
    "cols_for_knn = ['Price', 'Rating_Score', 'Rating_Count', 'Level_encoded']\n",
    "df_knn = df[cols_for_knn].copy()\n",
    "\n",
    "# Étape 3 : Imputation KNN\n",
    "imputer = KNNImputer(n_neighbors=5)\n",
    "df_imputed = imputer.fit_transform(df_knn)\n",
    "\n",
    "# Remplacement dans le DataFrame\n",
    "df_knn_imputed = pd.DataFrame(df_imputed, columns=cols_for_knn)\n",
    "\n",
    "# Étape 4 : Remplacer dans df final\n",
    "df['Level_encoded'] = df_knn_imputed['Level_encoded'].round().astype(int)\n",
    "df['Level'] = le.inverse_transform(df['Level_encoded'])\n",
    "\n",
    "# Optionnel : suppression de la colonne temporaire\n",
    "df.drop(columns='Level_encoded', inplace=True)\n"
   ]
  },
  {
   "cell_type": "markdown",
   "id": "c55df69c",
   "metadata": {},
   "source": [
    "## 🗑️ Suppression de la colonne 'Rating' d'origine"
   ]
  },
  {
   "cell_type": "code",
   "execution_count": 95,
   "id": "aeb19c68",
   "metadata": {},
   "outputs": [
    {
     "data": {
      "text/html": [
       "<div>\n",
       "<style scoped>\n",
       "    .dataframe tbody tr th:only-of-type {\n",
       "        vertical-align: middle;\n",
       "    }\n",
       "\n",
       "    .dataframe tbody tr th {\n",
       "        vertical-align: top;\n",
       "    }\n",
       "\n",
       "    .dataframe thead th {\n",
       "        text-align: right;\n",
       "    }\n",
       "</style>\n",
       "<table border=\"1\" class=\"dataframe\">\n",
       "  <thead>\n",
       "    <tr style=\"text-align: right;\">\n",
       "      <th></th>\n",
       "      <th>Title</th>\n",
       "      <th>Title_URL</th>\n",
       "      <th>Level</th>\n",
       "      <th>Price</th>\n",
       "      <th>Rating_Score</th>\n",
       "      <th>Rating_Count</th>\n",
       "    </tr>\n",
       "  </thead>\n",
       "  <tbody>\n",
       "    <tr>\n",
       "      <th>0</th>\n",
       "      <td>I will do excel formulas, vba macros, charts, ...</td>\n",
       "      <td>https://www.fiverr.com/maltehar/do-excel-formu...</td>\n",
       "      <td>Level 2 Seller</td>\n",
       "      <td>8.701</td>\n",
       "      <td>5.0</td>\n",
       "      <td>56.0</td>\n",
       "    </tr>\n",
       "    <tr>\n",
       "      <th>1</th>\n",
       "      <td>I will do data mining, web scraping, data extr...</td>\n",
       "      <td>https://www.fiverr.com/hotopilams/do-data-mini...</td>\n",
       "      <td>Top Rated Seller</td>\n",
       "      <td>3.263</td>\n",
       "      <td>5.0</td>\n",
       "      <td>1000.0</td>\n",
       "    </tr>\n",
       "  </tbody>\n",
       "</table>\n",
       "</div>"
      ],
      "text/plain": [
       "                                               Title  \\\n",
       "0  I will do excel formulas, vba macros, charts, ...   \n",
       "1  I will do data mining, web scraping, data extr...   \n",
       "\n",
       "                                           Title_URL             Level  Price  \\\n",
       "0  https://www.fiverr.com/maltehar/do-excel-formu...    Level 2 Seller  8.701   \n",
       "1  https://www.fiverr.com/hotopilams/do-data-mini...  Top Rated Seller  3.263   \n",
       "\n",
       "   Rating_Score  Rating_Count  \n",
       "0           5.0          56.0  \n",
       "1           5.0        1000.0  "
      ]
     },
     "execution_count": 95,
     "metadata": {},
     "output_type": "execute_result"
    }
   ],
   "source": [
    "df.drop(columns=['gigrating'], inplace=True)\n",
    "df.head(2)"
   ]
  },
  {
   "cell_type": "markdown",
   "id": "dfaa00df",
   "metadata": {},
   "source": [
    "## ✏️ Nettoyage des chaînes de caractères"
   ]
  },
  {
   "cell_type": "code",
   "execution_count": 96,
   "id": "55a321fb",
   "metadata": {},
   "outputs": [],
   "source": [
    "# Suppression des espaces superflus sur toutes les colonnes de type texte\n",
    "for col in df.select_dtypes(include='object').columns:\n",
    "    df[col] = df[col].astype(str).str.strip()"
   ]
  },
  {
   "cell_type": "markdown",
   "id": "9795d217",
   "metadata": {},
   "source": [
    "## 👀 Aperçu des données nettoyées"
   ]
  },
  {
   "cell_type": "code",
   "execution_count": 97,
   "id": "8c8fffb8",
   "metadata": {},
   "outputs": [
    {
     "data": {
      "text/html": [
       "<div>\n",
       "<style scoped>\n",
       "    .dataframe tbody tr th:only-of-type {\n",
       "        vertical-align: middle;\n",
       "    }\n",
       "\n",
       "    .dataframe tbody tr th {\n",
       "        vertical-align: top;\n",
       "    }\n",
       "\n",
       "    .dataframe thead th {\n",
       "        text-align: right;\n",
       "    }\n",
       "</style>\n",
       "<table border=\"1\" class=\"dataframe\">\n",
       "  <thead>\n",
       "    <tr style=\"text-align: right;\">\n",
       "      <th></th>\n",
       "      <th>Title</th>\n",
       "      <th>Title_URL</th>\n",
       "      <th>Level</th>\n",
       "      <th>Price</th>\n",
       "      <th>Rating_Score</th>\n",
       "      <th>Rating_Count</th>\n",
       "    </tr>\n",
       "  </thead>\n",
       "  <tbody>\n",
       "    <tr>\n",
       "      <th>0</th>\n",
       "      <td>I will do excel formulas, vba macros, charts, ...</td>\n",
       "      <td>https://www.fiverr.com/maltehar/do-excel-formu...</td>\n",
       "      <td>Level 2 Seller</td>\n",
       "      <td>8.701</td>\n",
       "      <td>5.0</td>\n",
       "      <td>56.0</td>\n",
       "    </tr>\n",
       "    <tr>\n",
       "      <th>1</th>\n",
       "      <td>I will do data mining, web scraping, data extr...</td>\n",
       "      <td>https://www.fiverr.com/hotopilams/do-data-mini...</td>\n",
       "      <td>Top Rated Seller</td>\n",
       "      <td>3.263</td>\n",
       "      <td>5.0</td>\n",
       "      <td>1000.0</td>\n",
       "    </tr>\n",
       "  </tbody>\n",
       "</table>\n",
       "</div>"
      ],
      "text/plain": [
       "                                               Title  \\\n",
       "0  I will do excel formulas, vba macros, charts, ...   \n",
       "1  I will do data mining, web scraping, data extr...   \n",
       "\n",
       "                                           Title_URL             Level  Price  \\\n",
       "0  https://www.fiverr.com/maltehar/do-excel-formu...    Level 2 Seller  8.701   \n",
       "1  https://www.fiverr.com/hotopilams/do-data-mini...  Top Rated Seller  3.263   \n",
       "\n",
       "   Rating_Score  Rating_Count  \n",
       "0           5.0          56.0  \n",
       "1           5.0        1000.0  "
      ]
     },
     "execution_count": 97,
     "metadata": {},
     "output_type": "execute_result"
    }
   ],
   "source": [
    "df.head(2)"
   ]
  },
  {
   "cell_type": "markdown",
   "id": "2b32a96f",
   "metadata": {},
   "source": [
    "## 📊 Statistiques descriptives"
   ]
  },
  {
   "cell_type": "code",
   "execution_count": 98,
   "id": "ebcb87bd",
   "metadata": {},
   "outputs": [
    {
     "data": {
      "text/html": [
       "<div>\n",
       "<style scoped>\n",
       "    .dataframe tbody tr th:only-of-type {\n",
       "        vertical-align: middle;\n",
       "    }\n",
       "\n",
       "    .dataframe tbody tr th {\n",
       "        vertical-align: top;\n",
       "    }\n",
       "\n",
       "    .dataframe thead th {\n",
       "        text-align: right;\n",
       "    }\n",
       "</style>\n",
       "<table border=\"1\" class=\"dataframe\">\n",
       "  <thead>\n",
       "    <tr style=\"text-align: right;\">\n",
       "      <th></th>\n",
       "      <th>Price</th>\n",
       "      <th>Rating_Score</th>\n",
       "      <th>Rating_Count</th>\n",
       "    </tr>\n",
       "  </thead>\n",
       "  <tbody>\n",
       "    <tr>\n",
       "      <th>count</th>\n",
       "      <td>1259.000000</td>\n",
       "      <td>1259.000000</td>\n",
       "      <td>1259.000000</td>\n",
       "    </tr>\n",
       "    <tr>\n",
       "      <th>mean</th>\n",
       "      <td>14.993086</td>\n",
       "      <td>4.965020</td>\n",
       "      <td>79.373471</td>\n",
       "    </tr>\n",
       "    <tr>\n",
       "      <th>std</th>\n",
       "      <td>70.785249</td>\n",
       "      <td>0.134617</td>\n",
       "      <td>137.857219</td>\n",
       "    </tr>\n",
       "    <tr>\n",
       "      <th>min</th>\n",
       "      <td>1.088000</td>\n",
       "      <td>1.000000</td>\n",
       "      <td>1.000000</td>\n",
       "    </tr>\n",
       "    <tr>\n",
       "      <th>25%</th>\n",
       "      <td>2.176000</td>\n",
       "      <td>4.980000</td>\n",
       "      <td>15.000000</td>\n",
       "    </tr>\n",
       "    <tr>\n",
       "      <th>50%</th>\n",
       "      <td>4.351000</td>\n",
       "      <td>5.000000</td>\n",
       "      <td>32.000000</td>\n",
       "    </tr>\n",
       "    <tr>\n",
       "      <th>75%</th>\n",
       "      <td>10.876000</td>\n",
       "      <td>5.000000</td>\n",
       "      <td>76.600000</td>\n",
       "    </tr>\n",
       "    <tr>\n",
       "      <th>max</th>\n",
       "      <td>2175.105000</td>\n",
       "      <td>5.000000</td>\n",
       "      <td>1000.000000</td>\n",
       "    </tr>\n",
       "  </tbody>\n",
       "</table>\n",
       "</div>"
      ],
      "text/plain": [
       "             Price  Rating_Score  Rating_Count\n",
       "count  1259.000000   1259.000000   1259.000000\n",
       "mean     14.993086      4.965020     79.373471\n",
       "std      70.785249      0.134617    137.857219\n",
       "min       1.088000      1.000000      1.000000\n",
       "25%       2.176000      4.980000     15.000000\n",
       "50%       4.351000      5.000000     32.000000\n",
       "75%      10.876000      5.000000     76.600000\n",
       "max    2175.105000      5.000000   1000.000000"
      ]
     },
     "execution_count": 98,
     "metadata": {},
     "output_type": "execute_result"
    }
   ],
   "source": [
    "df.describe()"
   ]
  },
  {
   "cell_type": "markdown",
   "id": "804adc51",
   "metadata": {},
   "source": [
    "## 📈 Visualisation des distributions"
   ]
  },
  {
   "cell_type": "code",
   "execution_count": 99,
   "id": "a046cdd7",
   "metadata": {},
   "outputs": [
    {
     "data": {
      "image/png": "[encoded data removed]",
      "text/plain": [
       "<Figure size 1500x800 with 3 Axes>"
      ]
     },
     "metadata": {},
     "output_type": "display_data"
    }
   ],
   "source": [
    "numerical_cols = df.select_dtypes(include=['float64', 'int']).columns\n",
    "\n",
    "plt.figure(figsize=(15, 8))\n",
    "for i, col in enumerate(numerical_cols):\n",
    "    plt.subplot(2, 3, i + 1)\n",
    "    sns.histplot(df[col].dropna(), kde=True)\n",
    "    plt.title(col)\n",
    "plt.tight_layout()\n",
    "plt.show()\n"
   ]
  },
  {
   "cell_type": "markdown",
   "id": "86ab2adf",
   "metadata": {},
   "source": [
    "## 💾 Export du fichier nettoyé"
   ]
  },
  {
   "cell_type": "code",
   "execution_count": 100,
   "id": "c3f3ae1c",
   "metadata": {},
   "outputs": [
    {
     "name": "stdout",
     "output_type": "stream",
     "text": [
      "✅ Données exportées dans 'data/fiverr_gigs/fiverr-data-gigs-cleaned.csv'\n"
     ]
    }
   ],
   "source": [
    "df.to_csv('data/fiverr_gigs/fiverr-data-gigs-cleaned.csv', index=False, encoding='utf-8')\n",
    "print(\"✅ Données exportées dans 'data/fiverr_gigs/fiverr-data-gigs-cleaned.csv'\")"
   ]
  }
 ],
 "metadata": {
  "kernelspec": {
   "display_name": ".venv",
   "language": "python",
   "name": "python3"
  },
  "language_info": {
   "codemirror_mode": {
    "name": "ipython",
    "version": 3
   },
   "file_extension": ".py",
   "mimetype": "text/x-python",
   "name": "python",
   "nbconvert_exporter": "python",
   "pygments_lexer": "ipython3",
   "version": "3.11.9"
  }
 },
 "nbformat": 4,
 "nbformat_minor": 5
}
