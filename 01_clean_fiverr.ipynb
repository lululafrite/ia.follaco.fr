{
 "cells": [
  {
   "cell_type": "markdown",
   "id": "c1b0b719",
   "metadata": {},
   "source": [
    "# 🧼 Nettoyage des données brutes Fiverr\n",
    "Ce notebook reprend les **données brutes** du dataset Fiverr (téléchargées via Kaggle) et applique un **nettoyage complet** en plusieurs étapes :\n",
    "\n",
    "🎯 Objectifs :\n",
    "- Explorer les colonnes disponibles\n",
    "- Supprimer les colonnes inutiles ou vides\n",
    "- Nettoyer les chaînes de caractères et valeurs incohérentes\n",
    "- Convertir les types de données\n",
    "- Exporter un fichier nettoyé `fiverr-data-gigs-cleaned.csv`\n",
    "\n",
    "**Compétences couvertes :** Bloc 3 C2 et Bloc 5 C1"
   ]
  },
  {
   "cell_type": "markdown",
   "id": "c1ff2432",
   "metadata": {},
   "source": [
    "## 📦 Importation des bibliothèques"
   ]
  },
  {
   "cell_type": "code",
   "execution_count": 58,
   "id": "1a4b48c2",
   "metadata": {},
   "outputs": [],
   "source": [
    "import pandas as pd\n",
    "import matplotlib.pyplot as plt\n",
    "import seaborn as sns\n",
    "import numpy as np\n",
    "import os\n",
    "import re\n",
    "\n",
    "sns.set(style='whitegrid')"
   ]
  },
  {
   "cell_type": "markdown",
   "id": "a328d889",
   "metadata": {},
   "source": [
    "## 📂 Chargement des données brutes Fiverr"
   ]
  },
  {
   "cell_type": "code",
   "execution_count": 75,
   "id": "2592b402",
   "metadata": {},
   "outputs": [
    {
     "name": "stdout",
     "output_type": "stream",
     "text": [
      "['ï»¿Title', 'Title_URL', 'gigrating', '_5fo9i5', 'Price']\n"
     ]
    }
   ],
   "source": [
    "# Chargement du fichier brut Fiverr (à adapter selon le nom réel)\n",
    "df = pd.read_csv(\n",
    "    'data/fiverr_gigs/fiverr-data-gigs.csv',\n",
    "    encoding='latin-1',\n",
    "    low_memory=False\n",
    ")\n",
    "\n",
    "# Vérifier les noms de colonnes bruts\n",
    "print(df.columns.tolist())"
   ]
  },
  {
   "cell_type": "code",
   "execution_count": 76,
   "id": "692a74ce",
   "metadata": {},
   "outputs": [
    {
     "name": "stdout",
     "output_type": "stream",
     "text": [
      "['Title', 'Title_URL', 'Rating', 'Level', 'Price']\n"
     ]
    }
   ],
   "source": [
    "# Renommer proprement la première colonne\n",
    "df.rename(columns={'ï»¿Title': 'Title'}, inplace=True)\n",
    "df.rename(columns={'gigrating': 'Rating'}, inplace=True)\n",
    "df.rename(columns={'_5fo9i5': 'Level'}, inplace=True)\n",
    "\n",
    "print(df.columns.tolist())"
   ]
  },
  {
   "cell_type": "code",
   "execution_count": 77,
   "id": "203f907d",
   "metadata": {},
   "outputs": [
    {
     "name": "stdout",
     "output_type": "stream",
     "text": [
      "Dimensions : (1259, 5)\n"
     ]
    },
    {
     "data": {
      "text/html": [
       "<div>\n",
       "<style scoped>\n",
       "    .dataframe tbody tr th:only-of-type {\n",
       "        vertical-align: middle;\n",
       "    }\n",
       "\n",
       "    .dataframe tbody tr th {\n",
       "        vertical-align: top;\n",
       "    }\n",
       "\n",
       "    .dataframe thead th {\n",
       "        text-align: right;\n",
       "    }\n",
       "</style>\n",
       "<table border=\"1\" class=\"dataframe\">\n",
       "  <thead>\n",
       "    <tr style=\"text-align: right;\">\n",
       "      <th></th>\n",
       "      <th>Title</th>\n",
       "      <th>Title_URL</th>\n",
       "      <th>Rating</th>\n",
       "      <th>Level</th>\n",
       "      <th>Price</th>\n",
       "    </tr>\n",
       "  </thead>\n",
       "  <tbody>\n",
       "    <tr>\n",
       "      <th>0</th>\n",
       "      <td>I will do excel formulas, vba macros, charts, ...</td>\n",
       "      <td>https://www.fiverr.com/maltehar/do-excel-formu...</td>\n",
       "      <td>5.0(56)</td>\n",
       "      <td>Level 2 Seller</td>\n",
       "      <td>PKRÂ 8,701</td>\n",
       "    </tr>\n",
       "    <tr>\n",
       "      <th>1</th>\n",
       "      <td>I will do data mining, web scraping, data extr...</td>\n",
       "      <td>https://www.fiverr.com/hotopilams/do-data-mini...</td>\n",
       "      <td>5.0(1k+)</td>\n",
       "      <td>Top Rated Seller</td>\n",
       "      <td>PKRÂ 3,263</td>\n",
       "    </tr>\n",
       "    <tr>\n",
       "      <th>2</th>\n",
       "      <td>I will do web scraping , data scraping, scrapi...</td>\n",
       "      <td>https://www.fiverr.com/kodweb/do-web-scraping-...</td>\n",
       "      <td>5.0(63)</td>\n",
       "      <td>Level 2 Seller</td>\n",
       "      <td>PKRÂ 2,176</td>\n",
       "    </tr>\n",
       "    <tr>\n",
       "      <th>3</th>\n",
       "      <td>I will do python web scraping , data entry , a...</td>\n",
       "      <td>https://www.fiverr.com/asad__haadi/do-web-scra...</td>\n",
       "      <td>5.0(266)</td>\n",
       "      <td>Level 2 Seller</td>\n",
       "      <td>PKRÂ 1,088</td>\n",
       "    </tr>\n",
       "    <tr>\n",
       "      <th>4</th>\n",
       "      <td>I will data scraping web site scraping and dat...</td>\n",
       "      <td>https://www.fiverr.com/yourbuddy/web-scraping-...</td>\n",
       "      <td>4.9(275)</td>\n",
       "      <td>Level 2 Seller</td>\n",
       "      <td>PKRÂ 4,351</td>\n",
       "    </tr>\n",
       "  </tbody>\n",
       "</table>\n",
       "</div>"
      ],
      "text/plain": [
       "                                               Title  \\\n",
       "0  I will do excel formulas, vba macros, charts, ...   \n",
       "1  I will do data mining, web scraping, data extr...   \n",
       "2  I will do web scraping , data scraping, scrapi...   \n",
       "3  I will do python web scraping , data entry , a...   \n",
       "4  I will data scraping web site scraping and dat...   \n",
       "\n",
       "                                           Title_URL    Rating  \\\n",
       "0  https://www.fiverr.com/maltehar/do-excel-formu...   5.0(56)   \n",
       "1  https://www.fiverr.com/hotopilams/do-data-mini...  5.0(1k+)   \n",
       "2  https://www.fiverr.com/kodweb/do-web-scraping-...   5.0(63)   \n",
       "3  https://www.fiverr.com/asad__haadi/do-web-scra...  5.0(266)   \n",
       "4  https://www.fiverr.com/yourbuddy/web-scraping-...  4.9(275)   \n",
       "\n",
       "              Level       Price  \n",
       "0    Level 2 Seller  PKRÂ 8,701  \n",
       "1  Top Rated Seller  PKRÂ 3,263  \n",
       "2    Level 2 Seller  PKRÂ 2,176  \n",
       "3    Level 2 Seller  PKRÂ 1,088  \n",
       "4    Level 2 Seller  PKRÂ 4,351  "
      ]
     },
     "execution_count": 77,
     "metadata": {},
     "output_type": "execute_result"
    }
   ],
   "source": [
    "# Nettoyage des noms de colonnes pour supprimer les caractères spéciaux cachés (comme ï»¿)\n",
    "#df.columns = df.columns.str.encode('utf-8').str.decode('utf-8-sig').str.strip()\n",
    "\n",
    "# Affichage des premières lignes et dimensions\n",
    "print(f\"Dimensions : {df.shape}\")\n",
    "df.head()"
   ]
  },
  {
   "cell_type": "code",
   "execution_count": 78,
   "id": "2793d212",
   "metadata": {},
   "outputs": [
    {
     "name": "stdout",
     "output_type": "stream",
     "text": [
      "     Rating  Rating_Score  Rating_Count\n",
      "0   5.0(56)           5.0          56.0\n",
      "1  5.0(1k+)           5.0        1000.0\n",
      "2   5.0(63)           5.0          63.0\n",
      "3  5.0(266)           5.0         266.0\n",
      "4  4.9(275)           4.9         275.0\n",
      "5  5.0(181)           5.0         181.0\n",
      "6  5.0(211)           5.0         211.0\n",
      "7  5.0(398)           5.0         398.0\n",
      "8   5.0(61)           5.0          61.0\n",
      "9   5.0(16)           5.0          16.0\n"
     ]
    }
   ],
   "source": [
    "# 🔧 Séparation de la colonne 'Rating' en deux nouvelles colonnes\n",
    "\n",
    "# 1. Extraire la note (avant la parenthèse) → ex : \"5.0\" dans \"5.0(56)\"\n",
    "df['Rating_Score'] = df['Rating'].str.extract(r'^([\\d.]+)').astype(float)\n",
    "\n",
    "# 2. Extraire le nombre d'évaluations (dans la parenthèse) → ex : \"56\" dans \"5.0(56)\"\n",
    "# Cas spéciaux : \"1k+\" → on convertit en 1000 ; \"2.5k+\" → 2500, etc.\n",
    "def parse_review_count(s):\n",
    "    if pd.isna(s):\n",
    "        return np.nan\n",
    "    match = re.search(r'\\(([\\d\\.kK\\+]+)\\)', s)\n",
    "    if not match:\n",
    "        return np.nan\n",
    "    val = match.group(1).lower().replace('+', '')\n",
    "    if 'k' in val:\n",
    "        try:\n",
    "            return int(float(val.replace('k', '')) * 1000)\n",
    "        except:\n",
    "            return np.nan\n",
    "    try:\n",
    "        return int(val)\n",
    "    except:\n",
    "        return np.nan\n",
    "\n",
    "df['Rating_Count'] = df['Rating'].apply(parse_review_count)\n",
    "\n",
    "# 🔍 Vérification\n",
    "print(df[['Rating', 'Rating_Score', 'Rating_Count']].head(10))"
   ]
  },
  {
   "cell_type": "code",
   "execution_count": 79,
   "id": "1d10b11c",
   "metadata": {},
   "outputs": [
    {
     "name": "stdout",
     "output_type": "stream",
     "text": [
      "   Rating_Score  Rating_Count\n",
      "0           5.0          56.0\n",
      "1           5.0        1000.0\n",
      "2           5.0          63.0\n",
      "3           5.0         266.0\n",
      "4           4.9         275.0\n",
      "5           5.0         181.0\n",
      "6           5.0         211.0\n",
      "7           5.0         398.0\n",
      "8           5.0          61.0\n",
      "9           5.0          16.0\n"
     ]
    }
   ],
   "source": [
    "# 🔥 Suppression de la colonne initiale \"Rating\" devenue inutile\n",
    "df.drop(columns=['Rating'], inplace=True)\n",
    "# 🔍 Vérification\n",
    "print(df[['Rating_Score', 'Rating_Count']].head(10))"
   ]
  },
  {
   "cell_type": "markdown",
   "id": "eedfe7b7",
   "metadata": {},
   "source": [
    "## 🔍 Analyse des valeurs manquantes"
   ]
  },
  {
   "cell_type": "code",
   "execution_count": 80,
   "id": "458c59ac",
   "metadata": {},
   "outputs": [
    {
     "data": {
      "text/plain": [
       "Level           827\n",
       "Rating_Score    630\n",
       "Rating_Count    630\n",
       "dtype: int64"
      ]
     },
     "execution_count": 80,
     "metadata": {},
     "output_type": "execute_result"
    }
   ],
   "source": [
    "missing = df.isnull().sum().sort_values(ascending=False)\n",
    "missing[missing > 0].head(20)"
   ]
  },
  {
   "cell_type": "code",
   "execution_count": 81,
   "id": "57efa91b",
   "metadata": {},
   "outputs": [
    {
     "data": {
      "image/png": "[encoded data removed]",
      "text/plain": [
       "<Figure size 1200x600 with 1 Axes>"
      ]
     },
     "metadata": {},
     "output_type": "display_data"
    }
   ],
   "source": [
    "# Visualisation des valeurs manquantes par colonne\n",
    "plt.figure(figsize=(12, 6))\n",
    "sns.barplot(y=missing[missing > 0].index, x=missing[missing > 0].values)\n",
    "plt.title(\"Valeurs manquantes par colonne\")\n",
    "plt.xlabel(\"Nombre de valeurs manquantes\")\n",
    "plt.ylabel(\"Colonnes\")\n",
    "plt.show()"
   ]
  },
  {
   "cell_type": "markdown",
   "id": "e3327e83",
   "metadata": {},
   "source": [
    "## 🧹 Suppression des colonnes inutiles ou vides"
   ]
  },
  {
   "cell_type": "code",
   "execution_count": 82,
   "id": "89d5f102",
   "metadata": {},
   "outputs": [
    {
     "name": "stdout",
     "output_type": "stream",
     "text": [
      "Colonnes supprimées (vides) : []\n"
     ]
    }
   ],
   "source": [
    "# Exemple : suppression des colonnes entièrement vides ou peu utiles\n",
    "empty_cols = missing[missing == len(df)].index.tolist()\n",
    "df.drop(columns=empty_cols, inplace=True)\n",
    "print(f\"Colonnes supprimées (vides) : {empty_cols}\")"
   ]
  },
  {
   "cell_type": "markdown",
   "id": "072c10ad",
   "metadata": {},
   "source": [
    "## 📊 Statistiques descriptives des colonnes numériques"
   ]
  },
  {
   "cell_type": "code",
   "execution_count": 83,
   "id": "e89b2f8f",
   "metadata": {},
   "outputs": [
    {
     "data": {
      "text/html": [
       "<div>\n",
       "<style scoped>\n",
       "    .dataframe tbody tr th:only-of-type {\n",
       "        vertical-align: middle;\n",
       "    }\n",
       "\n",
       "    .dataframe tbody tr th {\n",
       "        vertical-align: top;\n",
       "    }\n",
       "\n",
       "    .dataframe thead th {\n",
       "        text-align: right;\n",
       "    }\n",
       "</style>\n",
       "<table border=\"1\" class=\"dataframe\">\n",
       "  <thead>\n",
       "    <tr style=\"text-align: right;\">\n",
       "      <th></th>\n",
       "      <th>count</th>\n",
       "      <th>unique</th>\n",
       "      <th>top</th>\n",
       "      <th>freq</th>\n",
       "      <th>mean</th>\n",
       "      <th>std</th>\n",
       "      <th>min</th>\n",
       "      <th>25%</th>\n",
       "      <th>50%</th>\n",
       "      <th>75%</th>\n",
       "      <th>max</th>\n",
       "    </tr>\n",
       "  </thead>\n",
       "  <tbody>\n",
       "    <tr>\n",
       "      <th>Title</th>\n",
       "      <td>1259</td>\n",
       "      <td>1183</td>\n",
       "      <td>I will do machine learning python projects</td>\n",
       "      <td>6</td>\n",
       "      <td>NaN</td>\n",
       "      <td>NaN</td>\n",
       "      <td>NaN</td>\n",
       "      <td>NaN</td>\n",
       "      <td>NaN</td>\n",
       "      <td>NaN</td>\n",
       "      <td>NaN</td>\n",
       "    </tr>\n",
       "    <tr>\n",
       "      <th>Title_URL</th>\n",
       "      <td>1259</td>\n",
       "      <td>1259</td>\n",
       "      <td>https://www.fiverr.com/maltehar/do-excel-formu...</td>\n",
       "      <td>1</td>\n",
       "      <td>NaN</td>\n",
       "      <td>NaN</td>\n",
       "      <td>NaN</td>\n",
       "      <td>NaN</td>\n",
       "      <td>NaN</td>\n",
       "      <td>NaN</td>\n",
       "      <td>NaN</td>\n",
       "    </tr>\n",
       "    <tr>\n",
       "      <th>Level</th>\n",
       "      <td>432</td>\n",
       "      <td>4</td>\n",
       "      <td>Level 2 Seller</td>\n",
       "      <td>212</td>\n",
       "      <td>NaN</td>\n",
       "      <td>NaN</td>\n",
       "      <td>NaN</td>\n",
       "      <td>NaN</td>\n",
       "      <td>NaN</td>\n",
       "      <td>NaN</td>\n",
       "      <td>NaN</td>\n",
       "    </tr>\n",
       "    <tr>\n",
       "      <th>Price</th>\n",
       "      <td>1259</td>\n",
       "      <td>58</td>\n",
       "      <td>PKRÂ 1,088</td>\n",
       "      <td>228</td>\n",
       "      <td>NaN</td>\n",
       "      <td>NaN</td>\n",
       "      <td>NaN</td>\n",
       "      <td>NaN</td>\n",
       "      <td>NaN</td>\n",
       "      <td>NaN</td>\n",
       "      <td>NaN</td>\n",
       "    </tr>\n",
       "    <tr>\n",
       "      <th>Rating_Score</th>\n",
       "      <td>629.0</td>\n",
       "      <td>NaN</td>\n",
       "      <td>NaN</td>\n",
       "      <td>NaN</td>\n",
       "      <td>4.955167</td>\n",
       "      <td>0.186638</td>\n",
       "      <td>1.0</td>\n",
       "      <td>5.0</td>\n",
       "      <td>5.0</td>\n",
       "      <td>5.0</td>\n",
       "      <td>5.0</td>\n",
       "    </tr>\n",
       "    <tr>\n",
       "      <th>Rating_Count</th>\n",
       "      <td>629.0</td>\n",
       "      <td>NaN</td>\n",
       "      <td>NaN</td>\n",
       "      <td>NaN</td>\n",
       "      <td>77.802862</td>\n",
       "      <td>179.537993</td>\n",
       "      <td>1.0</td>\n",
       "      <td>4.0</td>\n",
       "      <td>16.0</td>\n",
       "      <td>55.0</td>\n",
       "      <td>1000.0</td>\n",
       "    </tr>\n",
       "  </tbody>\n",
       "</table>\n",
       "</div>"
      ],
      "text/plain": [
       "              count unique                                                top  \\\n",
       "Title          1259   1183         I will do machine learning python projects   \n",
       "Title_URL      1259   1259  https://www.fiverr.com/maltehar/do-excel-formu...   \n",
       "Level           432      4                                     Level 2 Seller   \n",
       "Price          1259     58                                         PKRÂ 1,088   \n",
       "Rating_Score  629.0    NaN                                                NaN   \n",
       "Rating_Count  629.0    NaN                                                NaN   \n",
       "\n",
       "             freq       mean         std  min  25%   50%   75%     max  \n",
       "Title           6        NaN         NaN  NaN  NaN   NaN   NaN     NaN  \n",
       "Title_URL       1        NaN         NaN  NaN  NaN   NaN   NaN     NaN  \n",
       "Level         212        NaN         NaN  NaN  NaN   NaN   NaN     NaN  \n",
       "Price         228        NaN         NaN  NaN  NaN   NaN   NaN     NaN  \n",
       "Rating_Score  NaN   4.955167    0.186638  1.0  5.0   5.0   5.0     5.0  \n",
       "Rating_Count  NaN  77.802862  179.537993  1.0  4.0  16.0  55.0  1000.0  "
      ]
     },
     "execution_count": 83,
     "metadata": {},
     "output_type": "execute_result"
    }
   ],
   "source": [
    "df.describe(include='all').T"
   ]
  },
  {
   "cell_type": "markdown",
   "id": "0d534abc",
   "metadata": {},
   "source": [
    "## 📈 Visualisation des distributions numériques"
   ]
  },
  {
   "cell_type": "code",
   "execution_count": 84,
   "id": "21179716",
   "metadata": {},
   "outputs": [
    {
     "data": {
      "image/png": "[encoded data removed]",
      "text/plain": [
       "<Figure size 1500x400 with 2 Axes>"
      ]
     },
     "metadata": {},
     "output_type": "display_data"
    }
   ],
   "source": [
    "numeric_cols = df.select_dtypes(include=['float64', 'int64']).columns\n",
    "n_cols = 3\n",
    "n_rows = int(np.ceil(len(numeric_cols) / n_cols))\n",
    "plt.figure(figsize=(n_cols * 5, n_rows * 4))\n",
    "for i, col in enumerate(numeric_cols):\n",
    "    plt.subplot(n_rows, n_cols, i + 1)\n",
    "    sns.histplot(df[col].dropna(), kde=True)\n",
    "    plt.title(col)\n",
    "plt.tight_layout()\n",
    "plt.show()"
   ]
  },
  {
   "cell_type": "markdown",
   "id": "5d2e4d59",
   "metadata": {},
   "source": [
    "## ✏️ Nettoyage des chaînes de caractères\n",
    "\n",
    "Cette étape vise à préparer les colonnes textuelles et numériques mal formatées :\n",
    "\n",
    "- **Pourquoi maintenant ?**  \n",
    "  Car les modèles d’analyse et de machine learning exigent des formats cohérents (texte propre, nombres au bon format).\n",
    "\n",
    "- **Colonne `Title`** :  \n",
    "  On supprime les espaces en début/fin de chaîne (`str.strip()`), souvent invisibles mais gênants pour la comparaison ou la vectorisation.\n",
    "\n",
    "- **Colonne `Price`** :  \n",
    "  Ce champ contient à la fois :\n",
    "  - une **devise locale non utile ici** (`PKR`, `Â`),\n",
    "  - des **caractères spéciaux** (espaces insécables, séparateurs),\n",
    "  - des **virgules** en tant que séparateurs de milliers (à supprimer).\n",
    "  \n",
    "  L’objectif est d’obtenir un champ **numérique exploitable**, en `float`, prêt pour l’analyse statistique et la modélisation.\n",
    "\n",
    "- **Pourquoi ne pas convertir immédiatement avec `pd.to_numeric()` ?**  \n",
    "  Parce que les caractères parasites empêchent la détection automatique. Il faut d’abord les nettoyer.\n",
    "\n",
    "➡️ Cette étape est essentielle pour assurer la qualité du dataset et éviter les erreurs futures.\n"
   ]
  },
  {
   "cell_type": "code",
   "execution_count": 85,
   "id": "ce389b84",
   "metadata": {},
   "outputs": [
    {
     "name": "stdout",
     "output_type": "stream",
     "text": [
      "0    8.701\n",
      "1    3.263\n",
      "2    2.176\n",
      "3    1.088\n",
      "4    4.351\n",
      "Name: Price, dtype: object\n"
     ]
    }
   ],
   "source": [
    "# Suppression des espaces superflus sur la colonne 'Title'\n",
    "df['Title'] = df['Title'].astype(str).str.strip()\n",
    "\n",
    "# Nettoyage de la colonne 'Price'\n",
    "# Étapes :\n",
    "# 1. Supprimer les caractères non numériques (lettres, devises, espaces, caractères spéciaux)\n",
    "# 2. Supprimer les séparateurs de milliers ','\n",
    "# 3. Convertir en float\n",
    "\n",
    "df['Price'] = (\n",
    "    df['Price']\n",
    "    .astype(str)\n",
    "    .str.replace(r'[^\\d,]', '', regex=True)  # supprimer tout sauf chiffres et virgule\n",
    "    .str.replace(',', '.')                   # supprimer les virgules\n",
    "    .replace('', np.nan)                    # convertir les cellules vides en NaN\n",
    ")\n",
    "\n",
    "# Vérification\n",
    "print(df['Price'].head())\n"
   ]
  },
  {
   "cell_type": "markdown",
   "id": "a3c0fff5",
   "metadata": {},
   "source": [
    "## 💾 Export du fichier nettoyé"
   ]
  },
  {
   "cell_type": "code",
   "execution_count": 86,
   "id": "307b75f6",
   "metadata": {},
   "outputs": [
    {
     "name": "stdout",
     "output_type": "stream",
     "text": [
      "✅ Fichier exporté : fiverr-data-gigs-cleaned.csv\n"
     ]
    }
   ],
   "source": [
    "df.to_csv('data/fiverr_gigs/fiverr-data-gigs-cleaned.csv', index=False, encoding='utf-8')\n",
    "print(\"✅ Fichier exporté : fiverr-data-gigs-cleaned.csv\")"
   ]
  },
  {
   "cell_type": "code",
   "execution_count": 87,
   "id": "5f322117",
   "metadata": {},
   "outputs": [
    {
     "data": {
      "text/html": [
       "<div>\n",
       "<style scoped>\n",
       "    .dataframe tbody tr th:only-of-type {\n",
       "        vertical-align: middle;\n",
       "    }\n",
       "\n",
       "    .dataframe tbody tr th {\n",
       "        vertical-align: top;\n",
       "    }\n",
       "\n",
       "    .dataframe thead th {\n",
       "        text-align: right;\n",
       "    }\n",
       "</style>\n",
       "<table border=\"1\" class=\"dataframe\">\n",
       "  <thead>\n",
       "    <tr style=\"text-align: right;\">\n",
       "      <th></th>\n",
       "      <th>Title</th>\n",
       "      <th>Title_URL</th>\n",
       "      <th>Level</th>\n",
       "      <th>Price</th>\n",
       "      <th>Rating_Score</th>\n",
       "      <th>Rating_Count</th>\n",
       "    </tr>\n",
       "  </thead>\n",
       "  <tbody>\n",
       "    <tr>\n",
       "      <th>0</th>\n",
       "      <td>I will do excel formulas, vba macros, charts, ...</td>\n",
       "      <td>https://www.fiverr.com/maltehar/do-excel-formu...</td>\n",
       "      <td>Level 2 Seller</td>\n",
       "      <td>8.701</td>\n",
       "      <td>5.0</td>\n",
       "      <td>56.0</td>\n",
       "    </tr>\n",
       "    <tr>\n",
       "      <th>1</th>\n",
       "      <td>I will do data mining, web scraping, data extr...</td>\n",
       "      <td>https://www.fiverr.com/hotopilams/do-data-mini...</td>\n",
       "      <td>Top Rated Seller</td>\n",
       "      <td>3.263</td>\n",
       "      <td>5.0</td>\n",
       "      <td>1000.0</td>\n",
       "    </tr>\n",
       "    <tr>\n",
       "      <th>2</th>\n",
       "      <td>I will do web scraping , data scraping, scrapi...</td>\n",
       "      <td>https://www.fiverr.com/kodweb/do-web-scraping-...</td>\n",
       "      <td>Level 2 Seller</td>\n",
       "      <td>2.176</td>\n",
       "      <td>5.0</td>\n",
       "      <td>63.0</td>\n",
       "    </tr>\n",
       "    <tr>\n",
       "      <th>3</th>\n",
       "      <td>I will do python web scraping , data entry , a...</td>\n",
       "      <td>https://www.fiverr.com/asad__haadi/do-web-scra...</td>\n",
       "      <td>Level 2 Seller</td>\n",
       "      <td>1.088</td>\n",
       "      <td>5.0</td>\n",
       "      <td>266.0</td>\n",
       "    </tr>\n",
       "    <tr>\n",
       "      <th>4</th>\n",
       "      <td>I will data scraping web site scraping and dat...</td>\n",
       "      <td>https://www.fiverr.com/yourbuddy/web-scraping-...</td>\n",
       "      <td>Level 2 Seller</td>\n",
       "      <td>4.351</td>\n",
       "      <td>4.9</td>\n",
       "      <td>275.0</td>\n",
       "    </tr>\n",
       "    <tr>\n",
       "      <th>...</th>\n",
       "      <td>...</td>\n",
       "      <td>...</td>\n",
       "      <td>...</td>\n",
       "      <td>...</td>\n",
       "      <td>...</td>\n",
       "      <td>...</td>\n",
       "    </tr>\n",
       "    <tr>\n",
       "      <th>1254</th>\n",
       "      <td>I will do any natural language processing or n...</td>\n",
       "      <td>https://www.fiverr.com/python_expertz/do-any-n...</td>\n",
       "      <td>NaN</td>\n",
       "      <td>2.176</td>\n",
       "      <td>4.9</td>\n",
       "      <td>22.0</td>\n",
       "    </tr>\n",
       "    <tr>\n",
       "      <th>1255</th>\n",
       "      <td>I will make your machine learning projects in ...</td>\n",
       "      <td>https://www.fiverr.com/djangomaster1/make-your...</td>\n",
       "      <td>Level 1 Seller</td>\n",
       "      <td>6.526</td>\n",
       "      <td>4.9</td>\n",
       "      <td>56.0</td>\n",
       "    </tr>\n",
       "    <tr>\n",
       "      <th>1256</th>\n",
       "      <td>I will do machine learning python projects</td>\n",
       "      <td>https://www.fiverr.com/codeflirty/do-machine-l...</td>\n",
       "      <td>NaN</td>\n",
       "      <td>27.189</td>\n",
       "      <td>5.0</td>\n",
       "      <td>22.0</td>\n",
       "    </tr>\n",
       "    <tr>\n",
       "      <th>1257</th>\n",
       "      <td>I will do machine learning projects in python</td>\n",
       "      <td>https://www.fiverr.com/jarypo/machine-learning...</td>\n",
       "      <td>Level 2 Seller</td>\n",
       "      <td>18.489</td>\n",
       "      <td>4.9</td>\n",
       "      <td>38.0</td>\n",
       "    </tr>\n",
       "    <tr>\n",
       "      <th>1258</th>\n",
       "      <td>I will do python projects using machine learni...</td>\n",
       "      <td>https://www.fiverr.com/every_solution7/do-pyth...</td>\n",
       "      <td>Level 1 Seller</td>\n",
       "      <td>17.401</td>\n",
       "      <td>4.6</td>\n",
       "      <td>11.0</td>\n",
       "    </tr>\n",
       "  </tbody>\n",
       "</table>\n",
       "<p>1259 rows × 6 columns</p>\n",
       "</div>"
      ],
      "text/plain": [
       "                                                  Title  \\\n",
       "0     I will do excel formulas, vba macros, charts, ...   \n",
       "1     I will do data mining, web scraping, data extr...   \n",
       "2     I will do web scraping , data scraping, scrapi...   \n",
       "3     I will do python web scraping , data entry , a...   \n",
       "4     I will data scraping web site scraping and dat...   \n",
       "...                                                 ...   \n",
       "1254  I will do any natural language processing or n...   \n",
       "1255  I will make your machine learning projects in ...   \n",
       "1256         I will do machine learning python projects   \n",
       "1257      I will do machine learning projects in python   \n",
       "1258  I will do python projects using machine learni...   \n",
       "\n",
       "                                              Title_URL             Level  \\\n",
       "0     https://www.fiverr.com/maltehar/do-excel-formu...    Level 2 Seller   \n",
       "1     https://www.fiverr.com/hotopilams/do-data-mini...  Top Rated Seller   \n",
       "2     https://www.fiverr.com/kodweb/do-web-scraping-...    Level 2 Seller   \n",
       "3     https://www.fiverr.com/asad__haadi/do-web-scra...    Level 2 Seller   \n",
       "4     https://www.fiverr.com/yourbuddy/web-scraping-...    Level 2 Seller   \n",
       "...                                                 ...               ...   \n",
       "1254  https://www.fiverr.com/python_expertz/do-any-n...               NaN   \n",
       "1255  https://www.fiverr.com/djangomaster1/make-your...    Level 1 Seller   \n",
       "1256  https://www.fiverr.com/codeflirty/do-machine-l...               NaN   \n",
       "1257  https://www.fiverr.com/jarypo/machine-learning...    Level 2 Seller   \n",
       "1258  https://www.fiverr.com/every_solution7/do-pyth...    Level 1 Seller   \n",
       "\n",
       "       Price  Rating_Score  Rating_Count  \n",
       "0      8.701           5.0          56.0  \n",
       "1      3.263           5.0        1000.0  \n",
       "2      2.176           5.0          63.0  \n",
       "3      1.088           5.0         266.0  \n",
       "4      4.351           4.9         275.0  \n",
       "...      ...           ...           ...  \n",
       "1254   2.176           4.9          22.0  \n",
       "1255   6.526           4.9          56.0  \n",
       "1256  27.189           5.0          22.0  \n",
       "1257  18.489           4.9          38.0  \n",
       "1258  17.401           4.6          11.0  \n",
       "\n",
       "[1259 rows x 6 columns]"
      ]
     },
     "execution_count": 87,
     "metadata": {},
     "output_type": "execute_result"
    }
   ],
   "source": [
    "df"
   ]
  }
 ],
 "metadata": {
  "kernelspec": {
   "display_name": ".venv",
   "language": "python",
   "name": "python3"
  },
  "language_info": {
   "codemirror_mode": {
    "name": "ipython",
    "version": 3
   },
   "file_extension": ".py",
   "mimetype": "text/x-python",
   "name": "python",
   "nbconvert_exporter": "python",
   "pygments_lexer": "ipython3",
   "version": "3.11.9"
  }
 },
 "nbformat": 4,
 "nbformat_minor": 5
}
