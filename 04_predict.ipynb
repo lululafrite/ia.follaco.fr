{
 "cells": [
  {
   "cell_type": "markdown",
   "id": "4bd09f71",
   "metadata": {},
   "source": [
    "#  Notebook `06_predict.ipynb`"
   ]
  },
  {
   "cell_type": "markdown",
   "id": "7d8edc0f",
   "metadata": {},
   "source": [
    "---"
   ]
  },
  {
   "cell_type": "markdown",
   "id": "81b50826",
   "metadata": {},
   "source": [
    "# 🎯 Prédiction avec les modèles finalisés\n",
    "\n",
    "Ce notebook constitue une **passerelle entre la modélisation et l'application réelle**.  \n",
    "Il vise à exploiter les modèles finalisés (régression + classification) pour **prédire le prix et la tranche de prix** d’un service Fiverr à partir de sa **description textuelle** et de son **indice de fiabilité**.\n",
    "\n",
    "## 🎯 Objectifs\n",
    "\n",
    "- 📦 Charger les **modèles enregistrés** (régression et classification)\n",
    "- 🧠 Appliquer le **pipeline de transformation** cohérent avec l’entraînement\n",
    "  - Embedding de la description (`sentence-transformers`)\n",
    "  - Normalisation de la variable `Fiabilité`\n",
    "  - Alignement des colonnes (`columns_used.pkl`)\n",
    "- 🔮 Réaliser des **prédictions sur de nouvelles données**\n",
    "  - Prédiction du **prix exact** (`Prix`) via un modèle de régression\n",
    "  - Prédiction de la **tranche de prix** (`Tranche`) via un modèle de classification\n",
    "- 🚀 Préparer les **fonctions d’appel** à utiliser dans l'application Gradio (`predict.py`)\n",
    "\n",
    "## 🧠 Choix des modèles retenus\n",
    "\n",
    "Les modèles utilisés ont été **sélectionnés après comparaison** dans les notebooks précédents :\n",
    "\n",
    "- 📘 `03_model_regression.ipynb`  \n",
    "  ➤ Modèle retenu : **Gradient Boosting Regressor**  \n",
    "  ➤ Précis et robuste sur les indicateurs MAE / RMSE\n",
    "\n",
    "- 📘 `04_model_classification.ipynb`  \n",
    "  ➤ Modèle retenu : **Decision Tree Classifier**  \n",
    "  ➤ Précision > 96 %, facile à interpréter\n",
    "\n",
    "> 💡 Ces choix sont le fruit d’une **comparaison systématique des performances** sur des données testées et validées.\n",
    "\n",
    "## ✅ Compétences mobilisées\n",
    "\n",
    "- **Bloc 3 — C1** : Sélectionner l’algorithme le plus adapté en fonction de la problématique et des performances.\n",
    "- **Bloc 3 — C2** : Appliquer un pipeline de transformation cohérent entre entraînement et prédiction.\n",
    "- **Bloc 3 — C3** : Exploiter un modèle entraîné pour produire une prédiction adaptée au besoin métier.\n",
    "- **Bloc 5 — C1** : Utiliser des embeddings pour transformer des descriptions textuelles en données numériques.\n",
    "\n",
    "Ce notebook est **prérequis à l'intégration dans une interface applicative** (Gradio ou API Flask)."
   ]
  },
  {
   "cell_type": "code",
   "execution_count": null,
   "id": "0166a017",
   "metadata": {},
   "outputs": [],
   "source": [
    "import pandas as pd\n",
    "import joblib\n",
    "from sentence_transformers import SentenceTransformer\n",
    "\n",
    "# 📦 Chargement des objets enregistrés\n",
    "reg_model = joblib.load(\"models/regression/gradient_boosting.pkl\")  # Modèle de régression\n",
    "clf_model = joblib.load(\"models/classification/decision_tree.pkl\")  # Modèle de classification\n",
    "scaler = joblib.load(\"models/regression/scaler.pkl\")                # Scaler pour Fiabilité\n",
    "columns = joblib.load(\"models/columns_used.pkl\")                    # Liste des colonnes attendues\n",
    "embedding_model = SentenceTransformer(\"sentence-transformers/all-MiniLM-L6-v2\")  # Embedding\n",
    "\n",
    "# 🔧 Fonction de prétraitement des données d'entrée\n",
    "def preprocess_input(description: str, fiabilite: float) -> pd.DataFrame:\n",
    "    # ➤ Génération de l'embedding de la description\n",
    "    emb = embedding_model.encode([description])\n",
    "    emb_dict = {f\"emb_{i}\": emb[0][i] for i in range(384)}\n",
    "    \n",
    "    # ➤ Construction du DataFrame d'entrée avec la fiabilité pondérée\n",
    "    row = {**emb_dict, \"Fiabilite\": fiabilite}\n",
    "    df = pd.DataFrame([row])\n",
    "\n",
    "    # ➤ Réindexation selon les colonnes utilisées à l'entraînement (ajout de 0 si nécessaire)\n",
    "    df = df.reindex(columns=columns, fill_value=0)\n",
    "\n",
    "    # ➤ Mise à l’échelle de la colonne 'Fiabilite'\n",
    "    df[[\"Fiabilite\"]] = scaler.transform(df[[\"Fiabilite\"]])\n",
    "    return df\n",
    "\n",
    "# 🔮 Fonction de prédiction du prix (régression)\n",
    "def predict_price(description: str, fiabilite: float) -> float:\n",
    "    fiabilite_pondérée = fiabilite * 0.8  # Pondération conservée (ex. : Beginner)\n",
    "    X = preprocess_input(description, fiabilite_pondérée)\n",
    "    return round(reg_model.predict(X)[0] * 10, 2)  # Multiplication pour retrouver l'échelle\n",
    "\n",
    "# 🔮 Fonction de prédiction de la tranche (classification)\n",
    "def predict_tranche(description: str, fiabilite: float) -> str:\n",
    "    fiabilite_pondérée = fiabilite * 0.8  # Pondération identique à la régression\n",
    "    X = preprocess_input(description, fiabilite_pondérée)\n",
    "    return str(clf_model.predict(X)[0])  # Retourne : \"Basse\", \"Moyenne\" ou \"Haute\""
   ]
  }
 ],
 "metadata": {
  "kernelspec": {
   "display_name": ".venv",
   "language": "python",
   "name": "python3"
  },
  "language_info": {
   "codemirror_mode": {
    "name": "ipython",
    "version": 3
   },
   "file_extension": ".py",
   "mimetype": "text/x-python",
   "name": "python",
   "nbconvert_exporter": "python",
   "pygments_lexer": "ipython3",
   "version": "3.10.11"
  }
 },
 "nbformat": 4,
 "nbformat_minor": 5
}
