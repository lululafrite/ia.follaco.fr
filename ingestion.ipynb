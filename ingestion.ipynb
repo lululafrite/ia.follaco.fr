{
 "cells": [
  {
   "cell_type": "markdown",
   "id": "35dc8bf1",
   "metadata": {},
   "source": [
    "# 01 - Ingestion des données\n",
    "\n",
    "Ce notebook Jupyter reprend le script `ingestion.py` étape par étape :\n",
    "- Téléchargement des datasets Upwork et Fiverr via l’API Kaggle,\n",
    "- Extraction et chargement des fichiers CSV.\n",
    "\n",
    "**Compétences couvertes :**\n",
    "- Bloc 3 C2 : préparation des données\n",
    "- Bloc 5 C1 : préparation de données non-structurées\n"
   ]
  },
  {
   "cell_type": "markdown",
   "id": "b684c36c",
   "metadata": {},
   "source": [
    "## Import des librairies"
   ]
  },
  {
   "cell_type": "code",
   "execution_count": null,
   "id": "4dd52acb",
   "metadata": {},
   "outputs": [],
   "source": [
    "import os  # pour gérer les chemins de fichiers\n",
    "import pandas as pd  # pour charger et manipuler les données tabulaires\n",
    "from kaggle.api.kaggle_api_extended import KaggleApi  # client Python pour l'API Kaggle"
   ]
  },
  {
   "cell_type": "markdown",
   "id": "dbe3e57a",
   "metadata": {},
   "source": [
    "## Authentification Kaggle\n",
    "Placez votre fichier `kaggle.json` dans `~/.kaggle/kaggle.json` (ou `C:\\Users\\<Utilisateur>\\.kaggle\\kaggle.json`)."
   ]
  },
  {
   "cell_type": "code",
   "execution_count": null,
   "id": "69c21fbf",
   "metadata": {},
   "outputs": [],
   "source": [
    "# Initialisation et authentification\n",
    "g_api = KaggleApi()  # créer une instance de l'API Kaggle\n",
    "g_api.authenticate()  # authentification via le fichier kaggle.json"
   ]
  },
  {
   "cell_type": "markdown",
   "id": "4cae8bab",
   "metadata": {},
   "source": [
    "## Création des dossiers de données"
   ]
  },
  {
   "cell_type": "code",
   "execution_count": null,
   "id": "990a8c9d",
   "metadata": {},
   "outputs": [],
   "source": [
    "# Crée les dossiers pour stocker les fichiers téléchargés\n",
    "os.makedirs('data/upwork', exist_ok=True)   # dossier pour Upwork\n",
    "os.makedirs('data/fiverr_gigs', exist_ok=True)  # dossier pour Fiverr Gigs"
   ]
  },
  {
   "cell_type": "markdown",
   "id": "e479f09d",
   "metadata": {},
   "source": [
    "## Téléchargement et extraction des datasets"
   ]
  },
  {
   "cell_type": "code",
   "execution_count": null,
   "id": "c44ae8e3",
   "metadata": {},
   "outputs": [],
   "source": [
    "# Télécharger et décompresser le dataset Upwork\n",
    "g_api.dataset_download_files(\n",
    "    'asaniczka/upwork-job-postings-dataset-2024-50k-records',  # identifiant du dataset\n",
    "    path='data/upwork',  # destination\n",
    "    unzip=True,  # dézipper automatiquement\n",
    "    quiet=False  # afficher la progression\n",
    ")\n",
    "\n",
    "# Télécharger et décompresser le dataset Fiverr\n",
    "g_api.dataset_download_files(\n",
    "    'muhammadadiltalay/fiverr-data-gigs',  # identifiant du dataset\n",
    "    path='data/fiverr_gigs',  # destination\n",
    "    unzip=True,  # dézipper automatiquement\n",
    "    quiet=False  # afficher la progression\n",
    ")"
   ]
  },
  {
   "cell_type": "markdown",
   "id": "58acae71",
   "metadata": {},
   "source": [
    "## Chargement des CSV en DataFrames"
   ]
  },
  {
   "cell_type": "code",
   "execution_count": null,
   "id": "e90b448a",
   "metadata": {},
   "outputs": [],
   "source": [
    "# Définition des chemins vers les fichiers CSV\n",
    "path_upwork_csv = 'data/upwork/upwork-jobs.csv'  # Upwork jobs\n",
    "path_fiverr_csv = 'data/fiverr_gigs/fiverr-data-gigs-cleaned.csv'  # Fiverr gigs cleaned\n",
    "\n",
    "# Chargement en DataFrame\n",
    "# Low_memory=False pour éviter les warnings de dtype\n",
    "\n",
    "df_upwork = pd.read_csv(path_upwork_csv, low_memory=False)\n",
    "df_fiverr = pd.read_csv(path_fiverr_csv, encoding='latin-1', low_memory=False)\n",
    "\n",
    "# Affichage des informations des DataFrames\n",
    "print(\"Upwork DataFrame -> shape:\", df_upwork.shape)\n",
    "print(\"Colonnes Upwork:\", df_upwork.columns.tolist())\n",
    "print(df_upwork.head(), \"\\n\")\n",
    "print(\"Fiverr DataFrame -> shape:\", df_fiverr.shape)\n",
    "print(\"Colonnes Fiverr:\", df_fiverr.columns.tolist())\n",
    "print(df_fiverr.head())"
   ]
  }
 ],
 "metadata": {},
 "nbformat": 4,
 "nbformat_minor": 5
}
