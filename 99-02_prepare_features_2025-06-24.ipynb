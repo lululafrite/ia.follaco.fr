{
 "cells": [
  {
   "cell_type": "markdown",
   "metadata": {},
   "source": [
    "# 🧩 02. Préparation des Features\n",
    "\n",
    "Ce notebook prépare les données nettoyées en vue de l’entraînement des modèles de machine learning.\n",
    "\n",
    "Nous travaillons à partir du fichier CSV nettoyé généré à l’étape précédente : `fiverr_cleaned.csv`."
   ]
  },
  {
   "cell_type": "code",
   "execution_count": 22,
   "id": "6545e9f3",
   "metadata": {},
   "outputs": [],
   "source": [
    "# 📦 Chargement des bibliothèques nécessaires\n",
    "import pandas as pd\n",
    "import numpy as np\n",
    "import os\n",
    "import scipy\n",
    "from sklearn.preprocessing import StandardScaler\n",
    "from sklearn.preprocessing import LabelEncoder\n",
    "from sklearn.preprocessing import OneHotEncoder\n",
    "from sklearn.feature_extraction.text import TfidfVectorizer\n",
    "from scipy import sparse"
   ]
  },
  {
   "cell_type": "markdown",
   "id": "06c86fd4",
   "metadata": {},
   "source": [
    "## 📥 1. Chargement du fichier nettoyé"
   ]
  },
  {
   "cell_type": "code",
   "execution_count": 23,
   "id": "75e1ea5b",
   "metadata": {},
   "outputs": [
    {
     "name": "stdout",
     "output_type": "stream",
     "text": [
      "Données chargées : 1259 lignes, 6 colonnes\n"
     ]
    },
    {
     "data": {
      "text/html": [
       "<div>\n",
       "<style scoped>\n",
       "    .dataframe tbody tr th:only-of-type {\n",
       "        vertical-align: middle;\n",
       "    }\n",
       "\n",
       "    .dataframe tbody tr th {\n",
       "        vertical-align: top;\n",
       "    }\n",
       "\n",
       "    .dataframe thead th {\n",
       "        text-align: right;\n",
       "    }\n",
       "</style>\n",
       "<table border=\"1\" class=\"dataframe\">\n",
       "  <thead>\n",
       "    <tr style=\"text-align: right;\">\n",
       "      <th></th>\n",
       "      <th>Description</th>\n",
       "      <th>Lien</th>\n",
       "      <th>Niveau</th>\n",
       "      <th>Prix</th>\n",
       "      <th>Evaluation</th>\n",
       "      <th>Rating_Count</th>\n",
       "    </tr>\n",
       "  </thead>\n",
       "  <tbody>\n",
       "    <tr>\n",
       "      <th>0</th>\n",
       "      <td>I will do excel formulas, vba macros, charts, ...</td>\n",
       "      <td>https://www.fiverr.com/maltehar/do-excel-formu...</td>\n",
       "      <td>Level 2 Seller</td>\n",
       "      <td>8.701</td>\n",
       "      <td>5.0</td>\n",
       "      <td>56.0</td>\n",
       "    </tr>\n",
       "    <tr>\n",
       "      <th>1</th>\n",
       "      <td>I will do data mining, web scraping, data extr...</td>\n",
       "      <td>https://www.fiverr.com/hotopilams/do-data-mini...</td>\n",
       "      <td>Top Rated Seller</td>\n",
       "      <td>3.263</td>\n",
       "      <td>5.0</td>\n",
       "      <td>1000.0</td>\n",
       "    </tr>\n",
       "    <tr>\n",
       "      <th>2</th>\n",
       "      <td>I will do web scraping , data scraping, scrapi...</td>\n",
       "      <td>https://www.fiverr.com/kodweb/do-web-scraping-...</td>\n",
       "      <td>Level 2 Seller</td>\n",
       "      <td>2.176</td>\n",
       "      <td>5.0</td>\n",
       "      <td>63.0</td>\n",
       "    </tr>\n",
       "  </tbody>\n",
       "</table>\n",
       "</div>"
      ],
      "text/plain": [
       "                                         Description  \\\n",
       "0  I will do excel formulas, vba macros, charts, ...   \n",
       "1  I will do data mining, web scraping, data extr...   \n",
       "2  I will do web scraping , data scraping, scrapi...   \n",
       "\n",
       "                                                Lien            Niveau   Prix  \\\n",
       "0  https://www.fiverr.com/maltehar/do-excel-formu...    Level 2 Seller  8.701   \n",
       "1  https://www.fiverr.com/hotopilams/do-data-mini...  Top Rated Seller  3.263   \n",
       "2  https://www.fiverr.com/kodweb/do-web-scraping-...    Level 2 Seller  2.176   \n",
       "\n",
       "   Evaluation  Rating_Count  \n",
       "0         5.0          56.0  \n",
       "1         5.0        1000.0  \n",
       "2         5.0          63.0  "
      ]
     },
     "execution_count": 23,
     "metadata": {},
     "output_type": "execute_result"
    }
   ],
   "source": [
    "# Charger le DataFrame nettoyé# Chargement du fichier CSV dans un DataFrame pandas\n",
    "\n",
    "df = pd.read_csv(\n",
    "    'data/fiverr_gigs/fiverr_cleaned.csv', # Chemin relatif vers le fichier de données\n",
    "    encoding='UTF-8', # Utilisé pour décoder les caractères spéciaux (utile si UTF-8 génère des erreurs, fréquent avec des accents)\n",
    "    low_memory=False  # Force pandas à lire tout le fichier avant de deviner les types de colonnes (évite les avertissements ou erreurs)\n",
    ")\n",
    "\n",
    "print(f'Données chargées : {df.shape[0]} lignes, {df.shape[1]} colonnes')\n",
    "\n",
    "# Affiche les 3 premières lignes du DataFrame pour en examiner un aperçu\n",
    "df.head(3)"
   ]
  },
  {
   "cell_type": "markdown",
   "id": "d9443229",
   "metadata": {},
   "source": [
    "## 🎯 2. Séparation des variables cibles\n",
    "Extraction des cibles (y)"
   ]
  },
  {
   "cell_type": "code",
   "execution_count": null,
   "id": "5b92b90b",
   "metadata": {},
   "outputs": [],
   "source": [
    "# y_price : colonne 'Prix'\n",
    "y_prix = df['Prix'].to_numpy()\n",
    "# y_rating : colonne 'Evaluation'\n",
    "y_evaluation = df['Evaluation'].to_numpy()\n",
    "# y_level : colonne 'Niveau'\n",
    "# Encodez-la numériquement pour la classification :\n",
    "le = LabelEncoder()\n",
    "y_niveau = le.fit_transform(df['Niveau'].fillna('Inconnu'))"
   ]
  },
  {
   "cell_type": "markdown",
   "id": "22eae497",
   "metadata": {},
   "source": [
    "Vectorisation du texte"
   ]
  },
  {
   "cell_type": "code",
   "execution_count": 25,
   "id": "c03749b2",
   "metadata": {},
   "outputs": [],
   "source": [
    "tfidf = TfidfVectorizer(\n",
    "    max_features=2000, \n",
    "    stop_words='english'\n",
    ")\n",
    "X_text = tfidf.fit_transform(df['Description'].fillna(''))"
   ]
  },
  {
   "cell_type": "markdown",
   "id": "befa5a11",
   "metadata": {},
   "source": [
    "Encodage du catégoriel"
   ]
  },
  {
   "cell_type": "code",
   "execution_count": 26,
   "id": "3d0b1a99",
   "metadata": {},
   "outputs": [],
   "source": [
    "ohe = OneHotEncoder(sparse_output=False, handle_unknown='ignore')\n",
    "X_level = ohe.fit_transform(df[['Niveau']].fillna('Inconnu'))"
   ]
  },
  {
   "cell_type": "markdown",
   "id": "75bea24f",
   "metadata": {},
   "source": [
    "Standardisation uniquement des colonnes numériques"
   ]
  },
  {
   "cell_type": "code",
   "execution_count": 27,
   "id": "6028629b",
   "metadata": {},
   "outputs": [],
   "source": [
    "num_cols = ['Prix', 'Evaluation', 'Rating_Count']\n",
    "\n",
    "X_num = df[num_cols].to_numpy(dtype=float)\n",
    "scaler = StandardScaler()\n",
    "X_num_scaled = scaler.fit_transform(X_num)"
   ]
  },
  {
   "cell_type": "markdown",
   "id": "2129b476",
   "metadata": {},
   "source": [
    "Assemblage de la matrice finale"
   ]
  },
  {
   "cell_type": "code",
   "execution_count": null,
   "id": "cdae8050",
   "metadata": {},
   "outputs": [
    {
     "name": "stdout",
     "output_type": "stream",
     "text": [
      "Shape finale X: (1259, 1206)\n"
     ]
    }
   ],
   "source": [
    "X = sparse.hstack([\n",
    "    X_text,\n",
    "    sparse.csr_matrix(X_level),\n",
    "    sparse.csr_matrix(X_num_scaled)\n",
    "], format='csr')\n",
    "\n",
    "print(\"Dimentions finale X:\", X.shape)"
   ]
  },
  {
   "cell_type": "markdown",
   "id": "b8bafdea",
   "metadata": {},
   "source": [
    "Sauvegarder dans data/fiverr_features pour rester cohérent avec le reste du projet."
   ]
  },
  {
   "cell_type": "code",
   "execution_count": 29,
   "id": "456d58d0",
   "metadata": {},
   "outputs": [],
   "source": [
    "out_dir = 'data/fiverr_features'\n",
    "os.makedirs(out_dir, exist_ok=True)\n",
    "\n",
    "scipy.sparse.save_npz(f'{out_dir}/X_features.npz', X)\n",
    "\n",
    "np.save(f'{out_dir}/y_prix.npy',   y_price)\n",
    "np.save(f'{out_dir}/y_evaluation.npy',  y_rating)\n",
    "np.save(f'{out_dir}/y_niveau.npy',   y_level)"
   ]
  }
 ],
 "metadata": {
  "kernelspec": {
   "display_name": ".venv",
   "language": "python",
   "name": "python3"
  },
  "language_info": {
   "codemirror_mode": {
    "name": "ipython",
    "version": 3
   },
   "file_extension": ".py",
   "mimetype": "text/x-python",
   "name": "python",
   "nbconvert_exporter": "python",
   "pygments_lexer": "ipython3",
   "version": "3.11.9"
  }
 },
 "nbformat": 4,
 "nbformat_minor": 5
}
