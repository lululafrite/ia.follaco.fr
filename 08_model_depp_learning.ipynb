{
 "cells": [
  {
   "cell_type": "code",
   "execution_count": null,
   "id": "f125f842",
   "metadata": {},
   "outputs": [],
   "source": [
    "# 📘 08_model_deep_learning.ipynb\n",
    "# Entraînement d'un modèle de deep learning pour la prédiction de prix\n",
    "\n",
    "import pandas as pd\n",
    "import numpy as np\n",
    "import tensorflow as tf\n",
    "from tensorflow.keras.models import Sequential\n",
    "from tensorflow.keras.layers import Dense, Dropout\n",
    "from tensorflow.keras.callbacks import EarlyStopping\n",
    "from sklearn.model_selection import train_test_split\n",
    "from sklearn.preprocessing import StandardScaler\n",
    "import os\n",
    "import joblib\n",
    "from sentence_transformers import SentenceTransformer"
   ]
  },
  {
   "cell_type": "code",
   "execution_count": null,
   "id": "8395a1cb",
   "metadata": {},
   "outputs": [],
   "source": [
    "# 🔹 Chargement des données\n",
    "file_path = \"data/fiverr_cleaned_transformed.csv\"\n",
    "df = pd.read_csv(file_path)\n",
    "print(\"✔️ Données chargées :\", df.shape)"
   ]
  },
  {
   "cell_type": "code",
   "execution_count": null,
   "id": "d002c75d",
   "metadata": {},
   "outputs": [],
   "source": [
    "# 📥 Chargement des données\n",
    "df = pd.read_csv(\"data/fiverr_cleaned_transformed.csv\")\n",
    "\n",
    "# 🧠 Chargement du modèle d'embedding\n",
    "embedding_model = SentenceTransformer(\"sentence-transformers/all-MiniLM-L6-v2\")\n",
    "\n",
    "# 🔹 Embedding de la description\n",
    "embeddings = embedding_model.encode(df[\"Description\"].astype(str).tolist())\n",
    "embed_df = pd.DataFrame(embeddings, columns=[f\"emb_{i}\" for i in range(embeddings.shape[1])])\n",
    "\n",
    "# 🔹 Encodage one-hot du niveau\n",
    "niveau_encoded = pd.get_dummies(df[\"Niveau\"], prefix=\"Niveau\")\n",
    "\n",
    "# 🔹 Variables numériques complémentaires\n",
    "autres_features = df[[\"Fiabilite\"]].reset_index(drop=True)\n",
    "\n",
    "# 🔹 Construction du jeu de données final\n",
    "X = pd.concat([embed_df, niveau_encoded, autres_features], axis=1)\n",
    "y = df[\"Prix\"]\n",
    "\n",
    "# 🔹 Séparation train / test\n",
    "X_train, X_test, y_train, y_test = train_test_split(X, y, test_size=0.2, random_state=42)\n",
    "\n",
    "# 🔹 Normalisation\n",
    "scaler = StandardScaler()\n",
    "X_train_scaled = scaler.fit_transform(X_train)\n",
    "X_test_scaled = scaler.transform(X_test)\n",
    "\n",
    "# 🔹 Sauvegarde du scaler\n",
    "os.makedirs(\"models/deep\", exist_ok=True)\n",
    "scaler_path = \"models/deep/scaler.pkl\"\n",
    "joblib.dump(scaler, scaler_path)\n",
    "\n",
    "print(\"📦 Scaler sauvegardé :\", scaler_path)\n",
    "print(\"✅ Données prêtes pour entraînement deep learning :\", X_train_scaled.shape)"
   ]
  },
  {
   "cell_type": "code",
   "execution_count": null,
   "id": "45cab3ac",
   "metadata": {},
   "outputs": [],
   "source": [
    "# 🔹 Construction du modèle MLP\n",
    "model = Sequential([\n",
    "    Dense(128, activation='relu', input_shape=(X_train_scaled.shape[1],)),\n",
    "    Dropout(0.2),\n",
    "    Dense(64, activation='relu'),\n",
    "    Dense(1)  # sortie : prix (régression)\n",
    "])\n",
    "\n",
    "model.compile(optimizer='adam', loss='mse', metrics=['mae'])"
   ]
  },
  {
   "cell_type": "code",
   "execution_count": null,
   "id": "b30b7dad",
   "metadata": {},
   "outputs": [],
   "source": [
    "# 🔹 Entraînement avec early stopping\n",
    "early_stop = EarlyStopping(monitor='val_loss', patience=10, restore_best_weights=True)\n",
    "\n",
    "history = model.fit(\n",
    "    X_train_scaled, y_train,\n",
    "    validation_split=0.2,\n",
    "    epochs=100,\n",
    "    batch_size=32,\n",
    "    callbacks=[early_stop],\n",
    "    verbose=1\n",
    ")"
   ]
  },
  {
   "cell_type": "code",
   "execution_count": null,
   "id": "0d6e6722",
   "metadata": {},
   "outputs": [],
   "source": [
    "# 🔹 Évaluation\n",
    "loss, mae = model.evaluate(X_test_scaled, y_test)\n",
    "print(f\"\\n📊 Évaluation finale - MAE : {mae:.2f}, MSE : {loss:.2f}\")"
   ]
  },
  {
   "cell_type": "code",
   "execution_count": null,
   "id": "9086da16",
   "metadata": {},
   "outputs": [],
   "source": [
    "# 🔹 Sauvegarde du modèle Keras\n",
    "model_path = \"models/deep/deep_model.h5\"\n",
    "model.save(model_path)\n",
    "print(\"✅ Modèle sauvegardé :\", model_path)"
   ]
  }
 ],
 "metadata": {
  "kernelspec": {
   "display_name": ".venv",
   "language": "python",
   "name": "python3"
  },
  "language_info": {
   "codemirror_mode": {
    "name": "ipython",
    "version": 3
   },
   "file_extension": ".py",
   "mimetype": "text/x-python",
   "name": "python",
   "nbconvert_exporter": "python",
   "pygments_lexer": "ipython3",
   "version": "3.10.11"
  }
 },
 "nbformat": 4,
 "nbformat_minor": 5
}
