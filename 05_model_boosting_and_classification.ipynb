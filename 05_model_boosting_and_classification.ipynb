{
 "cells": [
  {
   "cell_type": "markdown",
   "id": "3711986c",
   "metadata": {},
   "source": [
    "# 🚀 Notebook 04 : Boosting & Classification\n",
    "\n",
    "Deux approches complémentaires :\n",
    "- 🔹 Régression avec modèles de boosting\n",
    "- 🔸 Classification sur tranches de prix"
   ]
  },
  {
   "cell_type": "code",
   "execution_count": 4,
   "id": "8fa37f51",
   "metadata": {},
   "outputs": [],
   "source": [
    "# 📦 Imports\n",
    "import joblib\n",
    "import numpy as np\n",
    "from sklearn.metrics import mean_absolute_error, mean_squared_error, r2_score, accuracy_score, classification_report\n",
    "import matplotlib.pyplot as plt\n",
    "from sklearn.ensemble import HistGradientBoostingRegressor\n",
    "from sklearn.ensemble import HistGradientBoostingClassifier\n",
    "from sklearn.preprocessing import KBinsDiscretizer\n"
   ]
  },
  {
   "cell_type": "markdown",
   "id": "73010e8a",
   "metadata": {},
   "source": [
    "## 📥 Chargement des données"
   ]
  },
  {
   "cell_type": "code",
   "execution_count": 5,
   "id": "64c7a83e",
   "metadata": {},
   "outputs": [],
   "source": [
    "X_train = joblib.load(\"train_test/X_train.pkl\")\n",
    "X_test = joblib.load(\"train_test/X_test.pkl\")\n",
    "y_train = joblib.load(\"train_test/y_train.pkl\")\n",
    "y_test = joblib.load(\"train_test/y_test.pkl\")"
   ]
  },
  {
   "cell_type": "markdown",
   "id": "6a3c797b",
   "metadata": {},
   "source": [
    "## 🔹 Régression avec HistGradientBoostingRegressor"
   ]
  },
  {
   "cell_type": "code",
   "execution_count": 7,
   "id": "5884e1ee",
   "metadata": {},
   "outputs": [
    {
     "name": "stdout",
     "output_type": "stream",
     "text": [
      "MAE  : 17.25\n",
      "RMSE : 49.19\n",
      "R²   : -0.02\n"
     ]
    },
    {
     "data": {
      "text/plain": [
       "['models/hgb_regressor.pkl']"
      ]
     },
     "execution_count": 7,
     "metadata": {},
     "output_type": "execute_result"
    }
   ],
   "source": [
    "reg = HistGradientBoostingRegressor(random_state=42)\n",
    "reg.fit(X_train.toarray(), y_train)\n",
    "y_pred = reg.predict(X_test.toarray())\n",
    "\n",
    "mae = mean_absolute_error(y_test, y_pred)\n",
    "rmse = mean_squared_error(y_test, y_pred, squared=False)\n",
    "r2 = r2_score(y_test, y_pred)\n",
    "\n",
    "print(f\"MAE  : {mae:.2f}\")\n",
    "print(f\"RMSE : {rmse:.2f}\")\n",
    "print(f\"R²   : {r2:.2f}\")\n",
    "\n",
    "joblib.dump(reg, \"models/hgb_regressor.pkl\")"
   ]
  },
  {
   "cell_type": "code",
   "execution_count": null,
   "id": "12ff3fb3",
   "metadata": {},
   "outputs": [],
   "source": [
    "plt.figure(figsize=(10, 5))\n",
    "plt.scatter(y_test, y_pred, alpha=0.5)\n",
    "plt.plot([y_test.min(), y_test.max()], [y_test.min(), y_test.max()], 'k--')\n",
    "plt.xlabel(\"Valeurs réelles\")\n",
    "plt.ylabel(\"Prédictions\")\n",
    "plt.title(\"HistGradientBoostingRegressor : Prédictions vs Réel\")\n",
    "plt.grid(True)\n",
    "plt.tight_layout()\n",
    "plt.show()"
   ]
  },
  {
   "cell_type": "markdown",
   "id": "5df195ca",
   "metadata": {},
   "source": [
    "## 🔸 Classification : prédire la tranche de prix"
   ]
  },
  {
   "cell_type": "code",
   "execution_count": null,
   "id": "50124318",
   "metadata": {},
   "outputs": [],
   "source": [
    "# Binarisation ou multi-classes selon quantiles\n",
    "binner = KBinsDiscretizer(n_bins=4, encode='ordinal', strategy='quantile')\n",
    "y_train_bins = binner.fit_transform(y_train.reshape(-1, 1)).ravel()\n",
    "y_test_bins = binner.transform(y_test.reshape(-1, 1)).ravel()\n",
    "\n",
    "# Entraînement du classifieur\n",
    "clf = HistGradientBoostingClassifier(random_state=42)\n",
    "clf.fit(X_train, y_train_bins)\n",
    "\n",
    "# Prédiction\n",
    "y_pred_bins = clf.predict(X_test)\n",
    "acc = accuracy_score(y_test_bins, y_pred_bins)\n",
    "print(f\"Accuracy : {acc:.2%}\")\n",
    "print(classification_report(y_test_bins, y_pred_bins))\n",
    "\n",
    "joblib.dump(clf, \"models/hgb_classifier.pkl\")\n"
   ]
  }
 ],
 "metadata": {
  "kernelspec": {
   "display_name": ".venv",
   "language": "python",
   "name": "python3"
  },
  "language_info": {
   "codemirror_mode": {
    "name": "ipython",
    "version": 3
   },
   "file_extension": ".py",
   "mimetype": "text/x-python",
   "name": "python",
   "nbconvert_exporter": "python",
   "pygments_lexer": "ipython3",
   "version": "3.11.9"
  }
 },
 "nbformat": 4,
 "nbformat_minor": 5
}
