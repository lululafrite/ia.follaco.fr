{
 "cells": [
  {
   "cell_type": "markdown",
   "id": "3c122f65",
   "metadata": {},
   "source": [
    "# 🧠 Projet de Soutenance IA – Overview\n",
    "\n",
    "## 🎯 Objectif du projet\n",
    "\n",
    "L’objectif de ce projet est de prédire le **prix d’un service freelance** proposé sur la plateforme Fiverr, en s’appuyant à la fois sur :\n",
    "- la **description textuelle** du service,\n",
    "- le **niveau du vendeur** (Nouveau, Confirmé, Top),\n",
    "- la **fiabilité estimée** du profil (note composite interne).\n",
    "\n",
    "Deux approches complémentaires sont explorées :\n",
    "- une **régression** pour prédire le prix exact,\n",
    "- une **classification** pour estimer la tranche de prix.\n",
    "\n",
    "---\n",
    "\n",
    "## 🗂️ Structure des notebooks\n",
    "\n",
    "Le projet est découpé en 7 notebooks pédagogiques, chacun étant autonome et centré sur une étape clé du pipeline de traitement :\n",
    "\n",
    "| Étape | Notebook | Description |\n",
    "|-------|----------|-------------|\n",
    "| 1️⃣ | [`01_pre-processing.ipynb`](./01_pre-processing.ipynb) | Nettoyage des données brutes et préparation du jeu analysable |\n",
    "| 3️⃣ | [`02_model_regression.ipynb`](./03_model_regression.ipynb) | Entraînement du modèle de régression pour estimer les prix |\n",
    "| 4️⃣ | [`03_model_classification.ipynb`](./04_model_classification.ipynb) | Entraînement du modèle de classification pour estimer la tranche de prix |\n",
    "| 5️⃣ | [`04_model_transformation.ipynb`](./05_model_transformation.ipynb) | Sauvegarde des transformations, modèles et pipelines pour déploiement |\n",
    "| 6️⃣ | [`05_predict.ipynb`](./06_predict.ipynb) | Tests de prédictions sur de nouveaux cas et analyse des résultats |\n",
    "| 7️⃣ | [`06_app.ipynb`](./07_app.ipynb) | Application interactive avec Gradio pour tester les modèles |\n",
    "\n",
    "---\n",
    "\n",
    "## ⚙️ Technologies principales\n",
    "\n",
    "- **Python 3.10**\n",
    "- `pandas`, `numpy`, `scikit-learn`\n",
    "- `xgboost`, `sentence-transformers`\n",
    "- `Gradio` pour l’interface utilisateur\n",
    "- `joblib` pour la sérialisation des modèles\n",
    "\n",
    "---\n",
    "\n",
    "## 💡 Remarques pédagogiques\n",
    "\n",
    "Chaque notebook est autonome et commenté pour faciliter la compréhension :\n",
    "- Des blocs `🔹 Info` ou `⚠️ Astuce` signalent les points pédagogiques importants.\n",
    "- Les modèles sont testés sur des jeux distincts pour validation.\n",
    "- L’architecture est conçue pour **être modulaire** et adaptée à un usage futur en production.\n",
    "\n",
    "---\n",
    "\n",
    "👨‍🏫 *Ce document sert de guide de lecture pour la soutenance et permet de naviguer efficacement dans le projet.*"
   ]
  }
 ],
 "metadata": {
  "language_info": {
   "name": "python"
  }
 },
 "nbformat": 4,
 "nbformat_minor": 5
}
