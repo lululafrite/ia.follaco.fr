{
 "cells": [
  {
   "cell_type": "markdown",
   "id": "9db11e11",
   "metadata": {},
   "source": [
    "### 🟦 Étape 1 : Chargement des bibliothèques et du fichier nettoyé"
   ]
  },
  {
   "cell_type": "code",
   "execution_count": null,
   "id": "3e6160c1",
   "metadata": {},
   "outputs": [
    {
     "name": "stdout",
     "output_type": "stream",
     "text": [
      "✅ Données chargées :\n",
      "(1259, 8)\n"
     ]
    },
    {
     "data": {
      "text/html": [
       "<div>\n",
       "<style scoped>\n",
       "    .dataframe tbody tr th:only-of-type {\n",
       "        vertical-align: middle;\n",
       "    }\n",
       "\n",
       "    .dataframe tbody tr th {\n",
       "        vertical-align: top;\n",
       "    }\n",
       "\n",
       "    .dataframe thead th {\n",
       "        text-align: right;\n",
       "    }\n",
       "</style>\n",
       "<table border=\"1\" class=\"dataframe\">\n",
       "  <thead>\n",
       "    <tr style=\"text-align: right;\">\n",
       "      <th></th>\n",
       "      <th>Description</th>\n",
       "      <th>Lien</th>\n",
       "      <th>Niveau</th>\n",
       "      <th>Prix</th>\n",
       "      <th>Evaluation</th>\n",
       "      <th>Rating_Count</th>\n",
       "      <th>evaluation_parfaite</th>\n",
       "      <th>log_rating_count</th>\n",
       "    </tr>\n",
       "  </thead>\n",
       "  <tbody>\n",
       "    <tr>\n",
       "      <th>0</th>\n",
       "      <td>I will do excel formulas, vba macros, charts, ...</td>\n",
       "      <td>https://www.fiverr.com/maltehar/do-excel-formu...</td>\n",
       "      <td>Level 2 Seller</td>\n",
       "      <td>8.701</td>\n",
       "      <td>5.0</td>\n",
       "      <td>56.0</td>\n",
       "      <td>1</td>\n",
       "      <td>4.043051</td>\n",
       "    </tr>\n",
       "    <tr>\n",
       "      <th>1</th>\n",
       "      <td>I will do data mining, web scraping, data extr...</td>\n",
       "      <td>https://www.fiverr.com/hotopilams/do-data-mini...</td>\n",
       "      <td>Top Rated Seller</td>\n",
       "      <td>3.263</td>\n",
       "      <td>5.0</td>\n",
       "      <td>1000.0</td>\n",
       "      <td>1</td>\n",
       "      <td>6.908755</td>\n",
       "    </tr>\n",
       "    <tr>\n",
       "      <th>2</th>\n",
       "      <td>I will do web scraping , data scraping, scrapi...</td>\n",
       "      <td>https://www.fiverr.com/kodweb/do-web-scraping-...</td>\n",
       "      <td>Level 2 Seller</td>\n",
       "      <td>2.176</td>\n",
       "      <td>5.0</td>\n",
       "      <td>63.0</td>\n",
       "      <td>1</td>\n",
       "      <td>4.158883</td>\n",
       "    </tr>\n",
       "    <tr>\n",
       "      <th>3</th>\n",
       "      <td>I will do python web scraping , data entry , a...</td>\n",
       "      <td>https://www.fiverr.com/asad__haadi/do-web-scra...</td>\n",
       "      <td>Level 2 Seller</td>\n",
       "      <td>1.088</td>\n",
       "      <td>5.0</td>\n",
       "      <td>266.0</td>\n",
       "      <td>1</td>\n",
       "      <td>5.587249</td>\n",
       "    </tr>\n",
       "    <tr>\n",
       "      <th>4</th>\n",
       "      <td>I will data scraping web site scraping and dat...</td>\n",
       "      <td>https://www.fiverr.com/yourbuddy/web-scraping-...</td>\n",
       "      <td>Level 2 Seller</td>\n",
       "      <td>4.351</td>\n",
       "      <td>4.9</td>\n",
       "      <td>275.0</td>\n",
       "      <td>0</td>\n",
       "      <td>5.620401</td>\n",
       "    </tr>\n",
       "  </tbody>\n",
       "</table>\n",
       "</div>"
      ],
      "text/plain": [
       "                                         Description  \\\n",
       "0  I will do excel formulas, vba macros, charts, ...   \n",
       "1  I will do data mining, web scraping, data extr...   \n",
       "2  I will do web scraping , data scraping, scrapi...   \n",
       "3  I will do python web scraping , data entry , a...   \n",
       "4  I will data scraping web site scraping and dat...   \n",
       "\n",
       "                                                Lien            Niveau   Prix  \\\n",
       "0  https://www.fiverr.com/maltehar/do-excel-formu...    Level 2 Seller  8.701   \n",
       "1  https://www.fiverr.com/hotopilams/do-data-mini...  Top Rated Seller  3.263   \n",
       "2  https://www.fiverr.com/kodweb/do-web-scraping-...    Level 2 Seller  2.176   \n",
       "3  https://www.fiverr.com/asad__haadi/do-web-scra...    Level 2 Seller  1.088   \n",
       "4  https://www.fiverr.com/yourbuddy/web-scraping-...    Level 2 Seller  4.351   \n",
       "\n",
       "   Evaluation  Rating_Count  evaluation_parfaite  log_rating_count  \n",
       "0         5.0          56.0                    1          4.043051  \n",
       "1         5.0        1000.0                    1          6.908755  \n",
       "2         5.0          63.0                    1          4.158883  \n",
       "3         5.0         266.0                    1          5.587249  \n",
       "4         4.9         275.0                    0          5.620401  "
      ]
     },
     "execution_count": 1,
     "metadata": {},
     "output_type": "execute_result"
    }
   ],
   "source": [
    "# 📦 Import des librairies\n",
    "import os\n",
    "import re\n",
    "import joblib\n",
    "import pandas as pd\n",
    "import numpy as np\n",
    "\n",
    "from sklearn.feature_extraction.text import TfidfVectorizer\n",
    "from sklearn.preprocessing import OneHotEncoder\n",
    "from sklearn.model_selection import train_test_split\n",
    "from scipy import sparse\n",
    "from scipy.sparse import csr_matrix\n",
    "\n",
    "# 📁 Création des dossiers si nécessaire\n",
    "os.makedirs(\"features\", exist_ok=True)\n",
    "os.makedirs(\"models\", exist_ok=True)\n",
    "\n",
    "# 📂 Chargement des données nettoyées\n",
    "df = pd.read_csv(\n",
    "    'data/fiverr_cleaned.csv', # Chemin relatif vers le fichier de données\n",
    "    encoding='UTF-8', # Utilisé pour décoder les caractères spéciaux (utile si UTF-8 génère des erreurs, fréquent avec des accents)\n",
    "    low_memory=False  # Force pandas à lire tout le fichier avant de deviner les types de colonnes (évite les avertissements ou erreurs)\n",
    ")\n",
    "\n",
    "df[\"evaluation_parfaite\"] = (df[\"Evaluation\"] == 5.0).astype(int)\n",
    "df[\"log_rating_count\"] = np.log1p(df[\"Rating_Count\"])\n",
    "\n",
    "print(\"✅ Données chargées :\")\n",
    "print(df.shape)\n",
    "df.head()"
   ]
  },
  {
   "cell_type": "code",
   "execution_count": 2,
   "id": "3b10553d",
   "metadata": {},
   "outputs": [],
   "source": [
    "# 🔧 Fonction de nettoyage simple\n",
    "def nettoyer_texte(texte):\n",
    "    texte = texte.lower()  # passage en minuscules\n",
    "    texte = re.sub(r'[^\\w\\s]', '', texte)  # suppression ponctuation\n",
    "    texte = re.sub(r'\\s+', ' ', texte).strip()  # espaces multiples\n",
    "    return texte\n",
    "\n",
    "# 🧼 Application du nettoyage sur les colonnes texte\n",
    "#df[\"Lien\"] = df[\"Lien\"].fillna(\"\").apply(nettoyer_texte)\n",
    "df[\"Description\"] = df[\"Description\"].fillna(\"\").apply(nettoyer_texte)"
   ]
  },
  {
   "cell_type": "markdown",
   "id": "f09af6e2",
   "metadata": {},
   "source": [
    "### 🟦 Étape 2 : Vectorisation des colonnes textuelles (titre et description)"
   ]
  },
  {
   "cell_type": "code",
   "execution_count": 3,
   "id": "9b33d9db",
   "metadata": {},
   "outputs": [
    {
     "data": {
      "text/plain": [
       "['models/tfidf_description.pkl']"
      ]
     },
     "execution_count": 3,
     "metadata": {},
     "output_type": "execute_result"
    }
   ],
   "source": [
    "# 🎯 Vectorisation TF-IDF du titre\n",
    "#vectoriseur_lien = TfidfVectorizer(max_features=1000)\n",
    "#X_lien = vectoriseur_lien.fit_transform(df[\"Lien\"])\n",
    "\n",
    "# 🎯 Vectorisation TF-IDF de la description\n",
    "vectoriseur_description = TfidfVectorizer(max_features=3000)\n",
    "X_description = vectoriseur_description.fit_transform(df[\"Description\"].fillna(\"\"))\n",
    "\n",
    "# 💾 Sauvegarde des vectoriseurs\n",
    "#joblib.dump(vectoriseur_lien, \"models/tfidf_lien.pkl\")\n",
    "joblib.dump(vectoriseur_description, \"models/tfidf_description.pkl\")"
   ]
  },
  {
   "cell_type": "markdown",
   "id": "4e5800f9",
   "metadata": {},
   "source": [
    "### 🟦 Étape 3 : Encodage des variables catégorielles"
   ]
  },
  {
   "cell_type": "code",
   "execution_count": 4,
   "id": "747e3c1c",
   "metadata": {},
   "outputs": [
    {
     "data": {
      "text/plain": [
       "['models/ohe_niveau.pkl']"
      ]
     },
     "execution_count": 4,
     "metadata": {},
     "output_type": "execute_result"
    }
   ],
   "source": [
    "# 🎯 Exemple : encodage du niveau du vendeur\n",
    "encodeur_niveau = OneHotEncoder(sparse_output=True, handle_unknown='ignore')\n",
    "X_niveau = encodeur_niveau.fit_transform(df[[\"Niveau\"]])\n",
    "\n",
    "# 💾 Sauvegarde de l’encodeur\n",
    "joblib.dump(encodeur_niveau, \"models/ohe_niveau.pkl\")"
   ]
  },
  {
   "cell_type": "code",
   "execution_count": 5,
   "id": "e3006c3f",
   "metadata": {},
   "outputs": [
    {
     "data": {
      "text/plain": [
       "['models/log_rating_count.pkl']"
      ]
     },
     "execution_count": 5,
     "metadata": {},
     "output_type": "execute_result"
    }
   ],
   "source": [
    "# 📊 Extraction des colonnes transformées\n",
    "X_evaluation_bin = csr_matrix(df[[\"evaluation_parfaite\"]].values)\n",
    "X_log_rating = csr_matrix(df[[\"log_rating_count\"]].values)\n",
    "\n",
    "# 💾 Sauvegarde des nouvelles variables\n",
    "joblib.dump(df[[\"evaluation_parfaite\"]].values, \"models/evaluation_parfaite.pkl\")\n",
    "joblib.dump(df[[\"log_rating_count\"]].values, \"models/log_rating_count.pkl\")"
   ]
  },
  {
   "cell_type": "markdown",
   "id": "7fd24b80",
   "metadata": {},
   "source": [
    "### 🟦 Étape 4 : Assemblage de toutes les features"
   ]
  },
  {
   "cell_type": "code",
   "execution_count": 6,
   "id": "25d9e67a",
   "metadata": {},
   "outputs": [
    {
     "name": "stdout",
     "output_type": "stream",
     "text": [
      "Shape finale des features : (1259, 1327)\n"
     ]
    }
   ],
   "source": [
    "# 🧱 Fusion des features en une seule matrice\n",
    "X_final = sparse.hstack([X_description, X_niveau, X_evaluation_bin, X_log_rating])\n",
    "\n",
    "# ✅ Vérification du nombre de lignes\n",
    "assert X_final.shape[0] == df.shape[0], \"Erreur : le nombre de lignes de X_final ne correspond pas à celui du dataframe d'origine.\"\n",
    "\n",
    "# 💾 Sauvegarde au format sparse\n",
    "sparse.save_npz(\"features/features_fiverr.npz\", X_final)\n",
    "\n",
    "print(\"Shape finale des features :\", X_final.shape)\n"
   ]
  },
  {
   "cell_type": "markdown",
   "id": "6e907a18",
   "metadata": {},
   "source": [
    "### 🟦 Étape 5 (optionnelle) : Sauvegarde de la target si applicable"
   ]
  },
  {
   "cell_type": "code",
   "execution_count": 7,
   "id": "e8936232",
   "metadata": {},
   "outputs": [
    {
     "name": "stdout",
     "output_type": "stream",
     "text": [
      "Target sauvegardée\n"
     ]
    }
   ],
   "source": [
    "# 🎯 Exemple : sauvegarde du prix comme target si disponible\n",
    "if \"Prix\" in df.columns:\n",
    "    y = df[\"Prix\"].values\n",
    "    joblib.dump(y, \"models/y_prix.pkl\")\n",
    "    print(\"Target sauvegardée\")"
   ]
  },
  {
   "cell_type": "code",
   "execution_count": 8,
   "id": "a6335d1a",
   "metadata": {},
   "outputs": [
    {
     "data": {
      "text/plain": [
       "'\\n# ✂️ Séparation entraînement/test\\nX_train, X_test, y_train, y_test = train_test_split(X_final, y, test_size=0.2, random_state=42)\\n\\n# 💾 Sauvegarde\\njoblib.dump(X_train, \"train_test/X_train.pkl\")\\njoblib.dump(X_test, \"train_test/X_test.pkl\")\\njoblib.dump(y_train, \"train_test/y_train.pkl\")\\njoblib.dump(y_test, \"train_test/y_test.pkl\")\\n'"
      ]
     },
     "execution_count": 8,
     "metadata": {},
     "output_type": "execute_result"
    }
   ],
   "source": [
    "# 📦 Chargement de la target\n",
    "y = df[\"Prix\"].values  # ou: joblib.load(\"models/y_prix.pkl\")\n",
    "\n",
    "'''\n",
    "# ✂️ Séparation entraînement/test\n",
    "X_train, X_test, y_train, y_test = train_test_split(X_final, y, test_size=0.2, random_state=42)\n",
    "\n",
    "# 💾 Sauvegarde\n",
    "joblib.dump(X_train, \"train_test/X_train.pkl\")\n",
    "joblib.dump(X_test, \"train_test/X_test.pkl\")\n",
    "joblib.dump(y_train, \"train_test/y_train.pkl\")\n",
    "joblib.dump(y_test, \"train_test/y_test.pkl\")\n",
    "'''"
   ]
  }
 ],
 "metadata": {
  "kernelspec": {
   "display_name": ".venv",
   "language": "python",
   "name": "python3"
  },
  "language_info": {
   "codemirror_mode": {
    "name": "ipython",
    "version": 3
   },
   "file_extension": ".py",
   "mimetype": "text/x-python",
   "name": "python",
   "nbconvert_exporter": "python",
   "pygments_lexer": "ipython3",
   "version": "3.11.9"
  }
 },
 "nbformat": 4,
 "nbformat_minor": 5
}
