{
 "cells": [
  {
   "cell_type": "markdown",
   "id": "12904ba5",
   "metadata": {},
   "source": [
    "# 03 - Déploiement et Interface Gradio\n",
    "\n",
    "Ce notebook montre comment déployer le modèle via une interface **Gradio** :\n",
    "- Chargement des préprocesseurs (TF-IDF, OneHot)\n",
    "- Chargement des modèles entraînés\n",
    "- Construction de la fonction de prédiction\n",
    "- Mise en place de l'interface interactive\n"
   ]
  },
  {
   "cell_type": "markdown",
   "id": "5b8d5f39",
   "metadata": {},
   "source": [
    "## Import des librairies"
   ]
  },
  {
   "cell_type": "code",
   "execution_count": 1,
   "id": "accad57e",
   "metadata": {},
   "outputs": [
    {
     "name": "stderr",
     "output_type": "stream",
     "text": [
      "c:\\wamp64\\www\\ia.follaco.fr\\.venv\\Lib\\site-packages\\gradio\\routes.py:26: UserWarning: pkg_resources is deprecated as an API. See https://setuptools.pypa.io/en/latest/pkg_resources.html. The pkg_resources package is slated for removal as early as 2025-11-30. Refrain from using this package or pin to Setuptools<81.\n",
      "  import pkg_resources\n",
      "c:\\wamp64\\www\\ia.follaco.fr\\.venv\\Lib\\site-packages\\gradio_client\\documentation.py:106: UserWarning: Could not get documentation group for <class 'gradio.mix.Parallel'>: No known documentation group for module 'gradio.mix'\n",
      "  warnings.warn(f\"Could not get documentation group for {cls}: {exc}\")\n",
      "c:\\wamp64\\www\\ia.follaco.fr\\.venv\\Lib\\site-packages\\gradio_client\\documentation.py:106: UserWarning: Could not get documentation group for <class 'gradio.mix.Series'>: No known documentation group for module 'gradio.mix'\n",
      "  warnings.warn(f\"Could not get documentation group for {cls}: {exc}\")\n"
     ]
    }
   ],
   "source": [
    "import os\n",
    "import numpy as np\n",
    "import pandas as pd\n",
    "import joblib\n",
    "import gradio as gr\n",
    "from scipy import sparse\n",
    "from sklearn.feature_extraction.text import TfidfVectorizer\n",
    "from sklearn.preprocessing import OneHotEncoder\n",
    "import matplotlib.pyplot as plt"
   ]
  },
  {
   "cell_type": "markdown",
   "id": "ba4843dd",
   "metadata": {},
   "source": [
    "## Préprocesseurs"
   ]
  },
  {
   "cell_type": "code",
   "execution_count": 3,
   "id": "f1ff6d43",
   "metadata": {},
   "outputs": [
    {
     "name": "stderr",
     "output_type": "stream",
     "text": [
      "c:\\wamp64\\www\\ia.follaco.fr\\.venv\\Lib\\site-packages\\sklearn\\preprocessing\\_encoders.py:868: FutureWarning: `sparse` was renamed to `sparse_output` in version 1.2 and will be removed in 1.4. `sparse_output` is ignored unless you leave `sparse` to its default value.\n",
      "  warnings.warn(\n"
     ]
    },
    {
     "data": {
      "text/html": [
       "<style>#sk-container-id-1 {color: black;background-color: white;}#sk-container-id-1 pre{padding: 0;}#sk-container-id-1 div.sk-toggleable {background-color: white;}#sk-container-id-1 label.sk-toggleable__label {cursor: pointer;display: block;width: 100%;margin-bottom: 0;padding: 0.3em;box-sizing: border-box;text-align: center;}#sk-container-id-1 label.sk-toggleable__label-arrow:before {content: \"▸\";float: left;margin-right: 0.25em;color: #696969;}#sk-container-id-1 label.sk-toggleable__label-arrow:hover:before {color: black;}#sk-container-id-1 div.sk-estimator:hover label.sk-toggleable__label-arrow:before {color: black;}#sk-container-id-1 div.sk-toggleable__content {max-height: 0;max-width: 0;overflow: hidden;text-align: left;background-color: #f0f8ff;}#sk-container-id-1 div.sk-toggleable__content pre {margin: 0.2em;color: black;border-radius: 0.25em;background-color: #f0f8ff;}#sk-container-id-1 input.sk-toggleable__control:checked~div.sk-toggleable__content {max-height: 200px;max-width: 100%;overflow: auto;}#sk-container-id-1 input.sk-toggleable__control:checked~label.sk-toggleable__label-arrow:before {content: \"▾\";}#sk-container-id-1 div.sk-estimator input.sk-toggleable__control:checked~label.sk-toggleable__label {background-color: #d4ebff;}#sk-container-id-1 div.sk-label input.sk-toggleable__control:checked~label.sk-toggleable__label {background-color: #d4ebff;}#sk-container-id-1 input.sk-hidden--visually {border: 0;clip: rect(1px 1px 1px 1px);clip: rect(1px, 1px, 1px, 1px);height: 1px;margin: -1px;overflow: hidden;padding: 0;position: absolute;width: 1px;}#sk-container-id-1 div.sk-estimator {font-family: monospace;background-color: #f0f8ff;border: 1px dotted black;border-radius: 0.25em;box-sizing: border-box;margin-bottom: 0.5em;}#sk-container-id-1 div.sk-estimator:hover {background-color: #d4ebff;}#sk-container-id-1 div.sk-parallel-item::after {content: \"\";width: 100%;border-bottom: 1px solid gray;flex-grow: 1;}#sk-container-id-1 div.sk-label:hover label.sk-toggleable__label {background-color: #d4ebff;}#sk-container-id-1 div.sk-serial::before {content: \"\";position: absolute;border-left: 1px solid gray;box-sizing: border-box;top: 0;bottom: 0;left: 50%;z-index: 0;}#sk-container-id-1 div.sk-serial {display: flex;flex-direction: column;align-items: center;background-color: white;padding-right: 0.2em;padding-left: 0.2em;position: relative;}#sk-container-id-1 div.sk-item {position: relative;z-index: 1;}#sk-container-id-1 div.sk-parallel {display: flex;align-items: stretch;justify-content: center;background-color: white;position: relative;}#sk-container-id-1 div.sk-item::before, #sk-container-id-1 div.sk-parallel-item::before {content: \"\";position: absolute;border-left: 1px solid gray;box-sizing: border-box;top: 0;bottom: 0;left: 50%;z-index: -1;}#sk-container-id-1 div.sk-parallel-item {display: flex;flex-direction: column;z-index: 1;position: relative;background-color: white;}#sk-container-id-1 div.sk-parallel-item:first-child::after {align-self: flex-end;width: 50%;}#sk-container-id-1 div.sk-parallel-item:last-child::after {align-self: flex-start;width: 50%;}#sk-container-id-1 div.sk-parallel-item:only-child::after {width: 0;}#sk-container-id-1 div.sk-dashed-wrapped {border: 1px dashed gray;margin: 0 0.4em 0.5em 0.4em;box-sizing: border-box;padding-bottom: 0.4em;background-color: white;}#sk-container-id-1 div.sk-label label {font-family: monospace;font-weight: bold;display: inline-block;line-height: 1.2em;}#sk-container-id-1 div.sk-label-container {text-align: center;}#sk-container-id-1 div.sk-container {/* jupyter's `normalize.less` sets `[hidden] { display: none; }` but bootstrap.min.css set `[hidden] { display: none !important; }` so we also need the `!important` here to be able to override the default hidden behavior on the sphinx rendered scikit-learn.org. See: https://github.com/scikit-learn/scikit-learn/issues/21755 */display: inline-block !important;position: relative;}#sk-container-id-1 div.sk-text-repr-fallback {display: none;}</style><div id=\"sk-container-id-1\" class=\"sk-top-container\"><div class=\"sk-text-repr-fallback\"><pre>OneHotEncoder(handle_unknown=&#x27;ignore&#x27;, sparse=False, sparse_output=False)</pre><b>In a Jupyter environment, please rerun this cell to show the HTML representation or trust the notebook. <br />On GitHub, the HTML representation is unable to render, please try loading this page with nbviewer.org.</b></div><div class=\"sk-container\" hidden><div class=\"sk-item\"><div class=\"sk-estimator sk-toggleable\"><input class=\"sk-toggleable__control sk-hidden--visually\" id=\"sk-estimator-id-1\" type=\"checkbox\" checked><label for=\"sk-estimator-id-1\" class=\"sk-toggleable__label sk-toggleable__label-arrow\">OneHotEncoder</label><div class=\"sk-toggleable__content\"><pre>OneHotEncoder(handle_unknown=&#x27;ignore&#x27;, sparse=False, sparse_output=False)</pre></div></div></div></div></div>"
      ],
      "text/plain": [
       "OneHotEncoder(handle_unknown='ignore', sparse=False, sparse_output=False)"
      ]
     },
     "execution_count": 3,
     "metadata": {},
     "output_type": "execute_result"
    }
   ],
   "source": [
    "DATA_PATH = os.path.join('data', 'fiverr_gigs', 'fiverr_cleaned.csv')\n",
    "df = pd.read_csv(DATA_PATH, encoding='UTF-8', low_memory=False)\n",
    "vectoriseur_titre = TfidfVectorizer(max_features=2000, stop_words='english')\n",
    "vectoriseur_titre.fit(df['Description'].fillna(''))\n",
    "encodeur_niveau = OneHotEncoder(sparse=False, handle_unknown='ignore')\n",
    "encodeur_niveau.fit(df['Niveau'].fillna('Inconnu').values.reshape(-1, 1))"
   ]
  },
  {
   "cell_type": "markdown",
   "id": "5dcc5f7a",
   "metadata": {},
   "source": [
    "## Modèles"
   ]
  },
  {
   "cell_type": "code",
   "execution_count": 5,
   "id": "89640df6",
   "metadata": {},
   "outputs": [],
   "source": [
    "MODELS_DIR = 'models'\n",
    "modele_reg = joblib.load(os.path.join(MODELS_DIR, 'mor_rf.pkl'))\n",
    "modele_clf = joblib.load(os.path.join(MODELS_DIR, 'level_clf.pkl'))"
   ]
  },
  {
   "cell_type": "markdown",
   "id": "dfabdc2c",
   "metadata": {},
   "source": [
    "## Fonction de prédiction"
   ]
  },
  {
   "cell_type": "code",
   "execution_count": 6,
   "id": "ba1d1281",
   "metadata": {},
   "outputs": [],
   "source": [
    "def predict(titre_service, niveau_vendeur, nombre_avis):\n",
    "    vec_titre = vectoriseur_titre.transform([titre_service])\n",
    "    vec_niveau = encodeur_niveau.transform([[niveau_vendeur]])\n",
    "    vec_avis = sparse.csr_matrix(np.array([[int(nombre_avis)]]))\n",
    "    X = sparse.hstack([vec_titre, sparse.csr_matrix(vec_niveau), vec_avis], format='csr')\n",
    "    prix_pred, note_pred = modele_reg.predict(X)[0]\n",
    "    idx_niveau = modele_clf.predict(X)[0]\n",
    "    niveau_pred = encodeur_niveau.categories_[0][idx_niveau]\n",
    "    prix = round(float(prix_pred), 2)\n",
    "    note = round(float(note_pred), 2)\n",
    "    return prix, note, niveau_pred"
   ]
  },
  {
   "cell_type": "markdown",
   "id": "cf61aa5b",
   "metadata": {},
   "source": [
    "## Interface Gradio"
   ]
  },
  {
   "cell_type": "code",
   "execution_count": 7,
   "id": "9f9f2d1b",
   "metadata": {},
   "outputs": [
    {
     "name": "stdout",
     "output_type": "stream",
     "text": [
      "Running on local URL:  http://127.0.0.1:7860\n",
      "\n",
      "To create a public link, set `share=True` in `launch()`.\n"
     ]
    },
    {
     "data": {
      "text/html": [
       "<div><iframe src=\"http://127.0.0.1:7860/\" width=\"100%\" height=\"500\" allow=\"autoplay; camera; microphone; clipboard-read; clipboard-write;\" frameborder=\"0\" allowfullscreen></iframe></div>"
      ],
      "text/plain": [
       "<IPython.core.display.HTML object>"
      ]
     },
     "metadata": {},
     "output_type": "display_data"
    },
    {
     "data": {
      "text/plain": []
     },
     "execution_count": 7,
     "metadata": {},
     "output_type": "execute_result"
    },
    {
     "name": "stdout",
     "output_type": "stream",
     "text": [
      "IMPORTANT: You are using gradio version 3.39.0, however version 4.44.1 is available, please upgrade.\n",
      "--------\n"
     ]
    },
    {
     "name": "stderr",
     "output_type": "stream",
     "text": [
      "Traceback (most recent call last):\n",
      "  File \"c:\\wamp64\\www\\ia.follaco.fr\\.venv\\Lib\\site-packages\\gradio\\routes.py\", line 442, in run_predict\n",
      "    output = await app.get_blocks().process_api(\n",
      "             ^^^^^^^^^^^^^^^^^^^^^^^^^^^^^^^^^^^\n",
      "  File \"c:\\wamp64\\www\\ia.follaco.fr\\.venv\\Lib\\site-packages\\gradio\\blocks.py\", line 1392, in process_api\n",
      "    result = await self.call_function(\n",
      "             ^^^^^^^^^^^^^^^^^^^^^^^^^\n",
      "  File \"c:\\wamp64\\www\\ia.follaco.fr\\.venv\\Lib\\site-packages\\gradio\\blocks.py\", line 1097, in call_function\n",
      "    prediction = await anyio.to_thread.run_sync(\n",
      "                 ^^^^^^^^^^^^^^^^^^^^^^^^^^^^^^^\n",
      "  File \"c:\\wamp64\\www\\ia.follaco.fr\\.venv\\Lib\\site-packages\\anyio\\to_thread.py\", line 56, in run_sync\n",
      "    return await get_async_backend().run_sync_in_worker_thread(\n",
      "           ^^^^^^^^^^^^^^^^^^^^^^^^^^^^^^^^^^^^^^^^^^^^^^^^^^^^\n",
      "  File \"c:\\wamp64\\www\\ia.follaco.fr\\.venv\\Lib\\site-packages\\anyio\\_backends\\_asyncio.py\", line 2470, in run_sync_in_worker_thread\n",
      "    return await future\n",
      "           ^^^^^^^^^^^^\n",
      "  File \"c:\\wamp64\\www\\ia.follaco.fr\\.venv\\Lib\\site-packages\\anyio\\_backends\\_asyncio.py\", line 967, in run\n",
      "    result = context.run(func, *args)\n",
      "             ^^^^^^^^^^^^^^^^^^^^^^^^\n",
      "  File \"c:\\wamp64\\www\\ia.follaco.fr\\.venv\\Lib\\site-packages\\gradio\\utils.py\", line 703, in wrapper\n",
      "    response = f(*args, **kwargs)\n",
      "               ^^^^^^^^^^^^^^^^^^\n",
      "  File \"C:\\Users\\lfoll\\AppData\\Local\\Temp\\ipykernel_21828\\2972035000.py\", line 6, in predict\n",
      "    prix_pred, note_pred = modele_reg.predict(X)[0]\n",
      "                           ^^^^^^^^^^^^^^^^^^^^^\n",
      "  File \"c:\\wamp64\\www\\ia.follaco.fr\\.venv\\Lib\\site-packages\\sklearn\\multioutput.py\", line 248, in predict\n",
      "    y = Parallel(n_jobs=self.n_jobs)(\n",
      "        ^^^^^^^^^^^^^^^^^^^^^^^^^^^^^\n",
      "  File \"c:\\wamp64\\www\\ia.follaco.fr\\.venv\\Lib\\site-packages\\sklearn\\utils\\parallel.py\", line 63, in __call__\n",
      "    return super().__call__(iterable_with_config)\n",
      "           ^^^^^^^^^^^^^^^^^^^^^^^^^^^^^^^^^^^^^^\n",
      "  File \"c:\\wamp64\\www\\ia.follaco.fr\\.venv\\Lib\\site-packages\\joblib\\parallel.py\", line 1986, in __call__\n",
      "    return output if self.return_generator else list(output)\n",
      "                                                ^^^^^^^^^^^^\n",
      "  File \"c:\\wamp64\\www\\ia.follaco.fr\\.venv\\Lib\\site-packages\\joblib\\parallel.py\", line 1914, in _get_sequential_output\n",
      "    res = func(*args, **kwargs)\n",
      "          ^^^^^^^^^^^^^^^^^^^^^\n",
      "  File \"c:\\wamp64\\www\\ia.follaco.fr\\.venv\\Lib\\site-packages\\sklearn\\utils\\parallel.py\", line 123, in __call__\n",
      "    return self.function(*args, **kwargs)\n",
      "           ^^^^^^^^^^^^^^^^^^^^^^^^^^^^^^\n",
      "  File \"c:\\wamp64\\www\\ia.follaco.fr\\.venv\\Lib\\site-packages\\sklearn\\ensemble\\_forest.py\", line 981, in predict\n",
      "    X = self._validate_X_predict(X)\n",
      "        ^^^^^^^^^^^^^^^^^^^^^^^^^^^\n",
      "  File \"c:\\wamp64\\www\\ia.follaco.fr\\.venv\\Lib\\site-packages\\sklearn\\ensemble\\_forest.py\", line 602, in _validate_X_predict\n",
      "    X = self._validate_data(X, dtype=DTYPE, accept_sparse=\"csr\", reset=False)\n",
      "        ^^^^^^^^^^^^^^^^^^^^^^^^^^^^^^^^^^^^^^^^^^^^^^^^^^^^^^^^^^^^^^^^^^^^^\n",
      "  File \"c:\\wamp64\\www\\ia.follaco.fr\\.venv\\Lib\\site-packages\\sklearn\\base.py\", line 588, in _validate_data\n",
      "    self._check_n_features(X, reset=reset)\n",
      "  File \"c:\\wamp64\\www\\ia.follaco.fr\\.venv\\Lib\\site-packages\\sklearn\\base.py\", line 389, in _check_n_features\n",
      "    raise ValueError(\n",
      "ValueError: X has 1204 features, but RandomForestRegressor is expecting 1206 features as input.\n",
      "Traceback (most recent call last):\n",
      "  File \"c:\\wamp64\\www\\ia.follaco.fr\\.venv\\Lib\\site-packages\\gradio\\routes.py\", line 442, in run_predict\n",
      "    output = await app.get_blocks().process_api(\n",
      "             ^^^^^^^^^^^^^^^^^^^^^^^^^^^^^^^^^^^\n",
      "  File \"c:\\wamp64\\www\\ia.follaco.fr\\.venv\\Lib\\site-packages\\gradio\\blocks.py\", line 1392, in process_api\n",
      "    result = await self.call_function(\n",
      "             ^^^^^^^^^^^^^^^^^^^^^^^^^\n",
      "  File \"c:\\wamp64\\www\\ia.follaco.fr\\.venv\\Lib\\site-packages\\gradio\\blocks.py\", line 1097, in call_function\n",
      "    prediction = await anyio.to_thread.run_sync(\n",
      "                 ^^^^^^^^^^^^^^^^^^^^^^^^^^^^^^^\n",
      "  File \"c:\\wamp64\\www\\ia.follaco.fr\\.venv\\Lib\\site-packages\\anyio\\to_thread.py\", line 56, in run_sync\n",
      "    return await get_async_backend().run_sync_in_worker_thread(\n",
      "           ^^^^^^^^^^^^^^^^^^^^^^^^^^^^^^^^^^^^^^^^^^^^^^^^^^^^\n",
      "  File \"c:\\wamp64\\www\\ia.follaco.fr\\.venv\\Lib\\site-packages\\anyio\\_backends\\_asyncio.py\", line 2470, in run_sync_in_worker_thread\n",
      "    return await future\n",
      "           ^^^^^^^^^^^^\n",
      "  File \"c:\\wamp64\\www\\ia.follaco.fr\\.venv\\Lib\\site-packages\\anyio\\_backends\\_asyncio.py\", line 967, in run\n",
      "    result = context.run(func, *args)\n",
      "             ^^^^^^^^^^^^^^^^^^^^^^^^\n",
      "  File \"c:\\wamp64\\www\\ia.follaco.fr\\.venv\\Lib\\site-packages\\gradio\\utils.py\", line 703, in wrapper\n",
      "    response = f(*args, **kwargs)\n",
      "               ^^^^^^^^^^^^^^^^^^\n",
      "  File \"C:\\Users\\lfoll\\AppData\\Local\\Temp\\ipykernel_21828\\2972035000.py\", line 6, in predict\n",
      "    prix_pred, note_pred = modele_reg.predict(X)[0]\n",
      "                           ^^^^^^^^^^^^^^^^^^^^^\n",
      "  File \"c:\\wamp64\\www\\ia.follaco.fr\\.venv\\Lib\\site-packages\\sklearn\\multioutput.py\", line 248, in predict\n",
      "    y = Parallel(n_jobs=self.n_jobs)(\n",
      "        ^^^^^^^^^^^^^^^^^^^^^^^^^^^^^\n",
      "  File \"c:\\wamp64\\www\\ia.follaco.fr\\.venv\\Lib\\site-packages\\sklearn\\utils\\parallel.py\", line 63, in __call__\n",
      "    return super().__call__(iterable_with_config)\n",
      "           ^^^^^^^^^^^^^^^^^^^^^^^^^^^^^^^^^^^^^^\n",
      "  File \"c:\\wamp64\\www\\ia.follaco.fr\\.venv\\Lib\\site-packages\\joblib\\parallel.py\", line 1986, in __call__\n",
      "    return output if self.return_generator else list(output)\n",
      "                                                ^^^^^^^^^^^^\n",
      "  File \"c:\\wamp64\\www\\ia.follaco.fr\\.venv\\Lib\\site-packages\\joblib\\parallel.py\", line 1914, in _get_sequential_output\n",
      "    res = func(*args, **kwargs)\n",
      "          ^^^^^^^^^^^^^^^^^^^^^\n",
      "  File \"c:\\wamp64\\www\\ia.follaco.fr\\.venv\\Lib\\site-packages\\sklearn\\utils\\parallel.py\", line 123, in __call__\n",
      "    return self.function(*args, **kwargs)\n",
      "           ^^^^^^^^^^^^^^^^^^^^^^^^^^^^^^\n",
      "  File \"c:\\wamp64\\www\\ia.follaco.fr\\.venv\\Lib\\site-packages\\sklearn\\ensemble\\_forest.py\", line 981, in predict\n",
      "    X = self._validate_X_predict(X)\n",
      "        ^^^^^^^^^^^^^^^^^^^^^^^^^^^\n",
      "  File \"c:\\wamp64\\www\\ia.follaco.fr\\.venv\\Lib\\site-packages\\sklearn\\ensemble\\_forest.py\", line 602, in _validate_X_predict\n",
      "    X = self._validate_data(X, dtype=DTYPE, accept_sparse=\"csr\", reset=False)\n",
      "        ^^^^^^^^^^^^^^^^^^^^^^^^^^^^^^^^^^^^^^^^^^^^^^^^^^^^^^^^^^^^^^^^^^^^^\n",
      "  File \"c:\\wamp64\\www\\ia.follaco.fr\\.venv\\Lib\\site-packages\\sklearn\\base.py\", line 588, in _validate_data\n",
      "    self._check_n_features(X, reset=reset)\n",
      "  File \"c:\\wamp64\\www\\ia.follaco.fr\\.venv\\Lib\\site-packages\\sklearn\\base.py\", line 389, in _check_n_features\n",
      "    raise ValueError(\n",
      "ValueError: X has 1204 features, but RandomForestRegressor is expecting 1206 features as input.\n",
      "Traceback (most recent call last):\n",
      "  File \"c:\\wamp64\\www\\ia.follaco.fr\\.venv\\Lib\\site-packages\\gradio\\routes.py\", line 442, in run_predict\n",
      "    output = await app.get_blocks().process_api(\n",
      "             ^^^^^^^^^^^^^^^^^^^^^^^^^^^^^^^^^^^\n",
      "  File \"c:\\wamp64\\www\\ia.follaco.fr\\.venv\\Lib\\site-packages\\gradio\\blocks.py\", line 1392, in process_api\n",
      "    result = await self.call_function(\n",
      "             ^^^^^^^^^^^^^^^^^^^^^^^^^\n",
      "  File \"c:\\wamp64\\www\\ia.follaco.fr\\.venv\\Lib\\site-packages\\gradio\\blocks.py\", line 1097, in call_function\n",
      "    prediction = await anyio.to_thread.run_sync(\n",
      "                 ^^^^^^^^^^^^^^^^^^^^^^^^^^^^^^^\n",
      "  File \"c:\\wamp64\\www\\ia.follaco.fr\\.venv\\Lib\\site-packages\\anyio\\to_thread.py\", line 56, in run_sync\n",
      "    return await get_async_backend().run_sync_in_worker_thread(\n",
      "           ^^^^^^^^^^^^^^^^^^^^^^^^^^^^^^^^^^^^^^^^^^^^^^^^^^^^\n",
      "  File \"c:\\wamp64\\www\\ia.follaco.fr\\.venv\\Lib\\site-packages\\anyio\\_backends\\_asyncio.py\", line 2470, in run_sync_in_worker_thread\n",
      "    return await future\n",
      "           ^^^^^^^^^^^^\n",
      "  File \"c:\\wamp64\\www\\ia.follaco.fr\\.venv\\Lib\\site-packages\\anyio\\_backends\\_asyncio.py\", line 967, in run\n",
      "    result = context.run(func, *args)\n",
      "             ^^^^^^^^^^^^^^^^^^^^^^^^\n",
      "  File \"c:\\wamp64\\www\\ia.follaco.fr\\.venv\\Lib\\site-packages\\gradio\\utils.py\", line 703, in wrapper\n",
      "    response = f(*args, **kwargs)\n",
      "               ^^^^^^^^^^^^^^^^^^\n",
      "  File \"C:\\Users\\lfoll\\AppData\\Local\\Temp\\ipykernel_21828\\2972035000.py\", line 6, in predict\n",
      "    prix_pred, note_pred = modele_reg.predict(X)[0]\n",
      "                           ^^^^^^^^^^^^^^^^^^^^^\n",
      "  File \"c:\\wamp64\\www\\ia.follaco.fr\\.venv\\Lib\\site-packages\\sklearn\\multioutput.py\", line 248, in predict\n",
      "    y = Parallel(n_jobs=self.n_jobs)(\n",
      "        ^^^^^^^^^^^^^^^^^^^^^^^^^^^^^\n",
      "  File \"c:\\wamp64\\www\\ia.follaco.fr\\.venv\\Lib\\site-packages\\sklearn\\utils\\parallel.py\", line 63, in __call__\n",
      "    return super().__call__(iterable_with_config)\n",
      "           ^^^^^^^^^^^^^^^^^^^^^^^^^^^^^^^^^^^^^^\n",
      "  File \"c:\\wamp64\\www\\ia.follaco.fr\\.venv\\Lib\\site-packages\\joblib\\parallel.py\", line 1986, in __call__\n",
      "    return output if self.return_generator else list(output)\n",
      "                                                ^^^^^^^^^^^^\n",
      "  File \"c:\\wamp64\\www\\ia.follaco.fr\\.venv\\Lib\\site-packages\\joblib\\parallel.py\", line 1914, in _get_sequential_output\n",
      "    res = func(*args, **kwargs)\n",
      "          ^^^^^^^^^^^^^^^^^^^^^\n",
      "  File \"c:\\wamp64\\www\\ia.follaco.fr\\.venv\\Lib\\site-packages\\sklearn\\utils\\parallel.py\", line 123, in __call__\n",
      "    return self.function(*args, **kwargs)\n",
      "           ^^^^^^^^^^^^^^^^^^^^^^^^^^^^^^\n",
      "  File \"c:\\wamp64\\www\\ia.follaco.fr\\.venv\\Lib\\site-packages\\sklearn\\ensemble\\_forest.py\", line 981, in predict\n",
      "    X = self._validate_X_predict(X)\n",
      "        ^^^^^^^^^^^^^^^^^^^^^^^^^^^\n",
      "  File \"c:\\wamp64\\www\\ia.follaco.fr\\.venv\\Lib\\site-packages\\sklearn\\ensemble\\_forest.py\", line 602, in _validate_X_predict\n",
      "    X = self._validate_data(X, dtype=DTYPE, accept_sparse=\"csr\", reset=False)\n",
      "        ^^^^^^^^^^^^^^^^^^^^^^^^^^^^^^^^^^^^^^^^^^^^^^^^^^^^^^^^^^^^^^^^^^^^^\n",
      "  File \"c:\\wamp64\\www\\ia.follaco.fr\\.venv\\Lib\\site-packages\\sklearn\\base.py\", line 588, in _validate_data\n",
      "    self._check_n_features(X, reset=reset)\n",
      "  File \"c:\\wamp64\\www\\ia.follaco.fr\\.venv\\Lib\\site-packages\\sklearn\\base.py\", line 389, in _check_n_features\n",
      "    raise ValueError(\n",
      "ValueError: X has 1204 features, but RandomForestRegressor is expecting 1206 features as input.\n"
     ]
    }
   ],
   "source": [
    "iface = gr.Interface(\n",
    "    fn=predict,\n",
    "    inputs=[\n",
    "        gr.Textbox(label=\"Titre du service\", placeholder=\"Ex: Je vais développer votre site web...\"),\n",
    "        gr.Dropdown(label=\"Niveau du vendeur\", choices=encodeur_niveau.categories_[0].tolist()),\n",
    "        gr.Number(label=\"Nombre d'avis\", value=0)\n",
    "    ],\n",
    "    outputs=[\n",
    "        gr.Number(label=\"Prix prédit (EUR)\"),\n",
    "        gr.Number(label=\"Note moyenne prédite\"),\n",
    "        gr.Textbox(label=\"Niveau du vendeur prédit\")\n",
    "    ],\n",
    "    title=\"Démo Prédiction Fiverr\",\n",
    "    description=\"Prédiction du prix, de la note et du niveau du vendeur via un modèle ML et une interface Gradio.\"\n",
    ")\n",
    "\n",
    "iface.launch()"
   ]
  }
 ],
 "metadata": {
  "kernelspec": {
   "display_name": ".venv",
   "language": "python",
   "name": "python3"
  },
  "language_info": {
   "codemirror_mode": {
    "name": "ipython",
    "version": 3
   },
   "file_extension": ".py",
   "mimetype": "text/x-python",
   "name": "python",
   "nbconvert_exporter": "python",
   "pygments_lexer": "ipython3",
   "version": "3.11.9"
  }
 },
 "nbformat": 4,
 "nbformat_minor": 5
}
