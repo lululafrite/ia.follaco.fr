{
 "cells": [
  {
   "cell_type": "markdown",
   "id": "38364d87",
   "metadata": {},
   "source": [
    "# Notebook `04_model_deep_learning.ipynb`"
   ]
  },
  {
   "cell_type": "markdown",
   "id": "b16d423b",
   "metadata": {},
   "source": [
    "---"
   ]
  },
  {
   "cell_type": "markdown",
   "id": "0cb1b615",
   "metadata": {},
   "source": [
    "# 🧠 Construction et Entraînement du Modèle Deep Learning\n",
    "\n",
    "Ce notebook constitue la **quatrième étape du pipeline IA**.  \n",
    "Il est dédié à la construction, l’entraînement, l’évaluation et la sauvegarde d’un **modèle de deep learning** destiné à prédire le **prix d’un service Fiverr** à partir de variables numériques et vectorielles.\n",
    "\n",
    "## 🎯 Objectifs\n",
    "\n",
    "- Charger les données propres et transformées (`fiverr_cleaned_transformed.csv`)\n",
    "- Générer les **embeddings vectoriels** à partir des descriptions (modèle `SentenceTransformer`)\n",
    "- Préparer les **entrées combinées** : texte vectorisé, niveau encodé, fiabilité numérique\n",
    "- Définir un **modèle Keras séquentiel** adapté à la régression\n",
    "- Réaliser une **séparation train/test** et standardiser les variables\n",
    "- Entraîner le modèle avec **early stopping** pour éviter le surapprentissage\n",
    "- Évaluer ses performances sur les données de test\n",
    "- Sauvegarder le modèle (`deep_model.h5`) et le scaler (`scaler.pkl`)\n",
    "\n",
    "## ✅ Compétences mobilisées\n",
    "\n",
    "- **Bloc 3 — C3** : Implémenter un modèle de deep learning adapté à un jeu de données structuré\n",
    "- **Bloc 3 — C2** : Préparer les données et normaliser les vecteurs d’entrée (embedding + features classiques)\n",
    "- **Bloc 5 — C4** : Exporter un modèle exploitable dans un environnement déployé (API, Gradio)\n",
    "\n",
    "*Ce notebook prépare un modèle de prédiction avancé basé sur les réseaux de neurones, utilisé dans l’application finale.*"
   ]
  },
  {
   "cell_type": "markdown",
   "id": "b61762ae",
   "metadata": {},
   "source": [
    "---"
   ]
  },
  {
   "cell_type": "markdown",
   "id": "0bafbc79",
   "metadata": {},
   "source": [
    "## 🧭 Sommaire\n",
    "\n",
    "1. [Importation des bibliothèques pour le Deep Learning](#-1-importation-des-bibliothèques-pour-le-deep-learning)\n",
    "2. [Chargement des données transformées dans un DataFrame Pandas](#-2-chargement-des-données-transformées-dans-un-dataframe-pandas)\n",
    "3. [Préparation des données pour le Deep Learning](#-3-préparation-des-données-pour-le-deep-learning)\n",
    "4. [Construction du modèle MLP (régression du prix)](#-4-construction-du-modèle-mlp-régression-du-prix)\n",
    "5. [Entraînement du modèle avec EarlyStopping](#-5-entraînement-du-modèle-avec-earlystopping)\n",
    "6. [Évaluation du modèle entraîné](#-6-évaluation-du-modèle-entraîné)\n",
    "7. [Sauvegarde du modèle Deep Learning entraîné](#-7-sauvegarde-du-modèle-deep-learning-entraîné)\n"
   ]
  },
  {
   "cell_type": "markdown",
   "id": "c14adee5",
   "metadata": {},
   "source": [
    "---"
   ]
  },
  {
   "cell_type": "markdown",
   "id": "46169b50",
   "metadata": {},
   "source": [
    "## 🧠 1. Importation des bibliothèques pour le Deep Learning\n",
    "\n",
    "### ❓ 1.1. Pourquoi cette étape maintenant ?\n",
    "\n",
    "Avant toute manipulation ou entraînement, nous devons importer toutes les **bibliothèques nécessaires** à la gestion des données, à la construction du modèle, et à l’ingénierie des variables.\n",
    "\n",
    "Cela garantit :\n",
    "- un environnement prêt à exécuter le pipeline complet,\n",
    "- une meilleure lisibilité du script,\n",
    "- et la centralisation des dépendances en début de fichier.\n",
    "\n",
    "### 🎯 1.2. Résultat attendu\n",
    "\n",
    "- Toutes les librairies utiles au traitement et à l'entraînement d’un modèle Deep Learning sont importées.\n",
    "- L'importation est **clairement organisée** par type de tâche (données, modèle, I/O, etc.).\n",
    "- Aucune erreur d'importation ne bloque l'exécution du notebook.\n",
    "\n",
    "---\n",
    "\n",
    "### 🐍 1.3. Script d’importation des bibliothèques nécessaires"
   ]
  },
  {
   "cell_type": "code",
   "execution_count": 8,
   "id": "f125f842",
   "metadata": {},
   "outputs": [],
   "source": [
    "# Importation des bibliothèques nécessaires\n",
    "\n",
    "# Manipulation de données\n",
    "import pandas as pd   # Bibliothèque pour la gestion des tableaux de données (DataFrame)\n",
    "import numpy as np    # Bibliothèque pour le calcul numérique performant (vecteurs, matrices, etc.)\n",
    "\n",
    "# Deep Learning avec TensorFlow Keras\n",
    "import tensorflow as tf  # Backend TensorFlow (nécessaire même si Keras est utilisé seul)\n",
    "from tensorflow.keras.models import Sequential       # Modèle linéaire empilé (séquentiel)\n",
    "from tensorflow.keras.layers import Dense, Dropout   # Couches dense (fully connected) et dropout (régularisation)\n",
    "from tensorflow.keras.callbacks import EarlyStopping # Callback pour arrêter l'entraînement en cas de surapprentissage\n",
    "\n",
    "# Préparation et évaluation des données\n",
    "from sklearn.model_selection import train_test_split  # Fonction de séparation du dataset en ensembles d'entraînement/test\n",
    "from sklearn.preprocessing import StandardScaler       # Standardisation (centrage/réduction) des variables numériques\n",
    "\n",
    "# Gestion des fichiers et modèles\n",
    "import os       # Outils de gestion de fichiers et répertoires\n",
    "import joblib   # Sauvegarde et chargement efficace des objets Python (modèles, scalers, etc.)\n",
    "\n",
    "# Embedding de texte via transformers\n",
    "from sentence_transformers import SentenceTransformer  # Génération d’embeddings vectoriels à partir de textes"
   ]
  },
  {
   "cell_type": "markdown",
   "id": "23be1724",
   "metadata": {},
   "source": [
    "---"
   ]
  },
  {
   "cell_type": "markdown",
   "id": "47c2cb97",
   "metadata": {},
   "source": [
    "## 📂 2. Chargement des données transformées dans un DataFrame Pandas\n",
    "\n",
    "### ❓ 2.1. Pourquoi cette étape maintenant ?\n",
    "\n",
    "Le fichier `fiverr_cleaned_transformed.csv` contient les données **nettoyées et enrichies** suite aux étapes de prétraitement précédentes.  \n",
    "C’est à partir de ce fichier que nous allons **préparer les entrées** du modèle de deep learning.\n",
    "\n",
    "Cette étape permet :\n",
    "- de **valider l’accès au fichier** et le bon format CSV,\n",
    "- d’initialiser le DataFrame `df` pour les traitements ultérieurs,\n",
    "- d’obtenir une **confirmation immédiate** sur le nombre de lignes et colonnes disponibles.\n",
    "\n",
    "### 🎯 2.2. Résultat attendu\n",
    "\n",
    "- Les données sont correctement lues dans le DataFrame `df`.\n",
    "- Aucune erreur d’accès ou de lecture n’est rencontrée.\n",
    "- Le terminal affiche les dimensions des données (nombre de lignes et de colonnes).\n",
    "\n",
    "---\n",
    "\n",
    "### 🐍 2.3. Script de chargement des données transformées"
   ]
  },
  {
   "cell_type": "code",
   "execution_count": 9,
   "id": "8395a1cb",
   "metadata": {},
   "outputs": [
    {
     "name": "stdout",
     "output_type": "stream",
     "text": [
      "Données chargées : (1145, 5)\n"
     ]
    }
   ],
   "source": [
    "# 🔹 Chargement des données\n",
    "\n",
    "# Définition du chemin vers le fichier CSV nettoyé et transformé\n",
    "file_path = \"../data/fiverr_cleaned_dl_notebook.csv\"\n",
    "\n",
    "# Chargement du fichier CSV dans un DataFrame Pandas\n",
    "df = pd.read_csv(file_path)\n",
    "\n",
    "# Affichage d'un message de confirmation avec les dimensions des données chargées\n",
    "print(\"Données chargées :\", df.shape)  # Exemple : (25000, 10)"
   ]
  },
  {
   "cell_type": "markdown",
   "id": "d675bd90",
   "metadata": {},
   "source": [
    "---"
   ]
  },
  {
   "cell_type": "markdown",
   "id": "a96734c6",
   "metadata": {},
   "source": [
    "## 🧪 3. Préparation des données pour le Deep Learning\n",
    "\n",
    "### ❓ 3.1. Pourquoi cette étape maintenant ?\n",
    "\n",
    "Cette étape prépare les **entrées du modèle de deep learning** :\n",
    "- Génération des **embeddings vectoriels** pour les descriptions textuelles,\n",
    "- **Encodage one-hot** de la variable catégorielle `Niveau`,\n",
    "- Sélection et concaténation des **variables numériques** comme `Fiabilite`,\n",
    "- Séparation du jeu de données en ensembles d’entraînement et de test,\n",
    "- **Normalisation des features** pour stabiliser l’apprentissage,\n",
    "- Sauvegarde du scaler pour reproduire le pipeline d’inférence plus tard.\n",
    "\n",
    "C’est une étape centrale avant toute modélisation supervisée.\n",
    "\n",
    "### 🎯 3.2. Résultat attendu\n",
    "\n",
    "- Le DataFrame `X` contient toutes les variables explicatives correctement formatées.\n",
    "- Les jeux `X_train_scaled`, `X_test_scaled`, `y_train`, `y_test` sont prêts à l’usage.\n",
    "- Le scaler `StandardScaler` est sauvegardé dans `models/deep/scaler.pkl`.\n",
    "- Les dimensions du jeu d’entraînement sont affichées à l’écran pour validation.\n",
    "\n",
    "---\n",
    "\n",
    "### 🐍 3.3. Script de préparation des features d'entrée pour le deep learning"
   ]
  },
  {
   "cell_type": "code",
   "execution_count": 10,
   "id": "d002c75d",
   "metadata": {},
   "outputs": [
    {
     "name": "stdout",
     "output_type": "stream",
     "text": [
      "Scaler sauvegardé : ../models/deep/scaler_notebook.pkl\n",
      "Données prêtes pour entraînement deep learning : (916, 388)\n"
     ]
    }
   ],
   "source": [
    "# Chargement des données\n",
    "df = pd.read_csv(file_path)  # Lecture du fichier transformé contenant les features prêtes à l’emploi\n",
    "\n",
    "# Chargement du modèle d'embedding SentenceTransformer\n",
    "embedding_model = SentenceTransformer(\"sentence-transformers/all-MiniLM-L6-v2\")  # Modèle léger et performant pour vectoriser les descriptions textuelles\n",
    "\n",
    "# Embedding de la colonne 'Description'\n",
    "descriptions = df[\"Description\"].astype(str).tolist()\n",
    "embeddings = embedding_model.encode(descriptions)\n",
    "embed_df = pd.DataFrame(embeddings, columns=[f\"emb_{i}\" for i in range(embeddings.shape[1])])  # Création d’un DataFrame pour les vecteurs d’embedding\n",
    "\n",
    "# Encodage one-hot du niveau du vendeur\n",
    "niveau_encoded = pd.get_dummies(df[\"Niveau\"], prefix=\"Niveau\")  # Conversion de la variable catégorielle en variables binaires\n",
    "\n",
    "# Sélection des variables numériques restantes\n",
    "autres_features = df[[\"Fiabilite\"]].reset_index(drop=True)  # Ajout de la variable numérique \"Fiabilite\"\n",
    "\n",
    "# Fusion finale des features dans X\n",
    "X = pd.concat([embed_df, niveau_encoded, autres_features], axis=1)  # Construction du tableau final de variables explicatives\n",
    "y = df[\"Prix\"]  # Variable cible : le prix\n",
    "\n",
    "# Découpage du jeu de données en train / test\n",
    "X_train, X_test, y_train, y_test = train_test_split(X, y, test_size=0.2, random_state=42)  # 80% entraînement, 20% test\n",
    "\n",
    "# Standardisation des données (centrage-réduction)\n",
    "scaler = StandardScaler()\n",
    "X_train_scaled = scaler.fit_transform(X_train)  # Apprentissage des paramètres sur X_train\n",
    "X_test_scaled = scaler.transform(X_test)        # Transformation de X_test avec les mêmes paramètres\n",
    "\n",
    "# Sauvegarde du scaler pour une réutilisation future\n",
    "os.makedirs(\"../models/deep\", exist_ok=True)\n",
    "scaler_path = \"../models/deep/scaler_notebook.pkl\"\n",
    "joblib.dump(scaler, scaler_path)\n",
    "\n",
    "# Messages de vérification\n",
    "print(\"Scaler sauvegardé :\", scaler_path)\n",
    "print(\"Données prêtes pour entraînement deep learning :\", X_train_scaled.shape)"
   ]
  },
  {
   "cell_type": "markdown",
   "id": "15496d22",
   "metadata": {},
   "source": [
    "---"
   ]
  },
  {
   "cell_type": "markdown",
   "id": "97721ffe",
   "metadata": {},
   "source": [
    "## 🧠 4. Construction du modèle MLP (régression du prix)\n",
    "\n",
    "### ❓ 4.1. Pourquoi cette étape maintenant ?\n",
    "\n",
    "Nous allons entraîner un modèle de Deep Learning de type **MLP (Multilayer Perceptron)** pour prédire le prix d’un service.  \n",
    "Il s’agit d’un modèle dense à plusieurs couches, adapté aux jeux de données tabulaires enrichis (numériques + embeddings).\n",
    "\n",
    "Le modèle est conçu pour apprendre une **fonction de régression** sur les variables d’entrée (dont les embeddings de description) vers une **valeur continue de prix**.\n",
    "\n",
    "### 🎯 4.2. Résultat attendu\n",
    "\n",
    "- Un modèle Keras `Sequential` est initialisé avec 3 couches :\n",
    "  - Deux couches cachées avec activations ReLU.\n",
    "  - Une couche de sortie sans activation (régression directe).\n",
    "- Une couche de régularisation `Dropout` est intégrée pour réduire le risque de surapprentissage.\n",
    "- Le modèle est compilé avec :\n",
    "  - L’optimiseur `adam`\n",
    "  - La fonction de perte `mse`\n",
    "  - L’indicateur de performance `mae`\n",
    "\n",
    "---\n",
    "\n",
    "### 🐍 4.3. Script de définition du modèle MLP"
   ]
  },
  {
   "cell_type": "code",
   "execution_count": 11,
   "id": "45cab3ac",
   "metadata": {},
   "outputs": [],
   "source": [
    "# Construction du modèle MLP (Multilayer Perceptron)\n",
    "\n",
    "# Initialisation d'un modèle séquentiel Keras\n",
    "model = Sequential([\n",
    "\n",
    "    # Première couche cachée dense avec 128 neurones et une activation ReLU\n",
    "    Dense(128, activation='relu', input_shape=(X_train_scaled.shape[1],)),\n",
    "\n",
    "    # Couche de dropout pour limiter le surapprentissage (20% des neurones désactivés à chaque itération)\n",
    "    Dropout(0.2),\n",
    "\n",
    "    # Deuxième couche cachée dense avec 64 neurones et une activation ReLU\n",
    "    Dense(64, activation='relu'),\n",
    "\n",
    "    # Couche de sortie : une seule valeur continue (régression du prix)\n",
    "    Dense(1)\n",
    "])\n",
    "\n",
    "# Compilation du modèle avec :\n",
    "# - l'optimiseur 'adam' (rapide et efficace pour la majorité des cas)\n",
    "# - la fonction de perte 'mse' (erreur quadratique moyenne, adaptée à la régression)\n",
    "# - l'indicateur de performance 'mae' (erreur absolue moyenne, plus lisible pour l'utilisateur final)\n",
    "model.compile(\n",
    "    optimizer='adam',\n",
    "    loss='mse',\n",
    "    metrics=['mae']\n",
    ")"
   ]
  },
  {
   "cell_type": "markdown",
   "id": "ee123e54",
   "metadata": {},
   "source": [
    "---"
   ]
  },
  {
   "cell_type": "markdown",
   "id": "6558e9a5",
   "metadata": {},
   "source": [
    "## 🏋️‍♂️ 5. Entraînement du modèle avec EarlyStopping\n",
    "\n",
    "### ❓ 5.1. Pourquoi cette étape maintenant ?\n",
    "\n",
    "Après avoir préparé les données et construit notre modèle de deep learning, il est temps de lancer l’entraînement.  \n",
    "Nous utilisons ici un mécanisme de **surveillance automatique** pour éviter le surapprentissage (`EarlyStopping`).\n",
    "\n",
    "Ce mécanisme permet :\n",
    "- d'interrompre l'entraînement si le modèle ne s'améliore plus sur les données de validation,\n",
    "- d'éviter d’apprendre des détails trop spécifiques à l’échantillon d’entraînement (overfitting),\n",
    "- de restaurer automatiquement les **meilleurs poids** enregistrés.\n",
    "\n",
    "### 🎯 5.2. Résultat attendu\n",
    "\n",
    "- Le modèle est entraîné sur les données normalisées `X_train_scaled`.\n",
    "- Une **validation croisée interne** est effectuée à chaque époque sur 20% des données.\n",
    "- Le processus s’interrompt automatiquement si aucune amélioration n’est constatée pendant 10 époques consécutives.\n",
    "- L’objet `history` contient toutes les informations nécessaires à la visualisation de la courbe d’apprentissage.\n",
    "\n",
    "---\n",
    "\n",
    "### 🐍 5.3. Script d’entraînement avec arrêt anticipé"
   ]
  },
  {
   "cell_type": "code",
   "execution_count": 12,
   "id": "b30b7dad",
   "metadata": {},
   "outputs": [
    {
     "name": "stdout",
     "output_type": "stream",
     "text": [
      "Epoch 1/100\n",
      "23/23 [==============================] - 1s 14ms/step - loss: 36.9353 - mae: 4.5490 - val_loss: 34.3361 - val_mae: 4.6683\n",
      "Epoch 2/100\n",
      "23/23 [==============================] - 0s 5ms/step - loss: 25.0065 - mae: 3.8876 - val_loss: 35.1867 - val_mae: 4.6080\n",
      "Epoch 3/100\n",
      "23/23 [==============================] - 0s 4ms/step - loss: 21.3895 - mae: 3.6078 - val_loss: 34.1707 - val_mae: 4.6207\n",
      "Epoch 4/100\n",
      "23/23 [==============================] - 0s 4ms/step - loss: 18.3212 - mae: 3.3273 - val_loss: 34.8686 - val_mae: 4.5734\n",
      "Epoch 5/100\n",
      "23/23 [==============================] - 0s 6ms/step - loss: 16.5729 - mae: 3.1223 - val_loss: 34.3977 - val_mae: 4.5513\n",
      "Epoch 6/100\n",
      "23/23 [==============================] - 0s 4ms/step - loss: 14.3335 - mae: 2.8877 - val_loss: 33.6412 - val_mae: 4.4827\n",
      "Epoch 7/100\n",
      "23/23 [==============================] - 0s 3ms/step - loss: 12.6017 - mae: 2.6869 - val_loss: 34.6260 - val_mae: 4.5464\n",
      "Epoch 8/100\n",
      "23/23 [==============================] - 0s 6ms/step - loss: 11.7556 - mae: 2.5521 - val_loss: 34.9099 - val_mae: 4.5528\n",
      "Epoch 9/100\n",
      "23/23 [==============================] - 0s 7ms/step - loss: 10.4761 - mae: 2.3884 - val_loss: 35.9312 - val_mae: 4.5713\n",
      "Epoch 10/100\n",
      "23/23 [==============================] - 0s 6ms/step - loss: 9.0381 - mae: 2.2173 - val_loss: 35.4424 - val_mae: 4.4865\n",
      "Epoch 11/100\n",
      "23/23 [==============================] - 0s 6ms/step - loss: 8.2618 - mae: 2.1110 - val_loss: 35.4345 - val_mae: 4.5426\n",
      "Epoch 12/100\n",
      "23/23 [==============================] - 0s 6ms/step - loss: 7.6078 - mae: 1.9956 - val_loss: 35.1565 - val_mae: 4.5188\n",
      "Epoch 13/100\n",
      "23/23 [==============================] - 0s 5ms/step - loss: 6.8398 - mae: 1.8995 - val_loss: 36.3944 - val_mae: 4.5389\n",
      "Epoch 14/100\n",
      "23/23 [==============================] - 0s 4ms/step - loss: 6.5078 - mae: 1.9170 - val_loss: 36.0569 - val_mae: 4.5204\n",
      "Epoch 15/100\n",
      "23/23 [==============================] - 0s 4ms/step - loss: 6.4687 - mae: 1.8712 - val_loss: 35.8081 - val_mae: 4.4748\n",
      "Epoch 16/100\n",
      "23/23 [==============================] - 0s 4ms/step - loss: 6.2215 - mae: 1.8142 - val_loss: 36.1844 - val_mae: 4.4898\n"
     ]
    }
   ],
   "source": [
    "# Entraînement avec early stopping\n",
    "\n",
    "# Création d’un callback EarlyStopping :\n",
    "# - 'monitor' : indique que l'on surveille la perte sur les données de validation ('val_loss').\n",
    "# - 'patience' : arrête l'entraînement si la perte ne s'améliore pas après 10 epochs consécutifs.\n",
    "# - 'restore_best_weights' : restaure les poids du modèle obtenus à l'époque avec la meilleure val_loss.\n",
    "early_stop = EarlyStopping(monitor='val_loss', patience=10, restore_best_weights=True)\n",
    "\n",
    "# Entraînement du modèle sur les données d’entraînement\n",
    "# - 'validation_split' : 20% des données d'entraînement sont utilisées pour valider le modèle pendant l'entraînement.\n",
    "# - 'epochs' : nombre maximum d'itérations (epochs).\n",
    "# - 'batch_size' : nombre d'exemples traités avant la mise à jour des poids.\n",
    "# - 'callbacks' : utilise le mécanisme d'arrêt anticipé pour éviter l’overfitting.\n",
    "# - 'verbose' : 1 pour affichage détaillé de la progression dans le terminal.\n",
    "history = model.fit(\n",
    "    X_train_scaled, y_train,\n",
    "    validation_split=0.2,\n",
    "    epochs=100,\n",
    "    batch_size=32,\n",
    "    callbacks=[early_stop],\n",
    "    verbose=1\n",
    ")"
   ]
  },
  {
   "cell_type": "markdown",
   "id": "186c27b0",
   "metadata": {},
   "source": [
    "---"
   ]
  },
  {
   "cell_type": "markdown",
   "id": "c8d1cfd4",
   "metadata": {},
   "source": [
    "## 🧪 6. Évaluation du modèle entraîné\n",
    "\n",
    "### ❓ 6.1. Pourquoi cette étape maintenant ?\n",
    "\n",
    "L’évaluation finale permet de mesurer la **performance réelle** du modèle sur des données **inédites** (non vues pendant l’entraînement).  \n",
    "Cela permet de détecter :\n",
    "- Un éventuel **surapprentissage** si la performance chute trop par rapport au jeu d’entraînement,\n",
    "- L’efficacité globale du modèle dans un contexte d’usage réel.\n",
    "\n",
    "### 🎯 6.2. Résultat attendu\n",
    "\n",
    "- Le modèle retourne deux indicateurs clés :\n",
    "  - **MAE** (*Mean Absolute Error*) : écart moyen absolu entre les prix réels et prédits,\n",
    "  - **MSE** (*Mean Squared Error*) : utilisé comme fonction de perte pour l’entraînement.\n",
    "- Ces valeurs sont imprimées dans la console pour analyse comparative.\n",
    "\n",
    "---\n",
    "\n",
    "### 🐍 6.3. Script d’évaluation du modèle sur le jeu de test"
   ]
  },
  {
   "cell_type": "code",
   "execution_count": 13,
   "id": "0d6e6722",
   "metadata": {},
   "outputs": [
    {
     "name": "stdout",
     "output_type": "stream",
     "text": [
      "8/8 [==============================] - 0s 2ms/step - loss: 29.3919 - mae: 3.9796\n",
      "\n",
      "Évaluation finale - MAE : 3.98, MSE : 29.39\n"
     ]
    }
   ],
   "source": [
    "# Évaluation du modèle sur les données de test\n",
    "\n",
    "# Évaluation finale du modèle entraîné à l'aide des données de test standardisées.\n",
    "# La méthode 'evaluate' retourne deux métriques :\n",
    "# - loss : ici c’est le MSE (Mean Squared Error) car le modèle a été compilé avec la perte \"mse\"\n",
    "# - mae : Mean Absolute Error, plus lisible et moins sensible aux grandes erreurs\n",
    "loss, mae = model.evaluate(X_test_scaled, y_test)\n",
    "\n",
    "# Affichage des résultats arrondis à deux décimales\n",
    "print(f\"\\nÉvaluation finale - MAE : {mae:.2f}, MSE : {loss:.2f}\")"
   ]
  },
  {
   "cell_type": "markdown",
   "id": "cfb93841",
   "metadata": {},
   "source": [
    "---"
   ]
  },
  {
   "cell_type": "markdown",
   "id": "0d2d563f",
   "metadata": {},
   "source": [
    "## 💾 7. Sauvegarde du modèle Deep Learning entraîné\n",
    "\n",
    "### ❓ 7.1. Pourquoi cette étape maintenant ?\n",
    "\n",
    "Une fois le modèle entraîné et validé, il est crucial de **le sauvegarder** afin de :\n",
    "- Réutiliser le modèle plus tard sans avoir à le réentraîner,\n",
    "- L’intégrer dans une application (API, Gradio, etc.),\n",
    "- Conserver une version stable du modèle pour reproductibilité ou archivage.\n",
    "\n",
    "Le format `.h5` est un format standard de sauvegarde pour les modèles Keras.\n",
    "\n",
    "### 🎯 7.2. Résultat attendu\n",
    "\n",
    "- Le modèle est sauvegardé dans le fichier `models/deep/deep_model.h5`.\n",
    "- Un message de confirmation s’affiche dans le terminal.\n",
    "\n",
    "---\n",
    "\n",
    "### 🐍 7.3. Script de sauvegarde du modèle Deep Learning"
   ]
  },
  {
   "cell_type": "code",
   "execution_count": 14,
   "id": "9086da16",
   "metadata": {},
   "outputs": [
    {
     "name": "stdout",
     "output_type": "stream",
     "text": [
      "Modèle sauvegardé : ../models/deep/deep_model_notebook.h5\n"
     ]
    }
   ],
   "source": [
    "# 🔹 Sauvegarde du modèle Keras\n",
    "\n",
    "# Définition du chemin de sauvegarde du modèle Deep Learning\n",
    "model_path = \"../models/deep/deep_model_notebook.h5\"\n",
    "\n",
    "# Sauvegarde du modèle Keras au format HDF5 (.h5)\n",
    "model.save(model_path)\n",
    "\n",
    "# Confirmation de la sauvegarde\n",
    "print(\"Modèle sauvegardé :\", model_path)"
   ]
  }
 ],
 "metadata": {
  "kernelspec": {
   "display_name": ".venv",
   "language": "python",
   "name": "python3"
  },
  "language_info": {
   "codemirror_mode": {
    "name": "ipython",
    "version": 3
   },
   "file_extension": ".py",
   "mimetype": "text/x-python",
   "name": "python",
   "nbconvert_exporter": "python",
   "pygments_lexer": "ipython3",
   "version": "3.10.11"
  }
 },
 "nbformat": 4,
 "nbformat_minor": 5
}
