{
 "cells": [
  {
   "cell_type": "markdown",
   "id": "07dc1ac9",
   "metadata": {},
   "source": [
    "# Notebook `02_model_regression.ipynb`"
   ]
  },
  {
   "cell_type": "markdown",
   "id": "ae7ce7f5",
   "metadata": {},
   "source": [
    "---"
   ]
  },
  {
   "cell_type": "markdown",
   "id": "120aae6d",
   "metadata": {},
   "source": [
    "## 📈 Entraînement des modèles de régression\n",
    "\n",
    "Ce notebook a pour objectif de construire et évaluer différents **modèles de régression** pour prédire le **prix d’un service Fiverr** à partir de ses caractéristiques (texte, fiabilité, etc.).\n",
    "\n",
    "Nous comparons ici plusieurs algorithmes supervisés, avec ou sans transformation logarithmique, pour identifier le modèle le plus robuste.\n",
    "\n",
    "## 🎯 Objectifs\n",
    "\n",
    "- Charger les features et les cibles préparées (`X_scaled`, `y_reg`)\n",
    "- Tester plusieurs modèles de régression (linéaire, arbres, boosting, etc.)\n",
    "- Évaluer les performances avec des métriques comme **MAE**, **RMSE** et **R²**\n",
    "- Sélectionner le meilleur modèle pour la prédiction du **prix réel**\n",
    "- Sauvegarder le modèle retenu pour les étapes de prédiction et de mise en production\n",
    "\n",
    "## ✅ Compétences mobilisées\n",
    "\n",
    "- **Bloc 3 — C1** : Comparer les performances de plusieurs algorithmes de régression pour choisir le plus adapté à la problématique.\n",
    "- **Bloc 3 — C2** : Adapter les données à la forme attendue par les modèles (notamment via `StandardScaler` et transformation `log`).\n",
    "- **Bloc 3 — C3** : Entraîner un modèle de régression en optimisant ses performances selon des indicateurs clairement définis (MAE, RMSE, R²).\n",
    "\n",
    "*Ce notebook permet de poser les fondations du moteur de prédiction de prix utilisé dans l'application finale.*"
   ]
  },
  {
   "cell_type": "markdown",
   "id": "d647494d",
   "metadata": {},
   "source": [
    "---"
   ]
  },
  {
   "cell_type": "markdown",
   "id": "5128c02d",
   "metadata": {},
   "source": [
    "## 🧭 Sommaire\n",
    "\n",
    "1. [Importation des bibliothèques](#-1-importation-des-bibliothèques)\n",
    "2. [Chargement des données transformées](#-2-chargement-des-données-transformées)\n",
    "3. [Construction des variables explicatives (`X`) et cibles (`y`)](#-3-construction-des-variables-explicatives-x-et-cibles-y)\n",
    "4. [Séparation des données et définition des modèles](#-4-séparation-des-données-et-définition-des-modèles)\n",
    "5. [Entraînement, évaluation et sauvegarde des modèles de régression](#-5-entraînement-évaluation-et-sauvegarde-des-modèles-de-régression)\n",
    "6. [Sauvegarde du préprocesseur et des colonnes de features](#-6-sauvegarde-du-préprocesseur-et-des-colonnes-de-features)\n",
    "7. [Résultats comparatifs des modèles de régression](#-7-résultats-comparatifs-des-modèles-de-régression)\n",
    "8. [Sélection du meilleur modèle de régression](#-8-sélection-du-meilleur-modèle-de-régression)"
   ]
  },
  {
   "cell_type": "markdown",
   "id": "37c9602a",
   "metadata": {},
   "source": [
    "---"
   ]
  },
  {
   "cell_type": "markdown",
   "id": "5de00436",
   "metadata": {},
   "source": [
    "## 📘 1. Importation des bibliothèques\n",
    "\n",
    "### ❓ 1.1. Pourquoi cette étape ?\n",
    "\n",
    "Avant d’entamer le processus de modélisation, il est indispensable d’importer toutes les bibliothèques nécessaires au traitement des données, à l’entraînement des modèles et à leur évaluation.\n",
    "\n",
    "Les modules importés ici permettent de :\n",
    "\n",
    "- **Charger et manipuler** les données (`pandas`, `numpy`, `os`, `joblib`)\n",
    "- **Préparer les jeux de données** (`train_test_split`, `StandardScaler`)\n",
    "- **Entraîner plusieurs types de modèles de régression** :\n",
    "  - `LinearRegression`, `Ridge`\n",
    "  - `DecisionTreeRegressor`, `RandomForestRegressor`\n",
    "  - `GradientBoostingRegressor`, `XGBRegressor`\n",
    "  - `KNeighborsRegressor`\n",
    "- **Évaluer les performances** via des métriques (`MAE`, `RMSE`, `R²`)\n",
    "- **Générer des embeddings textuels** à partir de la description (`SentenceTransformer`)\n",
    "\n",
    "---\n",
    "\n",
    "### 🐍 1.2. Script d’importation des bibliothèques"
   ]
  },
  {
   "cell_type": "code",
   "execution_count": null,
   "id": "b9d48fa8",
   "metadata": {},
   "outputs": [],
   "source": [
    "# Importation des bibliothèques nécessaires à la modélisation\n",
    "\n",
    "# Manipulation de données\n",
    "import pandas as pd                                              # Manipulation de DataFrames\n",
    "import numpy as np                                               # Fonctions mathématiques avancées\n",
    "import os                                                        # Interaction avec le système de fichiers\n",
    "import joblib                                                    # Sauvegarde et chargement de modèles\n",
    "\n",
    "# Préparation des données\n",
    "from sklearn.model_selection import train_test_split             # Découpe en train/test\n",
    "from sklearn.preprocessing import StandardScaler                 # Normalisation des données numériques\n",
    "\n",
    "# Modèles de régression standards\n",
    "from sklearn.linear_model import LinearRegression, Ridge         # Régressions linéaires (classique et régularisée)\n",
    "from sklearn.ensemble import RandomForestRegressor               # Forêts aléatoires\n",
    "from sklearn.ensemble import GradientBoostingRegressor           # Boosting\n",
    "from sklearn.tree import DecisionTreeRegressor                   # Arbre de régression simple\n",
    "from sklearn.neighbors import KNeighborsRegressor                # Régression par les k plus proches voisins\n",
    "from xgboost import XGBRegressor                                 # Régression boostée performante (XGBoost)\n",
    "\n",
    "# Évaluation des performances\n",
    "from sklearn.metrics import mean_absolute_error                  # - MAE : erreur absolue moyenne\n",
    "from sklearn.metrics import  mean_squared_error                  # - MSE : erreur quadratique moyenne\n",
    "from sklearn.metrics import r2_score                             # - R² : coefficient de détermination (qualité d'ajustement)\n",
    "\n",
    "# NLP - Embeddings de texte\n",
    "from sentence_transformers import SentenceTransformer            # Génération de vecteurs à partir de texte"
   ]
  },
  {
   "cell_type": "markdown",
   "id": "c8270230",
   "metadata": {},
   "source": [
    "---"
   ]
  },
  {
   "cell_type": "markdown",
   "id": "97bd75e7",
   "metadata": {},
   "source": [
    "## 📦 2. Chargement des données transformées\n",
    "\n",
    "### ❓ 2.1. Pourquoi cette étape maintenant ?\n",
    "\n",
    "Après le prétraitement complet du jeu de données brut, nous avons sauvegardé une version transformée et enrichie (`fiverr_cleaned_transformed.csv`).  \n",
    "Cette étape consiste à **recharger ce fichier préparé** pour démarrer la phase de modélisation.\n",
    "\n",
    "Ce fichier contient :\n",
    "- Des **colonnes nettoyées et prêtes à l’emploi** : `Description`, `Niveau`, `Prix`, `Fiabilite`, etc.\n",
    "- Les **valeurs manquantes imputées**\n",
    "- Les descriptions textuelles **nettoyées des stopwords** et formules types\n",
    "- Des formats unifiés (`float`, `str`, etc.)\n",
    "\n",
    "### 🎯 2.2. Résultat attendu\n",
    "\n",
    "- Les données sont chargées dans un objet `DataFrame` nommé `df`.\n",
    "- Elles sont prêtes à être utilisées pour la phase de modélisation (régression et/ou classification).\n",
    "\n",
    "---\n",
    "\n",
    "### 🐍 2.3. Script de chargement des données transformées"
   ]
  },
  {
   "cell_type": "code",
   "execution_count": null,
   "id": "99d603eb",
   "metadata": {},
   "outputs": [],
   "source": [
    "# Chargement du jeu de données transformé\n",
    "\n",
    "# Lecture du fichier CSV contenant les données nettoyées et enrichies\n",
    "# - Le fichier 'fiverr_cleaned_transformed.csv' est issu des étapes précédentes de préprocessing.\n",
    "# - Il contient déjà les colonnes prêtes à être utilisées pour l'entraînement des modèles (ex. : Description nettoyée, Fiabilité, Niveau, Prix, etc.)\n",
    "\n",
    "df = pd.read_csv(\"../data/fiverr_cleaned_dl_notebook.csv\")"
   ]
  },
  {
   "cell_type": "markdown",
   "id": "67b7c68e",
   "metadata": {},
   "source": [
    "---"
   ]
  },
  {
   "cell_type": "markdown",
   "id": "3674825b",
   "metadata": {},
   "source": [
    "## 🧠 3. Construction des variables explicatives (`X`) et cibles (`y`)\n",
    "\n",
    "### ❓ 3.1. Pourquoi cette étape maintenant ?\n",
    "\n",
    "Nous allons maintenant préparer les **données d’entrée du modèle** (`X`) et la **variable à prédire** (`y`), à partir du fichier transformé.  \n",
    "Les colonnes choisies sont prêtes à l’emploi grâce aux étapes précédentes (nettoyage, vectorisation, standardisation).\n",
    "\n",
    "### 🔧 3.2. Détails des transformations effectuées\n",
    "\n",
    "| Étape | Description |\n",
    "|-------|-------------|\n",
    "| 🧩 Embedding | Les titres de service (`Description`) sont transformés en **vecteurs numériques de 384 dimensions** via un modèle pré-entraîné (`all-MiniLM-L6-v2`). |\n",
    "| ⚖️ Normalisation | La variable `Fiabilite` est **standardisée** à l’aide d’un `StandardScaler`. Cela améliore la performance de nombreux modèles. |\n",
    "| 🧷 Fusion | Les embeddings et la fiabilité standardisée sont **fusionnés horizontalement** dans une matrice `X` utilisée pour l'entraînement. |\n",
    "| 🎯 Cibles | Deux cibles sont définies : `y_log` (log du prix pour l'entraînement) et `y_real` (prix réel pour l’évaluation des performances). |\n",
    "\n",
    "> 💡 Remarque : le one-hot encoding de `Niveau` peut être réintégré ultérieurement si l'on souhaite inclure cette variable dans les features.\n",
    "\n",
    "---\n",
    "\n",
    "### 🐍 3.3. Script de construction des variables explicatives"
   ]
  },
  {
   "cell_type": "code",
   "execution_count": 23,
   "id": "625bcec1",
   "metadata": {},
   "outputs": [
    {
     "data": {
      "application/vnd.jupyter.widget-view+json": {
       "model_id": "ad8fa897600f4ae38cc6556ca548c56e",
       "version_major": 2,
       "version_minor": 0
      },
      "text/plain": [
       "Batches:   0%|          | 0/36 [00:00<?, ?it/s]"
      ]
     },
     "metadata": {},
     "output_type": "display_data"
    }
   ],
   "source": [
    "# Génération des embeddings à partir des descriptions textuelles\n",
    "\n",
    "# Modèle pré-entraîné pour transformer le texte en vecteurs numériques (384 dimensions)\n",
    "embedding_model = SentenceTransformer(\"sentence-transformers/all-MiniLM-L6-v2\")\n",
    "\n",
    "# Transformation de chaque description textuelle en vecteur dense\n",
    "# - On s'assure que la colonne Description est bien convertie en chaîne de caractères\n",
    "# - Le paramètre show_progress_bar=True affiche une barre de progression utile en cas de grand volume\n",
    "embeddings = embedding_model.encode(df[\"Description\"].astype(str).tolist(), show_progress_bar=True)\n",
    "\n",
    "# Conversion en DataFrame avec noms explicites pour chaque dimension\n",
    "embed_df = pd.DataFrame(embeddings, columns=[f\"emb_{i}\" for i in range(384)])\n",
    "\n",
    "# Encodage one-hot du niveau (commenté ici si non utilisé)\n",
    "# - Utile si l'on souhaite intégrer le niveau du vendeur dans le modèle\n",
    "# niveau_encoded = pd.get_dummies(df[\"Niveau\"], prefix=\"Niveau\")\n",
    "\n",
    "# Standardisation de la variable Fiabilité\n",
    "\n",
    "# - Le StandardScaler transforme la variable pour qu’elle ait une moyenne de 0 et un écart-type de 1\n",
    "# - Cela facilite la convergence des algorithmes sensibles à l’échelle (ex. : régression, KNN...)\n",
    "scaler = StandardScaler()\n",
    "fiabilite_scaled = scaler.fit_transform(df[[\"Fiabilite\"]])\n",
    "\n",
    "# Conversion en DataFrame avec nom de colonne conservé\n",
    "fiabilite_df = pd.DataFrame(fiabilite_scaled, columns=[\"Fiabilite\"])\n",
    "\n",
    "# Fusion des différentes sources de données\n",
    "\n",
    "# - On concatène horizontalement les embeddings textuels et la fiabilité normalisée\n",
    "# - Le DataFrame final `X` est l’ensemble des features utilisées pour l’entraînement\n",
    "X = pd.concat([embed_df, fiabilite_df], axis=1)\n",
    "\n",
    "# Cibles à prédire\n",
    "# - y_log : version logarithmique du prix (pour modèle)\n",
    "# - y_real : prix réel (pour interprétation ou évaluation)\n",
    "y_log = df[\"Prix_log\"]\n",
    "y_real = df[\"Prix\"]"
   ]
  },
  {
   "cell_type": "markdown",
   "id": "4f8769b2",
   "metadata": {},
   "source": [
    "---"
   ]
  },
  {
   "cell_type": "markdown",
   "id": "4cb4d5c0",
   "metadata": {},
   "source": [
    "## 🧪 4. Séparation des données et définition des modèles\n",
    "\n",
    "### ❓ 4.1. Pourquoi cette étape maintenant ?\n",
    "\n",
    "Avant de tester nos modèles, il est indispensable de :\n",
    "1. **Diviser le jeu de données** en un ensemble d'entraînement (80 %) et un ensemble de test (20 %) ;\n",
    "2. **Définir une sélection de modèles** à comparer objectivement sur les mêmes données.\n",
    "\n",
    "### 🔄 4.2. Détails de la division train/test\n",
    "\n",
    "| Variable        | Rôle                                      |\n",
    "|----------------|-------------------------------------------|\n",
    "| `X_train`       | Données d'entraînement (features)         |\n",
    "| `X_test`        | Données de test (features)                |\n",
    "| `y_train`       | Prix log transformé — à prédire (train)   |\n",
    "| `y_test`        | Prix log transformé — à prédire (test)    |\n",
    "| `y_real_train`  | Prix réel pour comparaison éventuelle     |\n",
    "| `y_real_test`   | Prix réel pour l’évaluation des erreurs   |\n",
    "\n",
    "### 🤖 4.3. Modèles sélectionnés pour la régression\n",
    "\n",
    "| Modèle               | Description rapide                           |\n",
    "|----------------------|----------------------------------------------|\n",
    "| `LinearRegression`   | Régression linéaire classique                |\n",
    "| `Ridge`              | Régression linéaire avec régularisation L2   |\n",
    "| `RandomForest`       | Agrégation d’arbres décisionnels (bagging)   |\n",
    "| `GradientBoosting`   | Entraînement séquentiel d’arbres faibles     |\n",
    "| `XGBoost`            | Boosting optimisé très performant            |\n",
    "| `DecisionTree`       | Arbre de décision unique                     |\n",
    "| `KNN Regressor`      | Moyenne des k plus proches voisins           |\n",
    "\n",
    "> ⚠️ Tous les modèles seront entraînés sur les **mêmes données** et évalués selon des métriques identiques pour un comparatif juste.\n",
    "\n",
    "---\n",
    "\n",
    "### 🐍 4.4. Script de séparation des données et définition des modèles"
   ]
  },
  {
   "cell_type": "code",
   "execution_count": null,
   "id": "174cc7a5",
   "metadata": {},
   "outputs": [],
   "source": [
    "# Séparation des données en ensembles d'entraînement et de test\n",
    "\n",
    "# X         : matrice des caractéristiques (embeddings + fiabilité)\n",
    "# y_log     : prix transformé en échelle logarithmique (cible d'entraînement)\n",
    "# y_real    : prix réel (utilisé uniquement pour l'évaluation, pas pour l'entraînement)\n",
    "\n",
    "# Paramètres :\n",
    "# - test_size=0.2        : 20 % des données seront utilisées pour les tests\n",
    "# - random_state=42      : graine aléatoire pour garantir la reproductibilité\n",
    "\n",
    "X_train, X_test, y_train, y_test, y_real_train, y_real_test = train_test_split(\n",
    "    X, y_log, y_real, test_size=0.2, random_state=42\n",
    ")\n",
    "\n",
    "# Définition des modèles de régression à comparer\n",
    "\n",
    "# Chaque modèle est instancié avec des paramètres de base cohérents\n",
    "models = {\n",
    "    \"Linear Regression\": LinearRegression(),                                            # - LinearRegression : modèle linéaire de base\n",
    "    \"Ridge\": Ridge(alpha=1.0),                                                          # - Ridge : régression linéaire avec régularisation L2      \n",
    "    \"Random Forest\": RandomForestRegressor(n_estimators=100, random_state=42),          # - Random Forest    : ensemble d’arbres (100 arbres, aléatoire fixé)\n",
    "    \"Gradient Boosting\": GradientBoostingRegressor(n_estimators=100, random_state=42),  # - Gradient Boosting: boosting d’arbres (100 itérations, aléatoire fixé)\n",
    "    \"XGBoost\": XGBRegressor(n_estimators=100, random_state=42, verbosity=0),            # - XGBoost          : gradient boosting très performant (100 arbres, verbosité coupée)    \n",
    "    \"Decision Tree\": DecisionTreeRegressor(random_state=42),                            # - Decision Tree    : arbre unique, simple à interpréter\n",
    "    \"KNN Regressor\": KNeighborsRegressor(n_neighbors=5)                                 # - KNN              : régression par les k plus proches voisins (ici k=5)\n",
    "}"
   ]
  },
  {
   "cell_type": "markdown",
   "id": "3b886b3f",
   "metadata": {},
   "source": [
    "---"
   ]
  },
  {
   "cell_type": "markdown",
   "id": "4bbc81f8",
   "metadata": {},
   "source": [
    "## 🧠 5. Entraînement, évaluation et sauvegarde des modèles de régression\n",
    "\n",
    "### 🎯 5.1. Objectif\n",
    "\n",
    "Comparer les performances de plusieurs modèles de régression sur la prédiction du **prix réel**, à partir de la cible log-transformée (`Prix_log`).  \n",
    "Nous allons :\n",
    "- entraîner chaque modèle sur les mêmes données (`X_train`, `y_train`),\n",
    "- prédire sur les mêmes données de test (`X_test`),\n",
    "- évaluer les performances selon 3 métriques principales.\n",
    "\n",
    "### 📏 5.2. Métriques utilisées\n",
    "\n",
    "| Métrique | Signification                             |\n",
    "|----------|-------------------------------------------|\n",
    "| MAE      | Erreur absolue moyenne                    |\n",
    "| RMSE     | Erreur quadratique moyenne                |\n",
    "| R²       | Coefficient de détermination              |\n",
    "\n",
    "> 🔁 Tous les résultats sont **calculés à partir des prix réels** (après transformation inverse du log).\n",
    "\n",
    "### 💾 5.3. Sauvegarde automatique\n",
    "\n",
    "Chaque modèle est enregistré automatiquement dans le dossier :\n",
    "\n",
    "\n",
    "### 🥇 5.4. Sélection du meilleur modèle\n",
    "\n",
    "Le **modèle ayant le plus petit RMSE** est conservé comme meilleur modèle (`best_model`), et son nom est stocké pour une utilisation future.\n",
    "\n",
    "---\n",
    "\n",
    "### 🐍 5.5. Script de sélection du meilleur modèle\n"
   ]
  },
  {
   "cell_type": "code",
   "execution_count": null,
   "id": "151d60b7",
   "metadata": {},
   "outputs": [],
   "source": [
    "# Entraînement et évaluation de tous les modèles de régression\n",
    "\n",
    "results = []                          # Liste pour stocker les scores de chaque modèle\n",
    "best_model = None                    # Pour conserver le meilleur modèle trouvé\n",
    "best_rmse = float('inf')             # Initialisation du plus petit RMSE à l’infini\n",
    "\n",
    "# Boucle sur chaque modèle du dictionnaire\n",
    "for name, model in models.items():\n",
    "    # Entraînement du modèle sur l'ensemble d'entraînement\n",
    "    model.fit(X_train, y_train)\n",
    "\n",
    "    # Prédiction sur l’ensemble de test (prix en échelle log)\n",
    "    y_pred_log = model.predict(X_test)\n",
    "\n",
    "    # Transformation inverse pour retrouver les prix réels\n",
    "    y_pred = np.expm1(y_pred_log)\n",
    "\n",
    "    # Calcul des métriques d’évaluation\n",
    "    mae = mean_absolute_error(y_real_test, y_pred)  # Erreur absolue moyenne\n",
    "    rmse = np.sqrt(mean_squared_error(y_real_test, y_pred))  # Erreur quadratique moyenne\n",
    "    r2 = r2_score(y_real_test, y_pred)  # Coefficient de détermination\n",
    "\n",
    "    # Stockage des résultats arrondis dans une liste de dictionnaires\n",
    "    results.append({\n",
    "        \"Modèle\": name,\n",
    "        \"MAE\": round(mae, 2),\n",
    "        \"RMSE\": round(rmse, 2),\n",
    "        \"R²\": round(r2, 4)\n",
    "    })\n",
    "\n",
    "    # Sauvegarde du modèle entraîné dans le dossier approprié\n",
    "    model_filename = f\"{name.replace(' ', '_').lower()}_notebook.pkl\"\n",
    "    joblib.dump(model, f\"../models/regression/{model_filename}\")\n",
    "\n",
    "    # Suivi du meilleur modèle (basé sur le plus petit RMSE)\n",
    "    if rmse < best_rmse:\n",
    "        best_rmse = rmse\n",
    "        best_model = model\n",
    "        best_name = name\n"
   ]
  },
  {
   "cell_type": "markdown",
   "id": "876bcd05",
   "metadata": {},
   "source": [
    "---"
   ]
  },
  {
   "cell_type": "markdown",
   "id": "614a0d21",
   "metadata": {},
   "source": [
    "## 💾 6. Sauvegarde du préprocesseur et des colonnes de features\n",
    "\n",
    "### 🎯 6.1. Objectif\n",
    "\n",
    "Pour garantir que le pipeline de prédiction future soit **reproductible et cohérent**, il est indispensable de sauvegarder :\n",
    "- le **scaler** utilisé pour la standardisation de la colonne `Fiabilite` (ici : `StandardScaler`),\n",
    "- la **liste exacte des colonnes** utilisées comme features (noms et ordre).\n",
    "\n",
    "Cela évite les erreurs de transformation ou de dimensions lors de l'inférence en production ou dans l’application Gradio.\n",
    "\n",
    "### 🧱 6.2. Éléments sauvegardés\n",
    "\n",
    "| Élément         | Chemin de sauvegarde                  | Description |\n",
    "|-----------------|----------------------------------------|-------------|\n",
    "| `scaler`        | `models/regression/scaler.pkl`        | Objet `StandardScaler` entraîné sur la fiabilité |\n",
    "| `columns_used`  | `models/columns_used.pkl`             | Liste ordonnée des noms de colonnes de `X` |\n",
    "\n",
    "---\n",
    "\n",
    "### 🐍 6.3. Script de sauvegarde"
   ]
  },
  {
   "cell_type": "code",
   "execution_count": 26,
   "id": "648dd18c",
   "metadata": {},
   "outputs": [
    {
     "data": {
      "text/plain": [
       "['../models/columns_used_notebook.pkl']"
      ]
     },
     "execution_count": 26,
     "metadata": {},
     "output_type": "execute_result"
    }
   ],
   "source": [
    "# Sauvegarde du scaler et des colonnes utilisées\n",
    "\n",
    "# Le modèle sélectionné (best_model) a déjà été sauvegardé précédemment dans la boucle.\n",
    "# Ici, nous sauvegardons le préprocesseur utilisé (StandardScaler) et la liste des colonnes du jeu de données final.\n",
    "\n",
    "# Sauvegarde du scaler utilisé pour la standardisation de la variable 'Fiabilite'\n",
    "# Cela permettra de reproduire exactement la même transformation à l'inférence\n",
    "joblib.dump(scaler, \"../models/regression/scaler_notebook.pkl\")\n",
    "\n",
    "# Sauvegarde de la liste des colonnes utilisées dans X (ordre et noms)\n",
    "# Utile pour reconstituer la même matrice de features à la prédiction\n",
    "joblib.dump(X.columns.tolist(), \"../models/columns_used_notebook.pkl\")"
   ]
  },
  {
   "cell_type": "markdown",
   "id": "fc140c03",
   "metadata": {},
   "source": [
    "---"
   ]
  },
  {
   "cell_type": "markdown",
   "id": "79aa1767",
   "metadata": {},
   "source": [
    "## 🏁 7. Résultats comparatifs des modèles de régression\n",
    "\n",
    "### 📊 7.1. Tableau de synthèse des performances\n",
    "\n",
    "Une fois les modèles entraînés, nous comparons leurs performances sur l’ensemble de test à l’aide des métriques suivantes :\n",
    "\n",
    "| Modèle              | MAE  | RMSE | R²    |\n",
    "|---------------------|------|------|-------|\n",
    "| ... (ex. Ridge, RF) | ...  | ...  | ...   |\n",
    "\n",
    "Le tableau est trié selon la **valeur croissante du RMSE**, afin de visualiser directement les modèles les plus performants.\n",
    "\n",
    "> ℹ️ Toutes les métriques sont calculées **sur les prix réels**, après transformation inverse du logarithme.\n",
    "\n",
    "### 🥇 7.2. Meilleur modèle sélectionné\n",
    "\n",
    "Le **modèle ayant obtenu le plus faible RMSE** est automatiquement sélectionné comme modèle final (`best_model`).  \n",
    "Son nom est affiché à la fin du tableau pour confirmation.\n",
    "\n",
    "---\n",
    "\n",
    "### 🐍 7.3. Script d’affichage des performances"
   ]
  },
  {
   "cell_type": "code",
   "execution_count": 27,
   "id": "60311057",
   "metadata": {},
   "outputs": [
    {
     "name": "stdout",
     "output_type": "stream",
     "text": [
      "📊 Résultats comparatifs (évalués sur les vrais prix) :\n",
      "\n",
      "| Modèle            |   MAE |   RMSE |      R² |\n",
      "|:------------------|------:|-------:|--------:|\n",
      "| Gradient Boosting |  3.21 |   4.9  |  0.2566 |\n",
      "| XGBoost           |  3.33 |   5    |  0.2274 |\n",
      "| Random Forest     |  3.32 |   5.03 |  0.2173 |\n",
      "| Ridge             |  3.82 |   5.47 |  0.0748 |\n",
      "| KNN Regressor     |  3.99 |   5.8  | -0.0407 |\n",
      "| Decision Tree     |  4.43 |   7.14 | -0.577  |\n",
      "| Linear Regression |  5.86 |   9.9  | -2.0358 |\n",
      "\n",
      "✅ Meilleur modèle : Gradient Boosting (RMSE = 4.9)\n"
     ]
    }
   ],
   "source": [
    "# Affichage des résultats comparatifs des modèles de régression\n",
    "\n",
    "# Transformation de la liste des résultats en DataFrame et tri par RMSE (croissant)\n",
    "df_results = pd.DataFrame(results).sort_values(\"RMSE\")\n",
    "\n",
    "# Affichage formaté des résultats en tableau Markdown\n",
    "print(\"Résultats comparatifs (évalués sur les vrais prix) :\\n\")\n",
    "print(df_results.to_markdown(index=False))  # affichage lisible dans les notebooks / consoles\n",
    "\n",
    "# 🥇 Rappel du meilleur modèle\n",
    "print(f\"\\nMeilleur modèle : {best_name} (RMSE = {round(best_rmse, 2)})\")"
   ]
  },
  {
   "cell_type": "markdown",
   "id": "f62ee0e2",
   "metadata": {},
   "source": [
    "## 🏆 8. Sélection du meilleur modèle de régression\n",
    "\n",
    "Après avoir entraîné et comparé **7 modèles de régression**, leurs performances ont été évaluées selon trois métriques essentielles :  \n",
    "- **MAE** : Erreur absolue moyenne (plus c’est bas, mieux c’est)  \n",
    "- **RMSE** : Racine de l'erreur quadratique moyenne (plus c’est bas, mieux c’est)  \n",
    "- **R²** : Coefficient de détermination (plus c’est proche de 1, mieux c’est)\n",
    "\n",
    "---\n",
    "\n",
    "### 📊 8.1. Résultats comparatifs (évalués sur les vrais prix)\n",
    "\n",
    "| Modèle            |   MAE |   RMSE |    R²    |\n",
    "|-------------------|-------|--------|----------|\n",
    "| **Gradient Boosting** |  3.21 |   4.90 | **0.2566** |\n",
    "| XGBoost           |  3.33 |   5.00 | 0.2274   |\n",
    "| Random Forest     |  3.32 |   5.03 | 0.2173   |\n",
    "| Ridge             |  3.82 |   5.47 | 0.0748   |\n",
    "| KNN Regressor     |  3.99 |   5.80 | -0.0407  |\n",
    "| Decision Tree     |  4.43 |   7.14 | -0.5770  |\n",
    "| Linear Regression |  5.86 |   9.90 | -2.0353  |\n",
    "\n",
    "✅ **Meilleur modèle : Gradient Boosting (RMSE = 4.90)**\n",
    "\n",
    "---\n",
    "\n",
    "ℹ️ **Remarque sur le choix du modèle**\n",
    "\n",
    " Le modèle `Gradient Boosting` s’est imposé comme le plus performant sur les données de test, avec :\n",
    " - la **plus faible erreur quadratique moyenne (RMSE)**,\n",
    " - un **coefficient R² positif**, montrant une bonne capacité de généralisation.\n",
    "\n",
    "Ce modèle sera donc utilisé pour la suite de l’analyse et dans l’application finale."
   ]
  }
 ],
 "metadata": {
  "kernelspec": {
   "display_name": ".venv",
   "language": "python",
   "name": "python3"
  },
  "language_info": {
   "codemirror_mode": {
    "name": "ipython",
    "version": 3
   },
   "file_extension": ".py",
   "mimetype": "text/x-python",
   "name": "python",
   "nbconvert_exporter": "python",
   "pygments_lexer": "ipython3",
   "version": "3.10.11"
  }
 },
 "nbformat": 4,
 "nbformat_minor": 5
}
