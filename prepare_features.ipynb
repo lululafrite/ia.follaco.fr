{
 "cells": [
  {
   "cell_type": "markdown",
   "id": "8ec7c277",
   "metadata": {},
   "source": [
    "# 02 - Prétraitement et Feature Engineering\n",
    "\n",
    "Ce notebook couvre l'étape de nettoyage et de création des features :\n",
    "- Parsing du nombre d'avis\n",
    "- Encodage du niveau du vendeur\n",
    "- TF-IDF sur le titre\n",
    "- Assemblage des features et extraction des cibles\n"
   ]
  },
  {
   "cell_type": "markdown",
   "id": "4adb9480",
   "metadata": {},
   "source": [
    "## Import des librairies"
   ]
  },
  {
   "cell_type": "code",
   "execution_count": null,
   "id": "214ac421",
   "metadata": {},
   "outputs": [],
   "source": [
    "import os\n",
    "import numpy as np\n",
    "import pandas as pd\n",
    "from scipy import sparse\n",
    "from sklearn.feature_extraction.text import TfidfVectorizer\n",
    "from sklearn.preprocessing import OneHotEncoder"
   ]
  },
  {
   "cell_type": "markdown",
   "id": "3b7d554d",
   "metadata": {},
   "source": [
    "## Chargement du dataset Fiverr"
   ]
  },
  {
   "cell_type": "code",
   "execution_count": null,
   "id": "5aec2bc3",
   "metadata": {},
   "outputs": [],
   "source": [
    "# Chemin vers le CSV nettoyé\n",
    "data_path = os.path.join('data', 'fiverr_gigs', 'fiverr-data-gigs-cleaned.csv')\n",
    "df = pd.read_csv(data_path, encoding='latin-1', low_memory=False)\n",
    "print(df.head())"
   ]
  },
  {
   "cell_type": "markdown",
   "id": "399d84e1",
   "metadata": {},
   "source": [
    "## Parsing du nombre d'avis"
   ]
  },
  {
   "cell_type": "code",
   "execution_count": null,
   "id": "630b8b9b",
   "metadata": {},
   "outputs": [],
   "source": [
    "def parse_reviews(x):\n",
    "    if isinstance(x, str) and 'k' in x.lower():\n",
    "        return int(x.lower().replace('k+', '000').replace('k', '000'))\n",
    "    try:\n",
    "        return int(x)\n",
    "    except:\n",
    "        return 0\n",
    "\n",
    "df['num_reviews'] = df['Number of Reviewers'].apply(parse_reviews)\n",
    "print(df[['Number of Reviewers', 'num_reviews']].head())"
   ]
  },
  {
   "cell_type": "markdown",
   "id": "66bfee54",
   "metadata": {},
   "source": [
    "## Encodage one-hot du niveau du vendeur"
   ]
  },
  {
   "cell_type": "code",
   "execution_count": null,
   "id": "3731c3be",
   "metadata": {},
   "outputs": [],
   "source": [
    "levels = df['Seller Level'].fillna('Inconnu').values.reshape(-1, 1)\n",
    "ohe = OneHotEncoder(sparse=True, handle_unknown='ignore')\n",
    "ohe.fit(levels)\n",
    "X_level = ohe.transform(levels)\n",
    "print(\"One-hot shape:\", X_level.shape)"
   ]
  },
  {
   "cell_type": "markdown",
   "id": "bd01a273",
   "metadata": {},
   "source": [
    "## TF-IDF sur le titre"
   ]
  },
  {
   "cell_type": "code",
   "execution_count": null,
   "id": "a512d2ea",
   "metadata": {},
   "outputs": [],
   "source": [
    "tfidf = TfidfVectorizer(max_features=2000, stop_words='english')\n",
    "tfidf.fit(df['Title'].fillna(''))\n",
    "X_title = tfidf.transform(df['Title'].fillna(''))\n",
    "print(\"TF-IDF shape:\", X_title.shape)"
   ]
  },
  {
   "cell_type": "markdown",
   "id": "b7b8fcab",
   "metadata": {},
   "source": [
    "## Assemblage des features"
   ]
  },
  {
   "cell_type": "code",
   "execution_count": null,
   "id": "3c82a94a",
   "metadata": {},
   "outputs": [],
   "source": [
    "X_num = sparse.csr_matrix(df[['num_reviews']].values)\n",
    "X = sparse.hstack([X_title, X_level, X_num], format='csr')\n",
    "print(\"X total shape:\", X.shape)"
   ]
  },
  {
   "cell_type": "markdown",
   "id": "d2137389",
   "metadata": {},
   "source": [
    "## Extraction des cibles"
   ]
  },
  {
   "cell_type": "code",
   "execution_count": null,
   "id": "c3e05403",
   "metadata": {},
   "outputs": [],
   "source": [
    "y_price = df['Price (USD)'].values.astype(np.float32)\n",
    "y_rating = df['Average Rating'].values.astype(np.float32)\n",
    "label_map = {lvl: idx for idx, lvl in enumerate(ohe.categories_[0])}\n",
    "y_level = df['Seller Level'].fillna('Inconnu').map(label_map).values\n",
    "print(y_price[:5], y_rating[:5], y_level[:5])"
   ]
  },
  {
   "cell_type": "markdown",
   "id": "03abc8e3",
   "metadata": {},
   "source": [
    "## Sauvegarde des données préparées"
   ]
  },
  {
   "cell_type": "code",
   "execution_count": null,
   "id": "a50e8bb0",
   "metadata": {},
   "outputs": [],
   "source": [
    "out_dir = os.path.join('data', 'fiverr_features')\n",
    "os.makedirs(out_dir, exist_ok=True)\n",
    "sparse.save_npz(os.path.join(out_dir, 'X_features.npz'), X)\n",
    "np.save(os.path.join(out_dir, 'y_price.npy'), y_price)\n",
    "np.save(os.path.join(out_dir, 'y_rating.npy'), y_rating)\n",
    "np.save(os.path.join(out_dir, 'y_level.npy'), y_level)\n",
    "print(\"Données sauvegardées dans\", out_dir)"
   ]
  }
 ],
 "metadata": {},
 "nbformat": 4,
 "nbformat_minor": 5
}
