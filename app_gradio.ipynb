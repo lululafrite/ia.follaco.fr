{
 "cells": [
  {
   "cell_type": "markdown",
   "id": "12904ba5",
   "metadata": {},
   "source": [
    "# 03 - Déploiement et Interface Gradio\n",
    "\n",
    "Ce notebook montre comment déployer le modèle via une interface **Gradio** :\n",
    "- Chargement des préprocesseurs (TF-IDF, OneHot)\n",
    "- Chargement des modèles entraînés\n",
    "- Construction de la fonction de prédiction\n",
    "- Mise en place de l'interface interactive\n"
   ]
  },
  {
   "cell_type": "markdown",
   "id": "5b8d5f39",
   "metadata": {},
   "source": [
    "## Import des librairies"
   ]
  },
  {
   "cell_type": "code",
   "execution_count": null,
   "id": "accad57e",
   "metadata": {},
   "outputs": [],
   "source": [
    "import os\n",
    "import numpy as np\n",
    "import pandas as pd\n",
    "import joblib\n",
    "import gradio as gr\n",
    "from scipy import sparse\n",
    "from sklearn.feature_extraction.text import TfidfVectorizer\n",
    "from sklearn.preprocessing import OneHotEncoder\n",
    "import matplotlib.pyplot as plt"
   ]
  },
  {
   "cell_type": "markdown",
   "id": "ba4843dd",
   "metadata": {},
   "source": [
    "## Préprocesseurs"
   ]
  },
  {
   "cell_type": "code",
   "execution_count": null,
   "id": "f1ff6d43",
   "metadata": {},
   "outputs": [],
   "source": [
    "DATA_PATH = os.path.join('data', 'fiverr_gigs', 'fiverr-data-gigs-cleaned.csv')\n",
    "df = pd.read_csv(DATA_PATH, encoding='latin-1', low_memory=False)\n",
    "vectoriseur_titre = TfidfVectorizer(max_features=2000, stop_words='english')\n",
    "vectoriseur_titre.fit(df['Title'].fillna(''))\n",
    "encodeur_niveau = OneHotEncoder(sparse=False, handle_unknown='ignore')\n",
    "encodeur_niveau.fit(df['Seller Level'].fillna('Inconnu').values.reshape(-1, 1))"
   ]
  },
  {
   "cell_type": "markdown",
   "id": "5dcc5f7a",
   "metadata": {},
   "source": [
    "## Modèles"
   ]
  },
  {
   "cell_type": "code",
   "execution_count": null,
   "id": "89640df6",
   "metadata": {},
   "outputs": [],
   "source": [
    "MODELS_DIR = 'models'\n",
    "modele_reg = joblib.load(os.path.join(MODELS_DIR, 'mor_rf.pkl'))\n",
    "modele_clf = joblib.load(os.path.join(MODELS_DIR, 'level_clf.pkl'))"
   ]
  },
  {
   "cell_type": "markdown",
   "id": "dfabdc2c",
   "metadata": {},
   "source": [
    "## Fonction de prédiction"
   ]
  },
  {
   "cell_type": "code",
   "execution_count": null,
   "id": "ba1d1281",
   "metadata": {},
   "outputs": [],
   "source": [
    "def predict(titre_service, niveau_vendeur, nombre_avis):\n",
    "    vec_titre = vectoriseur_titre.transform([titre_service])\n",
    "    vec_niveau = encodeur_niveau.transform([[niveau_vendeur]])\n",
    "    vec_avis = sparse.csr_matrix(np.array([[int(nombre_avis)]]))\n",
    "    X = sparse.hstack([vec_titre, sparse.csr_matrix(vec_niveau), vec_avis], format='csr')\n",
    "    prix_pred, note_pred = modele_reg.predict(X)[0]\n",
    "    idx_niveau = modele_clf.predict(X)[0]\n",
    "    niveau_pred = encodeur_niveau.categories_[0][idx_niveau]\n",
    "    prix = round(float(prix_pred), 2)\n",
    "    note = round(float(note_pred), 2)\n",
    "    return prix, note, niveau_pred"
   ]
  },
  {
   "cell_type": "markdown",
   "id": "cf61aa5b",
   "metadata": {},
   "source": [
    "## Interface Gradio"
   ]
  },
  {
   "cell_type": "code",
   "execution_count": null,
   "id": "9f9f2d1b",
   "metadata": {},
   "outputs": [],
   "source": [
    "iface = gr.Interface(\n",
    "    fn=predict,\n",
    "    inputs=[\n",
    "        gr.Textbox(label=\"Titre du service\", placeholder=\"Ex: Je vais développer votre site web...\"),\n",
    "        gr.Dropdown(label=\"Niveau du vendeur\", choices=encodeur_niveau.categories_[0].tolist()),\n",
    "        gr.Number(label=\"Nombre d'avis\", value=0)\n",
    "    ],\n",
    "    outputs=[\n",
    "        gr.Number(label=\"Prix prédit (EUR)\"),\n",
    "        gr.Number(label=\"Note moyenne prédite\"),\n",
    "        gr.Textbox(label=\"Niveau du vendeur prédit\")\n",
    "    ],\n",
    "    title=\"Démo Prédiction Fiverr\",\n",
    "    description=\"Prédiction du prix, de la note et du niveau du vendeur via un modèle ML et une interface Gradio.\"\n",
    ")\n",
    "\n",
    "iface.launch()"
   ]
  }
 ],
 "metadata": {},
 "nbformat": 4,
 "nbformat_minor": 5
}
