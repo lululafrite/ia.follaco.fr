{
 "cells": [
  {
   "cell_type": "markdown",
   "id": "1ac3998e",
   "metadata": {},
   "source": [
    "### 🟦 Étape 1 : Chargement des bibliothèques et des données"
   ]
  },
  {
   "cell_type": "code",
   "execution_count": 5,
   "id": "4851d3ac",
   "metadata": {},
   "outputs": [
    {
     "name": "stdout",
     "output_type": "stream",
     "text": [
      "✅ Données chargées :\n",
      "X_train : (1007, 1327) X_test : (252, 1327)\n"
     ]
    }
   ],
   "source": [
    "# 📦 Import des librairies\n",
    "import joblib\n",
    "from sklearn.ensemble import RandomForestRegressor\n",
    "from sklearn.metrics import mean_absolute_error, mean_squared_error, r2_score\n",
    "\n",
    "# 📂 Chargement des données d'entraînement et de test\n",
    "X_train = joblib.load(\"train_test/X_train.pkl\")\n",
    "X_test = joblib.load(\"train_test/X_test.pkl\")\n",
    "y_train = joblib.load(\"train_test/y_train.pkl\")\n",
    "y_test = joblib.load(\"train_test/y_test.pkl\")\n",
    "\n",
    "print(\"✅ Données chargées :\")\n",
    "print(\"X_train :\", X_train.shape, \"X_test :\", X_test.shape)\n"
   ]
  },
  {
   "cell_type": "markdown",
   "id": "05d96833",
   "metadata": {},
   "source": [
    "### 🟦 Étape 2 : Entraînement du modèle"
   ]
  },
  {
   "cell_type": "code",
   "execution_count": 6,
   "id": "240c59ca",
   "metadata": {},
   "outputs": [
    {
     "name": "stdout",
     "output_type": "stream",
     "text": [
      "✅ Modèle entraîné et sauvegardé.\n"
     ]
    }
   ],
   "source": [
    "# 🚀 Initialisation et entraînement du modèle\n",
    "model = RandomForestRegressor(n_estimators=100, random_state=42)\n",
    "model.fit(X_train, y_train)\n",
    "\n",
    "# 💾 Sauvegarde du modèle\n",
    "joblib.dump(model, \"train_test/random_forest_model.pkl\")\n",
    "\n",
    "print(\"✅ Modèle entraîné et sauvegardé.\")\n"
   ]
  },
  {
   "cell_type": "markdown",
   "id": "de53cc44",
   "metadata": {},
   "source": [
    "### 🟦 Étape 3 : Évaluation du modèle"
   ]
  },
  {
   "cell_type": "code",
   "execution_count": 7,
   "id": "fa6bfe1d",
   "metadata": {},
   "outputs": [
    {
     "name": "stdout",
     "output_type": "stream",
     "text": [
      "MAE : 13.798\n",
      "RMSE : 59.810\n",
      "R² : -0.515\n"
     ]
    }
   ],
   "source": [
    "# 📊 Prédictions\n",
    "y_pred = model.predict(X_test)\n",
    "\n",
    "# 📈 Évaluation\n",
    "mae = mean_absolute_error(y_test, y_pred)\n",
    "mse = mean_squared_error(y_test, y_pred)\n",
    "rmse = mse ** 0.5\n",
    "r2 = r2_score(y_test, y_pred)\n",
    "\n",
    "print(f\"MAE : {mae:.3f}\")\n",
    "print(f\"RMSE : {rmse:.3f}\")\n",
    "print(f\"R² : {r2:.3f}\")\n"
   ]
  },
  {
   "cell_type": "code",
   "execution_count": 24,
   "id": "90be6252",
   "metadata": {},
   "outputs": [
    {
     "data": {
      "image/png": "[encoded data removed]",
      "text/plain": [
       "<Figure size 1000x400 with 1 Axes>"
      ]
     },
     "metadata": {},
     "output_type": "display_data"
    }
   ],
   "source": [
    "import matplotlib.pyplot as plt\n",
    "\n",
    "plt.figure(figsize=(10, 4))  # largeur x hauteur en pouces\n",
    "\n",
    "plt.hist(\n",
    "    y_train,\n",
    "    bins=200,\n",
    "    color='steelblue',\n",
    "    edgecolor='black',\n",
    "    orientation='horizontal'  # ✅ Histogramme horizontal\n",
    ")\n",
    "\n",
    "plt.title(\"Distribution des prix\")\n",
    "plt.ylabel(\"Prix\")                   # devient l'axe vertical\n",
    "plt.xlabel(\"Nombre d'observations\") # devient l'axe horizontal\n",
    "\n",
    "plt.ylim(0, 250)  # Exemple : zoom sur les prix entre 0 et 100\n",
    "\n",
    "plt.grid(True)\n",
    "plt.tight_layout()\n",
    "plt.show()\n",
    "\n"
   ]
  },
  {
   "cell_type": "code",
   "execution_count": 9,
   "id": "a4154f5c",
   "metadata": {},
   "outputs": [
    {
     "ename": "TypeError",
     "evalue": "cg() got an unexpected keyword argument 'tol'",
     "output_type": "error",
     "traceback": [
      "\u001b[31m---------------------------------------------------------------------------\u001b[39m",
      "\u001b[31mTypeError\u001b[39m                                 Traceback (most recent call last)",
      "\u001b[36mFile \u001b[39m\u001b[32mc:\\wamp64\\www\\ia.follaco.fr\\.venv\\Lib\\site-packages\\sklearn\\linear_model\\_ridge.py:115\u001b[39m, in \u001b[36m_solve_sparse_cg\u001b[39m\u001b[34m(X, y, alpha, max_iter, tol, verbose, X_offset, X_scale, sample_weight_sqrt)\u001b[39m\n\u001b[32m    114\u001b[39m \u001b[38;5;28;01mtry\u001b[39;00m:\n\u001b[32m--> \u001b[39m\u001b[32m115\u001b[39m     coef, info = \u001b[43msp_linalg\u001b[49m\u001b[43m.\u001b[49m\u001b[43mcg\u001b[49m\u001b[43m(\u001b[49m\u001b[43mC\u001b[49m\u001b[43m,\u001b[49m\u001b[43m \u001b[49m\u001b[43my_column\u001b[49m\u001b[43m,\u001b[49m\u001b[43m \u001b[49m\u001b[43mtol\u001b[49m\u001b[43m=\u001b[49m\u001b[43mtol\u001b[49m\u001b[43m,\u001b[49m\u001b[43m \u001b[49m\u001b[43matol\u001b[49m\u001b[43m=\u001b[49m\u001b[33;43m\"\u001b[39;49m\u001b[33;43mlegacy\u001b[39;49m\u001b[33;43m\"\u001b[39;49m\u001b[43m)\u001b[49m\n\u001b[32m    116\u001b[39m \u001b[38;5;28;01mexcept\u001b[39;00m \u001b[38;5;167;01mTypeError\u001b[39;00m:\n\u001b[32m    117\u001b[39m     \u001b[38;5;66;03m# old scipy\u001b[39;00m\n",
      "\u001b[31mTypeError\u001b[39m: cg() got an unexpected keyword argument 'tol'",
      "\nDuring handling of the above exception, another exception occurred:\n",
      "\u001b[31mTypeError\u001b[39m                                 Traceback (most recent call last)",
      "\u001b[36mCell\u001b[39m\u001b[36m \u001b[39m\u001b[32mIn[9]\u001b[39m\u001b[32m, line 4\u001b[39m\n\u001b[32m      1\u001b[39m \u001b[38;5;28;01mfrom\u001b[39;00m\u001b[38;5;250m \u001b[39m\u001b[34;01msklearn\u001b[39;00m\u001b[34;01m.\u001b[39;00m\u001b[34;01mlinear_model\u001b[39;00m\u001b[38;5;250m \u001b[39m\u001b[38;5;28;01mimport\u001b[39;00m Ridge\n\u001b[32m      3\u001b[39m model = Ridge(alpha=\u001b[32m1.0\u001b[39m)\n\u001b[32m----> \u001b[39m\u001b[32m4\u001b[39m \u001b[43mmodel\u001b[49m\u001b[43m.\u001b[49m\u001b[43mfit\u001b[49m\u001b[43m(\u001b[49m\u001b[43mX_train\u001b[49m\u001b[43m,\u001b[49m\u001b[43m \u001b[49m\u001b[43my_train\u001b[49m\u001b[43m)\u001b[49m\n\u001b[32m      5\u001b[39m y_pred = model.predict(X_test)\n\u001b[32m      7\u001b[39m \u001b[38;5;66;03m# évaluation\u001b[39;00m\n",
      "\u001b[36mFile \u001b[39m\u001b[32mc:\\wamp64\\www\\ia.follaco.fr\\.venv\\Lib\\site-packages\\sklearn\\linear_model\\_ridge.py:1134\u001b[39m, in \u001b[36mRidge.fit\u001b[39m\u001b[34m(self, X, y, sample_weight)\u001b[39m\n\u001b[32m   1125\u001b[39m _accept_sparse = _get_valid_accept_sparse(sparse.issparse(X), \u001b[38;5;28mself\u001b[39m.solver)\n\u001b[32m   1126\u001b[39m X, y = \u001b[38;5;28mself\u001b[39m._validate_data(\n\u001b[32m   1127\u001b[39m     X,\n\u001b[32m   1128\u001b[39m     y,\n\u001b[32m   (...)\u001b[39m\u001b[32m   1132\u001b[39m     y_numeric=\u001b[38;5;28;01mTrue\u001b[39;00m,\n\u001b[32m   1133\u001b[39m )\n\u001b[32m-> \u001b[39m\u001b[32m1134\u001b[39m \u001b[38;5;28;01mreturn\u001b[39;00m \u001b[38;5;28;43msuper\u001b[39;49m\u001b[43m(\u001b[49m\u001b[43m)\u001b[49m\u001b[43m.\u001b[49m\u001b[43mfit\u001b[49m\u001b[43m(\u001b[49m\u001b[43mX\u001b[49m\u001b[43m,\u001b[49m\u001b[43m \u001b[49m\u001b[43my\u001b[49m\u001b[43m,\u001b[49m\u001b[43m \u001b[49m\u001b[43msample_weight\u001b[49m\u001b[43m=\u001b[49m\u001b[43msample_weight\u001b[49m\u001b[43m)\u001b[49m\n",
      "\u001b[36mFile \u001b[39m\u001b[32mc:\\wamp64\\www\\ia.follaco.fr\\.venv\\Lib\\site-packages\\sklearn\\linear_model\\_ridge.py:900\u001b[39m, in \u001b[36m_BaseRidge.fit\u001b[39m\u001b[34m(self, X, y, sample_weight)\u001b[39m\n\u001b[32m    896\u001b[39m     \u001b[38;5;28;01melse\u001b[39;00m:\n\u001b[32m    897\u001b[39m         \u001b[38;5;66;03m# for dense matrices or when intercept is set to 0\u001b[39;00m\n\u001b[32m    898\u001b[39m         params = {}\n\u001b[32m--> \u001b[39m\u001b[32m900\u001b[39m     \u001b[38;5;28mself\u001b[39m.coef_, \u001b[38;5;28mself\u001b[39m.n_iter_ = \u001b[43m_ridge_regression\u001b[49m\u001b[43m(\u001b[49m\n\u001b[32m    901\u001b[39m \u001b[43m        \u001b[49m\u001b[43mX\u001b[49m\u001b[43m,\u001b[49m\n\u001b[32m    902\u001b[39m \u001b[43m        \u001b[49m\u001b[43my\u001b[49m\u001b[43m,\u001b[49m\n\u001b[32m    903\u001b[39m \u001b[43m        \u001b[49m\u001b[43malpha\u001b[49m\u001b[43m=\u001b[49m\u001b[38;5;28;43mself\u001b[39;49m\u001b[43m.\u001b[49m\u001b[43malpha\u001b[49m\u001b[43m,\u001b[49m\n\u001b[32m    904\u001b[39m \u001b[43m        \u001b[49m\u001b[43msample_weight\u001b[49m\u001b[43m=\u001b[49m\u001b[43msample_weight\u001b[49m\u001b[43m,\u001b[49m\n\u001b[32m    905\u001b[39m \u001b[43m        \u001b[49m\u001b[43mmax_iter\u001b[49m\u001b[43m=\u001b[49m\u001b[38;5;28;43mself\u001b[39;49m\u001b[43m.\u001b[49m\u001b[43mmax_iter\u001b[49m\u001b[43m,\u001b[49m\n\u001b[32m    906\u001b[39m \u001b[43m        \u001b[49m\u001b[43mtol\u001b[49m\u001b[43m=\u001b[49m\u001b[38;5;28;43mself\u001b[39;49m\u001b[43m.\u001b[49m\u001b[43mtol\u001b[49m\u001b[43m,\u001b[49m\n\u001b[32m    907\u001b[39m \u001b[43m        \u001b[49m\u001b[43msolver\u001b[49m\u001b[43m=\u001b[49m\u001b[43msolver\u001b[49m\u001b[43m,\u001b[49m\n\u001b[32m    908\u001b[39m \u001b[43m        \u001b[49m\u001b[43mpositive\u001b[49m\u001b[43m=\u001b[49m\u001b[38;5;28;43mself\u001b[39;49m\u001b[43m.\u001b[49m\u001b[43mpositive\u001b[49m\u001b[43m,\u001b[49m\n\u001b[32m    909\u001b[39m \u001b[43m        \u001b[49m\u001b[43mrandom_state\u001b[49m\u001b[43m=\u001b[49m\u001b[38;5;28;43mself\u001b[39;49m\u001b[43m.\u001b[49m\u001b[43mrandom_state\u001b[49m\u001b[43m,\u001b[49m\n\u001b[32m    910\u001b[39m \u001b[43m        \u001b[49m\u001b[43mreturn_n_iter\u001b[49m\u001b[43m=\u001b[49m\u001b[38;5;28;43;01mTrue\u001b[39;49;00m\u001b[43m,\u001b[49m\n\u001b[32m    911\u001b[39m \u001b[43m        \u001b[49m\u001b[43mreturn_intercept\u001b[49m\u001b[43m=\u001b[49m\u001b[38;5;28;43;01mFalse\u001b[39;49;00m\u001b[43m,\u001b[49m\n\u001b[32m    912\u001b[39m \u001b[43m        \u001b[49m\u001b[43mcheck_input\u001b[49m\u001b[43m=\u001b[49m\u001b[38;5;28;43;01mFalse\u001b[39;49;00m\u001b[43m,\u001b[49m\n\u001b[32m    913\u001b[39m \u001b[43m        \u001b[49m\u001b[43mfit_intercept\u001b[49m\u001b[43m=\u001b[49m\u001b[38;5;28;43mself\u001b[39;49m\u001b[43m.\u001b[49m\u001b[43mfit_intercept\u001b[49m\u001b[43m,\u001b[49m\n\u001b[32m    914\u001b[39m \u001b[43m        \u001b[49m\u001b[43m*\u001b[49m\u001b[43m*\u001b[49m\u001b[43mparams\u001b[49m\u001b[43m,\u001b[49m\n\u001b[32m    915\u001b[39m \u001b[43m    \u001b[49m\u001b[43m)\u001b[49m\n\u001b[32m    916\u001b[39m     \u001b[38;5;28mself\u001b[39m._set_intercept(X_offset, y_offset, X_scale)\n\u001b[32m    918\u001b[39m \u001b[38;5;28;01mreturn\u001b[39;00m \u001b[38;5;28mself\u001b[39m\n",
      "\u001b[36mFile \u001b[39m\u001b[32mc:\\wamp64\\www\\ia.follaco.fr\\.venv\\Lib\\site-packages\\sklearn\\linear_model\\_ridge.py:671\u001b[39m, in \u001b[36m_ridge_regression\u001b[39m\u001b[34m(X, y, alpha, sample_weight, solver, max_iter, tol, verbose, positive, random_state, return_n_iter, return_intercept, X_scale, X_offset, check_input, fit_intercept)\u001b[39m\n\u001b[32m    669\u001b[39m n_iter = \u001b[38;5;28;01mNone\u001b[39;00m\n\u001b[32m    670\u001b[39m \u001b[38;5;28;01mif\u001b[39;00m solver == \u001b[33m\"\u001b[39m\u001b[33msparse_cg\u001b[39m\u001b[33m\"\u001b[39m:\n\u001b[32m--> \u001b[39m\u001b[32m671\u001b[39m     coef = \u001b[43m_solve_sparse_cg\u001b[49m\u001b[43m(\u001b[49m\n\u001b[32m    672\u001b[39m \u001b[43m        \u001b[49m\u001b[43mX\u001b[49m\u001b[43m,\u001b[49m\n\u001b[32m    673\u001b[39m \u001b[43m        \u001b[49m\u001b[43my\u001b[49m\u001b[43m,\u001b[49m\n\u001b[32m    674\u001b[39m \u001b[43m        \u001b[49m\u001b[43malpha\u001b[49m\u001b[43m,\u001b[49m\n\u001b[32m    675\u001b[39m \u001b[43m        \u001b[49m\u001b[43mmax_iter\u001b[49m\u001b[43m=\u001b[49m\u001b[43mmax_iter\u001b[49m\u001b[43m,\u001b[49m\n\u001b[32m    676\u001b[39m \u001b[43m        \u001b[49m\u001b[43mtol\u001b[49m\u001b[43m=\u001b[49m\u001b[43mtol\u001b[49m\u001b[43m,\u001b[49m\n\u001b[32m    677\u001b[39m \u001b[43m        \u001b[49m\u001b[43mverbose\u001b[49m\u001b[43m=\u001b[49m\u001b[43mverbose\u001b[49m\u001b[43m,\u001b[49m\n\u001b[32m    678\u001b[39m \u001b[43m        \u001b[49m\u001b[43mX_offset\u001b[49m\u001b[43m=\u001b[49m\u001b[43mX_offset\u001b[49m\u001b[43m,\u001b[49m\n\u001b[32m    679\u001b[39m \u001b[43m        \u001b[49m\u001b[43mX_scale\u001b[49m\u001b[43m=\u001b[49m\u001b[43mX_scale\u001b[49m\u001b[43m,\u001b[49m\n\u001b[32m    680\u001b[39m \u001b[43m        \u001b[49m\u001b[43msample_weight_sqrt\u001b[49m\u001b[43m=\u001b[49m\u001b[43msample_weight_sqrt\u001b[49m\u001b[43m \u001b[49m\u001b[38;5;28;43;01mif\u001b[39;49;00m\u001b[43m \u001b[49m\u001b[43mhas_sw\u001b[49m\u001b[43m \u001b[49m\u001b[38;5;28;43;01melse\u001b[39;49;00m\u001b[43m \u001b[49m\u001b[38;5;28;43;01mNone\u001b[39;49;00m\u001b[43m,\u001b[49m\n\u001b[32m    681\u001b[39m \u001b[43m    \u001b[49m\u001b[43m)\u001b[49m\n\u001b[32m    683\u001b[39m \u001b[38;5;28;01melif\u001b[39;00m solver == \u001b[33m\"\u001b[39m\u001b[33mlsqr\u001b[39m\u001b[33m\"\u001b[39m:\n\u001b[32m    684\u001b[39m     coef, n_iter = _solve_lsqr(\n\u001b[32m    685\u001b[39m         X,\n\u001b[32m    686\u001b[39m         y,\n\u001b[32m   (...)\u001b[39m\u001b[32m    693\u001b[39m         sample_weight_sqrt=sample_weight_sqrt \u001b[38;5;28;01mif\u001b[39;00m has_sw \u001b[38;5;28;01melse\u001b[39;00m \u001b[38;5;28;01mNone\u001b[39;00m,\n\u001b[32m    694\u001b[39m     )\n",
      "\u001b[36mFile \u001b[39m\u001b[32mc:\\wamp64\\www\\ia.follaco.fr\\.venv\\Lib\\site-packages\\sklearn\\linear_model\\_ridge.py:118\u001b[39m, in \u001b[36m_solve_sparse_cg\u001b[39m\u001b[34m(X, y, alpha, max_iter, tol, verbose, X_offset, X_scale, sample_weight_sqrt)\u001b[39m\n\u001b[32m    115\u001b[39m         coef, info = sp_linalg.cg(C, y_column, tol=tol, atol=\u001b[33m\"\u001b[39m\u001b[33mlegacy\u001b[39m\u001b[33m\"\u001b[39m)\n\u001b[32m    116\u001b[39m     \u001b[38;5;28;01mexcept\u001b[39;00m \u001b[38;5;167;01mTypeError\u001b[39;00m:\n\u001b[32m    117\u001b[39m         \u001b[38;5;66;03m# old scipy\u001b[39;00m\n\u001b[32m--> \u001b[39m\u001b[32m118\u001b[39m         coef, info = \u001b[43msp_linalg\u001b[49m\u001b[43m.\u001b[49m\u001b[43mcg\u001b[49m\u001b[43m(\u001b[49m\u001b[43mC\u001b[49m\u001b[43m,\u001b[49m\u001b[43m \u001b[49m\u001b[43my_column\u001b[49m\u001b[43m,\u001b[49m\u001b[43m \u001b[49m\u001b[43mtol\u001b[49m\u001b[43m=\u001b[49m\u001b[43mtol\u001b[49m\u001b[43m)\u001b[49m\n\u001b[32m    119\u001b[39m     coefs[i] = X1.rmatvec(coef)\n\u001b[32m    120\u001b[39m \u001b[38;5;28;01melse\u001b[39;00m:\n\u001b[32m    121\u001b[39m     \u001b[38;5;66;03m# linear ridge\u001b[39;00m\n\u001b[32m    122\u001b[39m     \u001b[38;5;66;03m# w = inv(X^t X + alpha*Id) * X.T y\u001b[39;00m\n",
      "\u001b[31mTypeError\u001b[39m: cg() got an unexpected keyword argument 'tol'"
     ]
    }
   ],
   "source": [
    "from sklearn.linear_model import Ridge\n",
    "\n",
    "model = Ridge(alpha=1.0)\n",
    "model.fit(X_train, y_train)\n",
    "y_pred = model.predict(X_test)\n",
    "\n",
    "# évaluation\n",
    "print(\"MAE :\", mean_absolute_error(y_test, y_pred))\n",
    "print(\"RMSE :\", mean_squared_error(y_test, y_pred) ** 0.5)\n",
    "print(\"R² :\", r2_score(y_test, y_pred))"
   ]
  }
 ],
 "metadata": {
  "kernelspec": {
   "display_name": ".venv",
   "language": "python",
   "name": "python3"
  },
  "language_info": {
   "codemirror_mode": {
    "name": "ipython",
    "version": 3
   },
   "file_extension": ".py",
   "mimetype": "text/x-python",
   "name": "python",
   "nbconvert_exporter": "python",
   "pygments_lexer": "ipython3",
   "version": "3.11.9"
  }
 },
 "nbformat": 4,
 "nbformat_minor": 5
}
